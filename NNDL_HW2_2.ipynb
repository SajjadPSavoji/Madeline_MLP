{
  "nbformat": 4,
  "nbformat_minor": 0,
  "metadata": {
    "colab": {
      "name": "NNDL_HW2_2.ipynb",
      "provenance": [],
      "collapsed_sections": []
    },
    "kernelspec": {
      "name": "python3",
      "display_name": "Python 3"
    },
    "widgets": {
      "application/vnd.jupyter.widget-state+json": {
        "d8ebfa00f9884ff5b61d285542fe1585": {
          "model_module": "@jupyter-widgets/controls",
          "model_name": "HBoxModel",
          "state": {
            "_view_name": "HBoxView",
            "_dom_classes": [],
            "_model_name": "HBoxModel",
            "_view_module": "@jupyter-widgets/controls",
            "_model_module_version": "1.5.0",
            "_view_count": null,
            "_view_module_version": "1.5.0",
            "box_style": "",
            "layout": "IPY_MODEL_8d69f721a89345febf0566590de9fb97",
            "_model_module": "@jupyter-widgets/controls",
            "children": [
              "IPY_MODEL_ab82aac38f94405f9b455652aa16ecad",
              "IPY_MODEL_4dee2e3db2a84419a0a237760915246d"
            ]
          }
        },
        "8d69f721a89345febf0566590de9fb97": {
          "model_module": "@jupyter-widgets/base",
          "model_name": "LayoutModel",
          "state": {
            "_view_name": "LayoutView",
            "grid_template_rows": null,
            "right": null,
            "justify_content": null,
            "_view_module": "@jupyter-widgets/base",
            "overflow": null,
            "_model_module_version": "1.2.0",
            "_view_count": null,
            "flex_flow": null,
            "width": null,
            "min_width": null,
            "border": null,
            "align_items": null,
            "bottom": null,
            "_model_module": "@jupyter-widgets/base",
            "top": null,
            "grid_column": null,
            "overflow_y": null,
            "overflow_x": null,
            "grid_auto_flow": null,
            "grid_area": null,
            "grid_template_columns": null,
            "flex": null,
            "_model_name": "LayoutModel",
            "justify_items": null,
            "grid_row": null,
            "max_height": null,
            "align_content": null,
            "visibility": null,
            "align_self": null,
            "height": null,
            "min_height": null,
            "padding": null,
            "grid_auto_rows": null,
            "grid_gap": null,
            "max_width": null,
            "order": null,
            "_view_module_version": "1.2.0",
            "grid_template_areas": null,
            "object_position": null,
            "object_fit": null,
            "grid_auto_columns": null,
            "margin": null,
            "display": null,
            "left": null
          }
        },
        "ab82aac38f94405f9b455652aa16ecad": {
          "model_module": "@jupyter-widgets/controls",
          "model_name": "IntProgressModel",
          "state": {
            "_view_name": "ProgressView",
            "style": "IPY_MODEL_94c4867e1bf64a05a240b701177704d4",
            "_dom_classes": [],
            "description": "Validation: 100%",
            "_model_name": "IntProgressModel",
            "bar_style": "success",
            "max": 1000,
            "_view_module": "@jupyter-widgets/controls",
            "_model_module_version": "1.5.0",
            "value": 1000,
            "_view_count": null,
            "_view_module_version": "1.5.0",
            "orientation": "horizontal",
            "min": 0,
            "description_tooltip": null,
            "_model_module": "@jupyter-widgets/controls",
            "layout": "IPY_MODEL_daf1ecc3b1f84eabba64a2435393aa30"
          }
        },
        "4dee2e3db2a84419a0a237760915246d": {
          "model_module": "@jupyter-widgets/controls",
          "model_name": "HTMLModel",
          "state": {
            "_view_name": "HTMLView",
            "style": "IPY_MODEL_db749cb9b38c439baf08af5ce4f8aa25",
            "_dom_classes": [],
            "description": "",
            "_model_name": "HTMLModel",
            "placeholder": "​",
            "_view_module": "@jupyter-widgets/controls",
            "_model_module_version": "1.5.0",
            "value": " 1000/1000 [00:02&lt;00:00, 362.25it/s]",
            "_view_count": null,
            "_view_module_version": "1.5.0",
            "description_tooltip": null,
            "_model_module": "@jupyter-widgets/controls",
            "layout": "IPY_MODEL_8ea8e5d7751d417ba89367dcd412bc3e"
          }
        },
        "94c4867e1bf64a05a240b701177704d4": {
          "model_module": "@jupyter-widgets/controls",
          "model_name": "ProgressStyleModel",
          "state": {
            "_view_name": "StyleView",
            "_model_name": "ProgressStyleModel",
            "description_width": "initial",
            "_view_module": "@jupyter-widgets/base",
            "_model_module_version": "1.5.0",
            "_view_count": null,
            "_view_module_version": "1.2.0",
            "bar_color": null,
            "_model_module": "@jupyter-widgets/controls"
          }
        },
        "daf1ecc3b1f84eabba64a2435393aa30": {
          "model_module": "@jupyter-widgets/base",
          "model_name": "LayoutModel",
          "state": {
            "_view_name": "LayoutView",
            "grid_template_rows": null,
            "right": null,
            "justify_content": null,
            "_view_module": "@jupyter-widgets/base",
            "overflow": null,
            "_model_module_version": "1.2.0",
            "_view_count": null,
            "flex_flow": null,
            "width": null,
            "min_width": null,
            "border": null,
            "align_items": null,
            "bottom": null,
            "_model_module": "@jupyter-widgets/base",
            "top": null,
            "grid_column": null,
            "overflow_y": null,
            "overflow_x": null,
            "grid_auto_flow": null,
            "grid_area": null,
            "grid_template_columns": null,
            "flex": null,
            "_model_name": "LayoutModel",
            "justify_items": null,
            "grid_row": null,
            "max_height": null,
            "align_content": null,
            "visibility": null,
            "align_self": null,
            "height": null,
            "min_height": null,
            "padding": null,
            "grid_auto_rows": null,
            "grid_gap": null,
            "max_width": null,
            "order": null,
            "_view_module_version": "1.2.0",
            "grid_template_areas": null,
            "object_position": null,
            "object_fit": null,
            "grid_auto_columns": null,
            "margin": null,
            "display": null,
            "left": null
          }
        },
        "db749cb9b38c439baf08af5ce4f8aa25": {
          "model_module": "@jupyter-widgets/controls",
          "model_name": "DescriptionStyleModel",
          "state": {
            "_view_name": "StyleView",
            "_model_name": "DescriptionStyleModel",
            "description_width": "",
            "_view_module": "@jupyter-widgets/base",
            "_model_module_version": "1.5.0",
            "_view_count": null,
            "_view_module_version": "1.2.0",
            "_model_module": "@jupyter-widgets/controls"
          }
        },
        "8ea8e5d7751d417ba89367dcd412bc3e": {
          "model_module": "@jupyter-widgets/base",
          "model_name": "LayoutModel",
          "state": {
            "_view_name": "LayoutView",
            "grid_template_rows": null,
            "right": null,
            "justify_content": null,
            "_view_module": "@jupyter-widgets/base",
            "overflow": null,
            "_model_module_version": "1.2.0",
            "_view_count": null,
            "flex_flow": null,
            "width": null,
            "min_width": null,
            "border": null,
            "align_items": null,
            "bottom": null,
            "_model_module": "@jupyter-widgets/base",
            "top": null,
            "grid_column": null,
            "overflow_y": null,
            "overflow_x": null,
            "grid_auto_flow": null,
            "grid_area": null,
            "grid_template_columns": null,
            "flex": null,
            "_model_name": "LayoutModel",
            "justify_items": null,
            "grid_row": null,
            "max_height": null,
            "align_content": null,
            "visibility": null,
            "align_self": null,
            "height": null,
            "min_height": null,
            "padding": null,
            "grid_auto_rows": null,
            "grid_gap": null,
            "max_width": null,
            "order": null,
            "_view_module_version": "1.2.0",
            "grid_template_areas": null,
            "object_position": null,
            "object_fit": null,
            "grid_auto_columns": null,
            "margin": null,
            "display": null,
            "left": null
          }
        },
        "a4cc7aeee10947e2b3f0b72e41726cd7": {
          "model_module": "@jupyter-widgets/controls",
          "model_name": "HBoxModel",
          "state": {
            "_view_name": "HBoxView",
            "_dom_classes": [],
            "_model_name": "HBoxModel",
            "_view_module": "@jupyter-widgets/controls",
            "_model_module_version": "1.5.0",
            "_view_count": null,
            "_view_module_version": "1.5.0",
            "box_style": "",
            "layout": "IPY_MODEL_1d57301ff0b342309e2e1454fabcc1f2",
            "_model_module": "@jupyter-widgets/controls",
            "children": [
              "IPY_MODEL_2856d9521fd6458b98a062d141f9881e",
              "IPY_MODEL_f84849643cb34d12abd8fe6ffdcc5e4e"
            ]
          }
        },
        "1d57301ff0b342309e2e1454fabcc1f2": {
          "model_module": "@jupyter-widgets/base",
          "model_name": "LayoutModel",
          "state": {
            "_view_name": "LayoutView",
            "grid_template_rows": null,
            "right": null,
            "justify_content": null,
            "_view_module": "@jupyter-widgets/base",
            "overflow": null,
            "_model_module_version": "1.2.0",
            "_view_count": null,
            "flex_flow": null,
            "width": null,
            "min_width": null,
            "border": null,
            "align_items": null,
            "bottom": null,
            "_model_module": "@jupyter-widgets/base",
            "top": null,
            "grid_column": null,
            "overflow_y": null,
            "overflow_x": null,
            "grid_auto_flow": null,
            "grid_area": null,
            "grid_template_columns": null,
            "flex": null,
            "_model_name": "LayoutModel",
            "justify_items": null,
            "grid_row": null,
            "max_height": null,
            "align_content": null,
            "visibility": null,
            "align_self": null,
            "height": null,
            "min_height": null,
            "padding": null,
            "grid_auto_rows": null,
            "grid_gap": null,
            "max_width": null,
            "order": null,
            "_view_module_version": "1.2.0",
            "grid_template_areas": null,
            "object_position": null,
            "object_fit": null,
            "grid_auto_columns": null,
            "margin": null,
            "display": null,
            "left": null
          }
        },
        "2856d9521fd6458b98a062d141f9881e": {
          "model_module": "@jupyter-widgets/controls",
          "model_name": "IntProgressModel",
          "state": {
            "_view_name": "ProgressView",
            "style": "IPY_MODEL_03024b00485a4cc6aed1e1bcb274e784",
            "_dom_classes": [],
            "description": "Validation: 100%",
            "_model_name": "IntProgressModel",
            "bar_style": "success",
            "max": 4000,
            "_view_module": "@jupyter-widgets/controls",
            "_model_module_version": "1.5.0",
            "value": 4000,
            "_view_count": null,
            "_view_module_version": "1.5.0",
            "orientation": "horizontal",
            "min": 0,
            "description_tooltip": null,
            "_model_module": "@jupyter-widgets/controls",
            "layout": "IPY_MODEL_a1f9f187347a4dc2b4c4b9e3dfd66fd1"
          }
        },
        "f84849643cb34d12abd8fe6ffdcc5e4e": {
          "model_module": "@jupyter-widgets/controls",
          "model_name": "HTMLModel",
          "state": {
            "_view_name": "HTMLView",
            "style": "IPY_MODEL_ce650affdbbf445980a7924d4e574d39",
            "_dom_classes": [],
            "description": "",
            "_model_name": "HTMLModel",
            "placeholder": "​",
            "_view_module": "@jupyter-widgets/controls",
            "_model_module_version": "1.5.0",
            "value": " 4000/4000 [00:10&lt;00:00, 396.84it/s]",
            "_view_count": null,
            "_view_module_version": "1.5.0",
            "description_tooltip": null,
            "_model_module": "@jupyter-widgets/controls",
            "layout": "IPY_MODEL_481a29fb0e20480a9be0bbefb09ac584"
          }
        },
        "03024b00485a4cc6aed1e1bcb274e784": {
          "model_module": "@jupyter-widgets/controls",
          "model_name": "ProgressStyleModel",
          "state": {
            "_view_name": "StyleView",
            "_model_name": "ProgressStyleModel",
            "description_width": "initial",
            "_view_module": "@jupyter-widgets/base",
            "_model_module_version": "1.5.0",
            "_view_count": null,
            "_view_module_version": "1.2.0",
            "bar_color": null,
            "_model_module": "@jupyter-widgets/controls"
          }
        },
        "a1f9f187347a4dc2b4c4b9e3dfd66fd1": {
          "model_module": "@jupyter-widgets/base",
          "model_name": "LayoutModel",
          "state": {
            "_view_name": "LayoutView",
            "grid_template_rows": null,
            "right": null,
            "justify_content": null,
            "_view_module": "@jupyter-widgets/base",
            "overflow": null,
            "_model_module_version": "1.2.0",
            "_view_count": null,
            "flex_flow": null,
            "width": null,
            "min_width": null,
            "border": null,
            "align_items": null,
            "bottom": null,
            "_model_module": "@jupyter-widgets/base",
            "top": null,
            "grid_column": null,
            "overflow_y": null,
            "overflow_x": null,
            "grid_auto_flow": null,
            "grid_area": null,
            "grid_template_columns": null,
            "flex": null,
            "_model_name": "LayoutModel",
            "justify_items": null,
            "grid_row": null,
            "max_height": null,
            "align_content": null,
            "visibility": null,
            "align_self": null,
            "height": null,
            "min_height": null,
            "padding": null,
            "grid_auto_rows": null,
            "grid_gap": null,
            "max_width": null,
            "order": null,
            "_view_module_version": "1.2.0",
            "grid_template_areas": null,
            "object_position": null,
            "object_fit": null,
            "grid_auto_columns": null,
            "margin": null,
            "display": null,
            "left": null
          }
        },
        "ce650affdbbf445980a7924d4e574d39": {
          "model_module": "@jupyter-widgets/controls",
          "model_name": "DescriptionStyleModel",
          "state": {
            "_view_name": "StyleView",
            "_model_name": "DescriptionStyleModel",
            "description_width": "",
            "_view_module": "@jupyter-widgets/base",
            "_model_module_version": "1.5.0",
            "_view_count": null,
            "_view_module_version": "1.2.0",
            "_model_module": "@jupyter-widgets/controls"
          }
        },
        "481a29fb0e20480a9be0bbefb09ac584": {
          "model_module": "@jupyter-widgets/base",
          "model_name": "LayoutModel",
          "state": {
            "_view_name": "LayoutView",
            "grid_template_rows": null,
            "right": null,
            "justify_content": null,
            "_view_module": "@jupyter-widgets/base",
            "overflow": null,
            "_model_module_version": "1.2.0",
            "_view_count": null,
            "flex_flow": null,
            "width": null,
            "min_width": null,
            "border": null,
            "align_items": null,
            "bottom": null,
            "_model_module": "@jupyter-widgets/base",
            "top": null,
            "grid_column": null,
            "overflow_y": null,
            "overflow_x": null,
            "grid_auto_flow": null,
            "grid_area": null,
            "grid_template_columns": null,
            "flex": null,
            "_model_name": "LayoutModel",
            "justify_items": null,
            "grid_row": null,
            "max_height": null,
            "align_content": null,
            "visibility": null,
            "align_self": null,
            "height": null,
            "min_height": null,
            "padding": null,
            "grid_auto_rows": null,
            "grid_gap": null,
            "max_width": null,
            "order": null,
            "_view_module_version": "1.2.0",
            "grid_template_areas": null,
            "object_position": null,
            "object_fit": null,
            "grid_auto_columns": null,
            "margin": null,
            "display": null,
            "left": null
          }
        },
        "3571b1fbb2d2488fa1becafd92c26f58": {
          "model_module": "@jupyter-widgets/controls",
          "model_name": "HBoxModel",
          "state": {
            "_view_name": "HBoxView",
            "_dom_classes": [],
            "_model_name": "HBoxModel",
            "_view_module": "@jupyter-widgets/controls",
            "_model_module_version": "1.5.0",
            "_view_count": null,
            "_view_module_version": "1.5.0",
            "box_style": "",
            "layout": "IPY_MODEL_be767f88e7ac4f92b1aff92fc7faf338",
            "_model_module": "@jupyter-widgets/controls",
            "children": [
              "IPY_MODEL_1add438f411744248bfb510612fcae7e",
              "IPY_MODEL_1d50caa15a184f7fbd775376991b4f0a"
            ]
          }
        },
        "be767f88e7ac4f92b1aff92fc7faf338": {
          "model_module": "@jupyter-widgets/base",
          "model_name": "LayoutModel",
          "state": {
            "_view_name": "LayoutView",
            "grid_template_rows": null,
            "right": null,
            "justify_content": null,
            "_view_module": "@jupyter-widgets/base",
            "overflow": null,
            "_model_module_version": "1.2.0",
            "_view_count": null,
            "flex_flow": null,
            "width": null,
            "min_width": null,
            "border": null,
            "align_items": null,
            "bottom": null,
            "_model_module": "@jupyter-widgets/base",
            "top": null,
            "grid_column": null,
            "overflow_y": null,
            "overflow_x": null,
            "grid_auto_flow": null,
            "grid_area": null,
            "grid_template_columns": null,
            "flex": null,
            "_model_name": "LayoutModel",
            "justify_items": null,
            "grid_row": null,
            "max_height": null,
            "align_content": null,
            "visibility": null,
            "align_self": null,
            "height": null,
            "min_height": null,
            "padding": null,
            "grid_auto_rows": null,
            "grid_gap": null,
            "max_width": null,
            "order": null,
            "_view_module_version": "1.2.0",
            "grid_template_areas": null,
            "object_position": null,
            "object_fit": null,
            "grid_auto_columns": null,
            "margin": null,
            "display": null,
            "left": null
          }
        },
        "1add438f411744248bfb510612fcae7e": {
          "model_module": "@jupyter-widgets/controls",
          "model_name": "IntProgressModel",
          "state": {
            "_view_name": "ProgressView",
            "style": "IPY_MODEL_5b7c2513dd544ec298f6b38f8b1b2e0e",
            "_dom_classes": [],
            "description": "Validation: 100%",
            "_model_name": "IntProgressModel",
            "bar_style": "success",
            "max": 1000,
            "_view_module": "@jupyter-widgets/controls",
            "_model_module_version": "1.5.0",
            "value": 1000,
            "_view_count": null,
            "_view_module_version": "1.5.0",
            "orientation": "horizontal",
            "min": 0,
            "description_tooltip": null,
            "_model_module": "@jupyter-widgets/controls",
            "layout": "IPY_MODEL_487af78aabe74242be7f44627d421d91"
          }
        },
        "1d50caa15a184f7fbd775376991b4f0a": {
          "model_module": "@jupyter-widgets/controls",
          "model_name": "HTMLModel",
          "state": {
            "_view_name": "HTMLView",
            "style": "IPY_MODEL_9cb2941826a74e70858ee98f7bbb7592",
            "_dom_classes": [],
            "description": "",
            "_model_name": "HTMLModel",
            "placeholder": "​",
            "_view_module": "@jupyter-widgets/controls",
            "_model_module_version": "1.5.0",
            "value": " 1000/1000 [00:02&lt;00:00, 373.47it/s]",
            "_view_count": null,
            "_view_module_version": "1.5.0",
            "description_tooltip": null,
            "_model_module": "@jupyter-widgets/controls",
            "layout": "IPY_MODEL_fa00e4ca8581405083ac801ce50d0911"
          }
        },
        "5b7c2513dd544ec298f6b38f8b1b2e0e": {
          "model_module": "@jupyter-widgets/controls",
          "model_name": "ProgressStyleModel",
          "state": {
            "_view_name": "StyleView",
            "_model_name": "ProgressStyleModel",
            "description_width": "initial",
            "_view_module": "@jupyter-widgets/base",
            "_model_module_version": "1.5.0",
            "_view_count": null,
            "_view_module_version": "1.2.0",
            "bar_color": null,
            "_model_module": "@jupyter-widgets/controls"
          }
        },
        "487af78aabe74242be7f44627d421d91": {
          "model_module": "@jupyter-widgets/base",
          "model_name": "LayoutModel",
          "state": {
            "_view_name": "LayoutView",
            "grid_template_rows": null,
            "right": null,
            "justify_content": null,
            "_view_module": "@jupyter-widgets/base",
            "overflow": null,
            "_model_module_version": "1.2.0",
            "_view_count": null,
            "flex_flow": null,
            "width": null,
            "min_width": null,
            "border": null,
            "align_items": null,
            "bottom": null,
            "_model_module": "@jupyter-widgets/base",
            "top": null,
            "grid_column": null,
            "overflow_y": null,
            "overflow_x": null,
            "grid_auto_flow": null,
            "grid_area": null,
            "grid_template_columns": null,
            "flex": null,
            "_model_name": "LayoutModel",
            "justify_items": null,
            "grid_row": null,
            "max_height": null,
            "align_content": null,
            "visibility": null,
            "align_self": null,
            "height": null,
            "min_height": null,
            "padding": null,
            "grid_auto_rows": null,
            "grid_gap": null,
            "max_width": null,
            "order": null,
            "_view_module_version": "1.2.0",
            "grid_template_areas": null,
            "object_position": null,
            "object_fit": null,
            "grid_auto_columns": null,
            "margin": null,
            "display": null,
            "left": null
          }
        },
        "9cb2941826a74e70858ee98f7bbb7592": {
          "model_module": "@jupyter-widgets/controls",
          "model_name": "DescriptionStyleModel",
          "state": {
            "_view_name": "StyleView",
            "_model_name": "DescriptionStyleModel",
            "description_width": "",
            "_view_module": "@jupyter-widgets/base",
            "_model_module_version": "1.5.0",
            "_view_count": null,
            "_view_module_version": "1.2.0",
            "_model_module": "@jupyter-widgets/controls"
          }
        },
        "fa00e4ca8581405083ac801ce50d0911": {
          "model_module": "@jupyter-widgets/base",
          "model_name": "LayoutModel",
          "state": {
            "_view_name": "LayoutView",
            "grid_template_rows": null,
            "right": null,
            "justify_content": null,
            "_view_module": "@jupyter-widgets/base",
            "overflow": null,
            "_model_module_version": "1.2.0",
            "_view_count": null,
            "flex_flow": null,
            "width": null,
            "min_width": null,
            "border": null,
            "align_items": null,
            "bottom": null,
            "_model_module": "@jupyter-widgets/base",
            "top": null,
            "grid_column": null,
            "overflow_y": null,
            "overflow_x": null,
            "grid_auto_flow": null,
            "grid_area": null,
            "grid_template_columns": null,
            "flex": null,
            "_model_name": "LayoutModel",
            "justify_items": null,
            "grid_row": null,
            "max_height": null,
            "align_content": null,
            "visibility": null,
            "align_self": null,
            "height": null,
            "min_height": null,
            "padding": null,
            "grid_auto_rows": null,
            "grid_gap": null,
            "max_width": null,
            "order": null,
            "_view_module_version": "1.2.0",
            "grid_template_areas": null,
            "object_position": null,
            "object_fit": null,
            "grid_auto_columns": null,
            "margin": null,
            "display": null,
            "left": null
          }
        },
        "810b87e753e64b81893a005d2c63f332": {
          "model_module": "@jupyter-widgets/controls",
          "model_name": "HBoxModel",
          "state": {
            "_view_name": "HBoxView",
            "_dom_classes": [],
            "_model_name": "HBoxModel",
            "_view_module": "@jupyter-widgets/controls",
            "_model_module_version": "1.5.0",
            "_view_count": null,
            "_view_module_version": "1.5.0",
            "box_style": "",
            "layout": "IPY_MODEL_2ae06d5527e7438191d8650be88c9d99",
            "_model_module": "@jupyter-widgets/controls",
            "children": [
              "IPY_MODEL_bad292d8dac148219c67b0131752a092",
              "IPY_MODEL_0972be04ee7c4d96a15f8c109285cbb5"
            ]
          }
        },
        "2ae06d5527e7438191d8650be88c9d99": {
          "model_module": "@jupyter-widgets/base",
          "model_name": "LayoutModel",
          "state": {
            "_view_name": "LayoutView",
            "grid_template_rows": null,
            "right": null,
            "justify_content": null,
            "_view_module": "@jupyter-widgets/base",
            "overflow": null,
            "_model_module_version": "1.2.0",
            "_view_count": null,
            "flex_flow": null,
            "width": null,
            "min_width": null,
            "border": null,
            "align_items": null,
            "bottom": null,
            "_model_module": "@jupyter-widgets/base",
            "top": null,
            "grid_column": null,
            "overflow_y": null,
            "overflow_x": null,
            "grid_auto_flow": null,
            "grid_area": null,
            "grid_template_columns": null,
            "flex": null,
            "_model_name": "LayoutModel",
            "justify_items": null,
            "grid_row": null,
            "max_height": null,
            "align_content": null,
            "visibility": null,
            "align_self": null,
            "height": null,
            "min_height": null,
            "padding": null,
            "grid_auto_rows": null,
            "grid_gap": null,
            "max_width": null,
            "order": null,
            "_view_module_version": "1.2.0",
            "grid_template_areas": null,
            "object_position": null,
            "object_fit": null,
            "grid_auto_columns": null,
            "margin": null,
            "display": null,
            "left": null
          }
        },
        "bad292d8dac148219c67b0131752a092": {
          "model_module": "@jupyter-widgets/controls",
          "model_name": "IntProgressModel",
          "state": {
            "_view_name": "ProgressView",
            "style": "IPY_MODEL_e5f96d7ef69f4bc495a7ef51b00ac4e3",
            "_dom_classes": [],
            "description": "Validation: 100%",
            "_model_name": "IntProgressModel",
            "bar_style": "success",
            "max": 4000,
            "_view_module": "@jupyter-widgets/controls",
            "_model_module_version": "1.5.0",
            "value": 4000,
            "_view_count": null,
            "_view_module_version": "1.5.0",
            "orientation": "horizontal",
            "min": 0,
            "description_tooltip": null,
            "_model_module": "@jupyter-widgets/controls",
            "layout": "IPY_MODEL_c43e57f1961e44049b81f438b694c50f"
          }
        },
        "0972be04ee7c4d96a15f8c109285cbb5": {
          "model_module": "@jupyter-widgets/controls",
          "model_name": "HTMLModel",
          "state": {
            "_view_name": "HTMLView",
            "style": "IPY_MODEL_ad5625dd9e3e4c7bb2c81f5924190e43",
            "_dom_classes": [],
            "description": "",
            "_model_name": "HTMLModel",
            "placeholder": "​",
            "_view_module": "@jupyter-widgets/controls",
            "_model_module_version": "1.5.0",
            "value": " 4000/4000 [00:10&lt;00:00, 370.13it/s]",
            "_view_count": null,
            "_view_module_version": "1.5.0",
            "description_tooltip": null,
            "_model_module": "@jupyter-widgets/controls",
            "layout": "IPY_MODEL_0b6066613dc144dc9354517b353eead9"
          }
        },
        "e5f96d7ef69f4bc495a7ef51b00ac4e3": {
          "model_module": "@jupyter-widgets/controls",
          "model_name": "ProgressStyleModel",
          "state": {
            "_view_name": "StyleView",
            "_model_name": "ProgressStyleModel",
            "description_width": "initial",
            "_view_module": "@jupyter-widgets/base",
            "_model_module_version": "1.5.0",
            "_view_count": null,
            "_view_module_version": "1.2.0",
            "bar_color": null,
            "_model_module": "@jupyter-widgets/controls"
          }
        },
        "c43e57f1961e44049b81f438b694c50f": {
          "model_module": "@jupyter-widgets/base",
          "model_name": "LayoutModel",
          "state": {
            "_view_name": "LayoutView",
            "grid_template_rows": null,
            "right": null,
            "justify_content": null,
            "_view_module": "@jupyter-widgets/base",
            "overflow": null,
            "_model_module_version": "1.2.0",
            "_view_count": null,
            "flex_flow": null,
            "width": null,
            "min_width": null,
            "border": null,
            "align_items": null,
            "bottom": null,
            "_model_module": "@jupyter-widgets/base",
            "top": null,
            "grid_column": null,
            "overflow_y": null,
            "overflow_x": null,
            "grid_auto_flow": null,
            "grid_area": null,
            "grid_template_columns": null,
            "flex": null,
            "_model_name": "LayoutModel",
            "justify_items": null,
            "grid_row": null,
            "max_height": null,
            "align_content": null,
            "visibility": null,
            "align_self": null,
            "height": null,
            "min_height": null,
            "padding": null,
            "grid_auto_rows": null,
            "grid_gap": null,
            "max_width": null,
            "order": null,
            "_view_module_version": "1.2.0",
            "grid_template_areas": null,
            "object_position": null,
            "object_fit": null,
            "grid_auto_columns": null,
            "margin": null,
            "display": null,
            "left": null
          }
        },
        "ad5625dd9e3e4c7bb2c81f5924190e43": {
          "model_module": "@jupyter-widgets/controls",
          "model_name": "DescriptionStyleModel",
          "state": {
            "_view_name": "StyleView",
            "_model_name": "DescriptionStyleModel",
            "description_width": "",
            "_view_module": "@jupyter-widgets/base",
            "_model_module_version": "1.5.0",
            "_view_count": null,
            "_view_module_version": "1.2.0",
            "_model_module": "@jupyter-widgets/controls"
          }
        },
        "0b6066613dc144dc9354517b353eead9": {
          "model_module": "@jupyter-widgets/base",
          "model_name": "LayoutModel",
          "state": {
            "_view_name": "LayoutView",
            "grid_template_rows": null,
            "right": null,
            "justify_content": null,
            "_view_module": "@jupyter-widgets/base",
            "overflow": null,
            "_model_module_version": "1.2.0",
            "_view_count": null,
            "flex_flow": null,
            "width": null,
            "min_width": null,
            "border": null,
            "align_items": null,
            "bottom": null,
            "_model_module": "@jupyter-widgets/base",
            "top": null,
            "grid_column": null,
            "overflow_y": null,
            "overflow_x": null,
            "grid_auto_flow": null,
            "grid_area": null,
            "grid_template_columns": null,
            "flex": null,
            "_model_name": "LayoutModel",
            "justify_items": null,
            "grid_row": null,
            "max_height": null,
            "align_content": null,
            "visibility": null,
            "align_self": null,
            "height": null,
            "min_height": null,
            "padding": null,
            "grid_auto_rows": null,
            "grid_gap": null,
            "max_width": null,
            "order": null,
            "_view_module_version": "1.2.0",
            "grid_template_areas": null,
            "object_position": null,
            "object_fit": null,
            "grid_auto_columns": null,
            "margin": null,
            "display": null,
            "left": null
          }
        }
      }
    }
  },
  "cells": [
    {
      "cell_type": "code",
      "metadata": {
        "id": "lbdiaHw45YI-",
        "colab_type": "code",
        "colab": {}
      },
      "source": [
        "import torch\n",
        "import torch.nn as nn\n",
        "import torch.optim as optim\n",
        "import torch.nn.functional as F\n",
        "from torch.autograd import Variable\n",
        "from torch.utils.data import DataLoader, Dataset\n",
        "from tqdm.notebook import tqdm_notebook\n",
        "import  matplotlib.pyplot as plt\n",
        "from sklearn.preprocessing import Normalizer\n",
        "import numpy as np\n",
        "import pandas as pd\n",
        "from sklearn import preprocessing\n",
        "\n",
        "np.random.seed(1234)"
      ],
      "execution_count": 0,
      "outputs": []
    },
    {
      "cell_type": "markdown",
      "metadata": {
        "id": "4ViUCR-_6Heo",
        "colab_type": "text"
      },
      "source": [
        "load data and make data sets and dataloaders"
      ]
    },
    {
      "cell_type": "code",
      "metadata": {
        "id": "RJaOtcoT5_lP",
        "colab_type": "code",
        "colab": {}
      },
      "source": [
        "data = pd.read_csv('/content/House Sales.csv')\n",
        "data = data.drop(['id', 'date'], axis= 1)\n",
        "\n",
        "# normalize\n",
        "x = data.values\n",
        "min_max_scaler = preprocessing.MinMaxScaler()\n",
        "x_scaled = min_max_scaler.fit_transform(data)\n",
        "df = pd.DataFrame(x_scaled , columns=data.columns)\n",
        "\n",
        "# shuffle df\n",
        "df = df.sample(frac=1).reset_index(drop=True)\n",
        "\n",
        "# split train and test\n",
        "train = df[0:4000]\n",
        "test  = df[4000:5000]\n",
        "\n",
        "train_t = train.price\n",
        "train_f = train.drop(['price'], axis=1)\n",
        "\n",
        "test_t = test.price\n",
        "test_f = test.drop(['price'], axis=1)"
      ],
      "execution_count": 0,
      "outputs": []
    },
    {
      "cell_type": "markdown",
      "metadata": {
        "id": "PbMtH6tJ8TMC",
        "colab_type": "text"
      },
      "source": [
        "make dataset"
      ]
    },
    {
      "cell_type": "code",
      "metadata": {
        "id": "FlwNWAT06eCu",
        "colab_type": "code",
        "colab": {}
      },
      "source": [
        "class DF_DS(Dataset):\n",
        "    def __init__(self, dff,dft):\n",
        "        \n",
        "        assert(len(dff) == len(dft))\n",
        "        super().__init__()\n",
        "        self.len = len(dff)\n",
        "        self.dff = dff\n",
        "        self.dft = dft\n",
        "\n",
        "    def __getitem__(self, index): \n",
        "        \n",
        "        feature = torch.tensor(self.dff.iloc[index])\n",
        "        target  = torch.tensor(self.dft.iloc[index]).view(1,)\n",
        "        \n",
        "        return  feature, target\n",
        "       \n",
        "    def __len__(self):\n",
        "        return self.len"
      ],
      "execution_count": 0,
      "outputs": []
    },
    {
      "cell_type": "code",
      "metadata": {
        "id": "Ill64ewy7j1U",
        "colab_type": "code",
        "colab": {}
      },
      "source": [
        "train_ds = DF_DS(train_f, train_t)\n",
        "test_ds  = DF_DS(test_f, test_t)"
      ],
      "execution_count": 0,
      "outputs": []
    },
    {
      "cell_type": "code",
      "metadata": {
        "id": "RAIKdH-o9GTI",
        "colab_type": "code",
        "outputId": "ef4768bd-46e8-4600-e2ad-b9cdb093b79e",
        "colab": {
          "base_uri": "https://localhost:8080/",
          "height": 35
        }
      },
      "source": [
        "f , t = next(iter(train_ds))\n",
        "f.shape , t.shape"
      ],
      "execution_count": 0,
      "outputs": [
        {
          "output_type": "execute_result",
          "data": {
            "text/plain": [
              "(torch.Size([18]), torch.Size([1]))"
            ]
          },
          "metadata": {
            "tags": []
          },
          "execution_count": 5
        }
      ]
    },
    {
      "cell_type": "markdown",
      "metadata": {
        "id": "PlQGgFIo-Euk",
        "colab_type": "text"
      },
      "source": [
        "make data loader"
      ]
    },
    {
      "cell_type": "code",
      "metadata": {
        "id": "HDxGnSv49Wjn",
        "colab_type": "code",
        "colab": {}
      },
      "source": [
        "batch_size = 10\n",
        "train_dl = DataLoader(train_ds , batch_size=batch_size , shuffle= True , num_workers = 1)\n",
        "test_dl = DataLoader(test_ds , batch_size=batch_size , shuffle= False , num_workers = 1)"
      ],
      "execution_count": 0,
      "outputs": []
    },
    {
      "cell_type": "code",
      "metadata": {
        "id": "viQINutG-blA",
        "colab_type": "code",
        "outputId": "d15b9756-9769-4ce3-a448-0df258efa14f",
        "colab": {
          "base_uri": "https://localhost:8080/",
          "height": 35
        }
      },
      "source": [
        "fs , ts = next(iter(train_dl))\n",
        "fs.shape , ts.shape"
      ],
      "execution_count": 0,
      "outputs": [
        {
          "output_type": "execute_result",
          "data": {
            "text/plain": [
              "(torch.Size([10, 18]), torch.Size([10, 1]))"
            ]
          },
          "metadata": {
            "tags": []
          },
          "execution_count": 7
        }
      ]
    },
    {
      "cell_type": "markdown",
      "metadata": {
        "id": "ugJ5P8fB-x7m",
        "colab_type": "text"
      },
      "source": [
        "make the network"
      ]
    },
    {
      "cell_type": "code",
      "metadata": {
        "id": "1LNkGIX2-glU",
        "colab_type": "code",
        "colab": {}
      },
      "source": [
        "class MLP1(nn.Module):\n",
        "    def __init__(self, input_dim, hidden = 10, output_dim = 1):\n",
        "        super().__init__()\n",
        "        self.n = input_dim\n",
        "        self.hidden = hidden\n",
        "        self.o = output_dim\n",
        "\n",
        "        self.fc1  = nn.Linear(self.n, self.hidden)\n",
        "        self.act1 = nn.Tanh()\n",
        "        self.fc2  = nn.Linear(self.hidden, self.o)\n",
        "        self.act2 = nn.Tanh()\n",
        "\n",
        "    def forward(self, x):\n",
        "        out = self.fc1(x)\n",
        "        out = self.act1(out)\n",
        "        out = self.fc2(out)\n",
        "        out = self.act2(out)\n",
        "\n",
        "        return out"
      ],
      "execution_count": 0,
      "outputs": []
    },
    {
      "cell_type": "code",
      "metadata": {
        "id": "4ngMUCsj_rMV",
        "colab_type": "code",
        "colab": {}
      },
      "source": [
        "net = MLP1(input_dim=train_f.shape[1])"
      ],
      "execution_count": 0,
      "outputs": []
    },
    {
      "cell_type": "markdown",
      "metadata": {
        "id": "rlWa4T9HBk_t",
        "colab_type": "text"
      },
      "source": [
        "choose loss function and optimizer"
      ]
    },
    {
      "cell_type": "code",
      "metadata": {
        "id": "jPMBTKn5Bf8K",
        "colab_type": "code",
        "colab": {}
      },
      "source": [
        "criterion = nn.MSELoss()\n",
        "optimizer = optim.SGD(net.parameters(),lr=0.1)\n",
        "scheduler = optim.lr_scheduler.StepLR(optimizer, step_size=1, gamma=0.99)"
      ],
      "execution_count": 0,
      "outputs": []
    },
    {
      "cell_type": "markdown",
      "metadata": {
        "id": "dero6cuFCIuS",
        "colab_type": "text"
      },
      "source": [
        "training part"
      ]
    },
    {
      "cell_type": "code",
      "metadata": {
        "id": "fbIGB_rKCILZ",
        "colab_type": "code",
        "colab": {}
      },
      "source": [
        "def train_step(model, train_dl, criterion, optimizer):\n",
        "    total_loss = 0.0\n",
        "    \n",
        "    for i, (train_inputs, train_labels) in tqdm_notebook(enumerate(train_dl), \n",
        "                                                         desc='Training', \n",
        "                                                         total=len(train_dl)):\n",
        "        optimizer.zero_grad()\n",
        "        output = model(train_inputs)\n",
        "        loss = criterion(output, train_labels)\n",
        "        loss.backward()     \n",
        "        optimizer.step()\n",
        "        total_loss += loss.item()\n",
        "\n",
        "    return total_loss/len(train_dl)\n",
        "\n",
        "\n",
        "def validate_step(model, valid_dl, criterion):\n",
        "    total_loss = 0.0\n",
        "    with torch.no_grad():\n",
        "        for i, (test_inputs, test_labels) in tqdm_notebook(enumerate(valid_dl), \n",
        "                                                        desc='Validation', \n",
        "                                                        total=len(valid_dl)):\n",
        "            output = model(test_inputs)\n",
        "            loss = criterion(output, test_labels)\n",
        "            total_loss += loss.item()\n",
        "\n",
        "    return total_loss/len(test_dl)\n",
        "\n",
        "\n",
        "def train(model, train_dl, valid_dl, criterion, optimizer, scheduler, num_epochs, train_hist, test_hist):\n",
        "    \n",
        "    best_wts = None\n",
        "    best_loss = float('inf')\n",
        "\n",
        "    for epoch in range(num_epochs):\n",
        "\n",
        "        ## perform one epoch of training and validation\n",
        "        trn_loss = train_step(model, train_dl, criterion, optimizer)\n",
        "        val_loss = validate_step(model, valid_dl, criterion)\n",
        "        scheduler.step()\n",
        "\n",
        "        train_hist += [trn_loss]\n",
        "        test_hist  += [val_loss]\n",
        "\n",
        "#         # save weights\n",
        "#         if val_loss < best_loss:\n",
        "#             best_loss = val_loss\n",
        "#             best_wts = model.state_dict().copy()\n",
        "            \n",
        "# #             torch.save(best_wts, 'models/lstm-{}-{}-{}-{}-{}-{}-{:.5f}.pth'.format(\n",
        "# #                 epoch, max_len, min_count, model.embed_size, model.hidden_size, model.num_layers, best_acc))\n",
        "\n",
        "        print(f'[Epoch:{epoch+1}/{num_epochs}] Training Loss: %.4f Testing Loss: %.4f'\n",
        "              % (trn_loss* 10000, val_loss* 10000))\n",
        "\n",
        "    # model.load_state_dict(best_wts)\n",
        "    return train_hist, test_hist"
      ],
      "execution_count": 0,
      "outputs": []
    },
    {
      "cell_type": "code",
      "metadata": {
        "id": "cJQBlFmcWZbm",
        "colab_type": "code",
        "colab": {}
      },
      "source": [
        "train_hist, test_hist = [], []"
      ],
      "execution_count": 0,
      "outputs": []
    },
    {
      "cell_type": "code",
      "metadata": {
        "id": "fvPxUG6qB9ND",
        "colab_type": "code",
        "colab": {}
      },
      "source": [
        "train_hist, test_hist = train(net, train_dl, test_dl, criterion, optimizer, scheduler, 100, train_hist, test_hist)"
      ],
      "execution_count": 0,
      "outputs": []
    },
    {
      "cell_type": "code",
      "metadata": {
        "id": "tAz5zpM5E-Y6",
        "colab_type": "code",
        "outputId": "83436f41-51ce-47b7-8795-b97d823a6408",
        "colab": {
          "base_uri": "https://localhost:8080/",
          "height": 299
        }
      },
      "source": [
        "\n",
        "plt.plot([i for i in train_hist] , label='train')\n",
        "plt.plot([i for i in test_hist ] , label ='test')\n",
        "plt.legend()\n",
        "plt.title('trianing loss')"
      ],
      "execution_count": 0,
      "outputs": [
        {
          "output_type": "execute_result",
          "data": {
            "text/plain": [
              "Text(0.5, 1.0, 'trianing loss')"
            ]
          },
          "metadata": {
            "tags": []
          },
          "execution_count": 14
        },
        {
          "output_type": "display_data",
          "data": {
            "image/png": "[encoded data removed]",
            "text/plain": [
              "<Figure size 432x288 with 1 Axes>"
            ]
          },
          "metadata": {
            "tags": []
          }
        }
      ]
    },
    {
      "cell_type": "markdown",
      "metadata": {
        "id": "XYWHn9jvq1yP",
        "colab_type": "text"
      },
      "source": [
        "visualize result"
      ]
    },
    {
      "cell_type": "code",
      "metadata": {
        "id": "95UWU6P7JSGY",
        "colab_type": "code",
        "colab": {}
      },
      "source": [
        "def visualize_result(model, dl, min_max_scaler, dl_name):\n",
        "    data = []\n",
        "    with torch.no_grad(): # to increase speed\n",
        "        for i, (fs, ts) in tqdm_notebook(enumerate(dl), \n",
        "                                                        desc='Validation', \n",
        "                                                        total=len(dl)):\n",
        "            batch = np.hstack((ts.numpy(), fs.numpy()))\n",
        "            batch_pred = np.hstack((net(fs).detach().numpy() , fs.numpy()))\n",
        "            data += [(min_max_scaler.inverse_transform(batch)[0,0],min_max_scaler.inverse_transform(batch_pred)[0,0])]\n",
        "\n",
        "\n",
        "    data = sorted(data, key=(lambda x:x[0]))\n",
        "    real = np.array([i[0] for i in data])\n",
        "    pred = np.array([i[1] for i in data])\n",
        "    mse = np.mean((real - pred)**2)**0.5\n",
        "\n",
        "    plt.plot(pred, label='pred', c='gray')\n",
        "    plt.plot(real, label='real' , c='red')\n",
        "    plt.legend()\n",
        "    plt.ylabel('price')\n",
        "    plt.title('performance of medel on '+ dl_name + f'data: rmse loss = {mse}' )\n",
        "    plt.show()\n"
      ],
      "execution_count": 0,
      "outputs": []
    },
    {
      "cell_type": "code",
      "metadata": {
        "id": "FNyBgpj6ukUc",
        "colab_type": "code",
        "outputId": "a6507383-d145-4ed0-9b01-bfe17e1a8e30",
        "colab": {
          "base_uri": "https://localhost:8080/",
          "height": 645,
          "referenced_widgets": [
            "d8ebfa00f9884ff5b61d285542fe1585",
            "8d69f721a89345febf0566590de9fb97",
            "ab82aac38f94405f9b455652aa16ecad",
            "4dee2e3db2a84419a0a237760915246d",
            "94c4867e1bf64a05a240b701177704d4",
            "daf1ecc3b1f84eabba64a2435393aa30",
            "db749cb9b38c439baf08af5ce4f8aa25",
            "8ea8e5d7751d417ba89367dcd412bc3e",
            "a4cc7aeee10947e2b3f0b72e41726cd7",
            "1d57301ff0b342309e2e1454fabcc1f2",
            "2856d9521fd6458b98a062d141f9881e",
            "f84849643cb34d12abd8fe6ffdcc5e4e",
            "03024b00485a4cc6aed1e1bcb274e784",
            "a1f9f187347a4dc2b4c4b9e3dfd66fd1",
            "ce650affdbbf445980a7924d4e574d39",
            "481a29fb0e20480a9be0bbefb09ac584"
          ]
        }
      },
      "source": [
        "batch_size = 1\n",
        "train_dl = DataLoader(train_ds , batch_size=batch_size , shuffle= True , num_workers = 1)\n",
        "test_dl = DataLoader(test_ds , batch_size=batch_size , shuffle= False , num_workers = 1)\n",
        "visualize_result(net, test_dl, min_max_scaler, 'test')\n",
        "visualize_result(net, train_dl, min_max_scaler, 'train')"
      ],
      "execution_count": 0,
      "outputs": [
        {
          "output_type": "display_data",
          "data": {
            "application/vnd.jupyter.widget-view+json": {
              "model_id": "d8ebfa00f9884ff5b61d285542fe1585",
              "version_minor": 0,
              "version_major": 2
            },
            "text/plain": [
              "HBox(children=(IntProgress(value=0, description='Validation', max=1000, style=ProgressStyle(description_width=…"
            ]
          },
          "metadata": {
            "tags": []
          }
        },
        {
          "output_type": "stream",
          "text": [
            "\n"
          ],
          "name": "stdout"
        },
        {
          "output_type": "display_data",
          "data": {
            "image/png": "[encoded data removed]",
            "text/plain": [
              "<Figure size 432x288 with 1 Axes>"
            ]
          },
          "metadata": {
            "tags": []
          }
        },
        {
          "output_type": "display_data",
          "data": {
            "application/vnd.jupyter.widget-view+json": {
              "model_id": "a4cc7aeee10947e2b3f0b72e41726cd7",
              "version_minor": 0,
              "version_major": 2
            },
            "text/plain": [
              "HBox(children=(IntProgress(value=0, description='Validation', max=4000, style=ProgressStyle(description_width=…"
            ]
          },
          "metadata": {
            "tags": []
          }
        },
        {
          "output_type": "stream",
          "text": [
            "\n"
          ],
          "name": "stdout"
        },
        {
          "output_type": "display_data",
          "data": {
            "image/png": "[encoded data removed]",
            "text/plain": [
              "<Figure size 432x288 with 1 Axes>"
            ]
          },
          "metadata": {
            "tags": []
          }
        }
      ]
    },
    {
      "cell_type": "code",
      "metadata": {
        "id": "l6m2F-76uw4I",
        "colab_type": "code",
        "colab": {}
      },
      "source": [
        "class MLP2(nn.Module):\n",
        "    def __init__(self, input_dim, hidden1 = 30, hidden2 = 10, output_dim = 1):\n",
        "        super().__init__()\n",
        "        self.n = input_dim\n",
        "        self.hidden1 = hidden1\n",
        "        self.hidden2 = hidden2\n",
        "        self.o = output_dim\n",
        "\n",
        "        self.fc1  = nn.Linear(self.n, self.hidden1)\n",
        "        self.act1 = nn.Tanh()\n",
        "        self.fc2  = nn.Linear(self.hidden1, self.hidden2)\n",
        "        self.act2 = nn.Tanh()\n",
        "        self.fc3  = nn.Linear(self.hidden2, self.o)\n",
        "        self.act3 = nn.Tanh()\n",
        "\n",
        "    def forward(self, x):\n",
        "        out = self.fc1(x)\n",
        "        out = self.act1(out)\n",
        "        out = self.fc2(out)\n",
        "        out = self.act2(out)\n",
        "        out = self.fc3(out)\n",
        "        out = self.act3(out)\n",
        "\n",
        "        return out"
      ],
      "execution_count": 0,
      "outputs": []
    },
    {
      "cell_type": "code",
      "metadata": {
        "id": "uPVm4ofx0NFh",
        "colab_type": "code",
        "colab": {}
      },
      "source": [
        "batch_size = 10\n",
        "train_dl = DataLoader(train_ds , batch_size=batch_size , shuffle= True , num_workers = 1)\n",
        "test_dl = DataLoader(test_ds , batch_size=batch_size , shuffle= False , num_workers = 1)"
      ],
      "execution_count": 0,
      "outputs": []
    },
    {
      "cell_type": "code",
      "metadata": {
        "id": "ejXJrbRK0ahv",
        "colab_type": "code",
        "colab": {}
      },
      "source": [
        "net = MLP2(input_dim=train_f.shape[1])"
      ],
      "execution_count": 0,
      "outputs": []
    },
    {
      "cell_type": "code",
      "metadata": {
        "id": "ozFWN_yc0bPd",
        "colab_type": "code",
        "colab": {}
      },
      "source": [
        "criterion = nn.MSELoss()\n",
        "optimizer = optim.SGD(net.parameters(),lr=0.5)\n",
        "scheduler = optim.lr_scheduler.StepLR(optimizer, step_size=1, gamma=0.9)"
      ],
      "execution_count": 0,
      "outputs": []
    },
    {
      "cell_type": "code",
      "metadata": {
        "colab_type": "code",
        "id": "LV1haBOa0uVH",
        "colab": {}
      },
      "source": [
        "train_hist, test_hist = [], []"
      ],
      "execution_count": 0,
      "outputs": []
    },
    {
      "cell_type": "code",
      "metadata": {
        "colab_type": "code",
        "id": "c6zdjgmj0uVS",
        "colab": {}
      },
      "source": [
        "train_hist, test_hist = train(net, train_dl, test_dl, criterion, optimizer, scheduler, 50, train_hist, test_hist)"
      ],
      "execution_count": 0,
      "outputs": []
    },
    {
      "cell_type": "code",
      "metadata": {
        "colab_type": "code",
        "outputId": "cf8297dc-62bb-432d-8ecd-b6078d6af4ca",
        "id": "ZWYG_OfD0uVY",
        "colab": {
          "base_uri": "https://localhost:8080/",
          "height": 299
        }
      },
      "source": [
        "\n",
        "plt.plot([i for i in train_hist] , label='train')\n",
        "plt.plot([i for i in test_hist ] , label ='test')\n",
        "plt.legend()\n",
        "plt.title('trianing loss')"
      ],
      "execution_count": 0,
      "outputs": [
        {
          "output_type": "execute_result",
          "data": {
            "text/plain": [
              "Text(0.5, 1.0, 'trianing loss')"
            ]
          },
          "metadata": {
            "tags": []
          },
          "execution_count": 39
        },
        {
          "output_type": "display_data",
          "data": {
            "image/png": "[encoded data removed]",
            "text/plain": [
              "<Figure size 432x288 with 1 Axes>"
            ]
          },
          "metadata": {
            "tags": []
          }
        }
      ]
    },
    {
      "cell_type": "code",
      "metadata": {
        "id": "YtQWU7tt0zip",
        "colab_type": "code",
        "outputId": "780bddab-bd35-4ba2-d29f-c511b30a36ba",
        "colab": {
          "base_uri": "https://localhost:8080/",
          "height": 645,
          "referenced_widgets": [
            "3571b1fbb2d2488fa1becafd92c26f58",
            "be767f88e7ac4f92b1aff92fc7faf338",
            "1add438f411744248bfb510612fcae7e",
            "1d50caa15a184f7fbd775376991b4f0a",
            "5b7c2513dd544ec298f6b38f8b1b2e0e",
            "487af78aabe74242be7f44627d421d91",
            "9cb2941826a74e70858ee98f7bbb7592",
            "fa00e4ca8581405083ac801ce50d0911",
            "810b87e753e64b81893a005d2c63f332",
            "2ae06d5527e7438191d8650be88c9d99",
            "bad292d8dac148219c67b0131752a092",
            "0972be04ee7c4d96a15f8c109285cbb5",
            "e5f96d7ef69f4bc495a7ef51b00ac4e3",
            "c43e57f1961e44049b81f438b694c50f",
            "ad5625dd9e3e4c7bb2c81f5924190e43",
            "0b6066613dc144dc9354517b353eead9"
          ]
        }
      },
      "source": [
        "batch_size = 1\n",
        "train_dl = DataLoader(train_ds , batch_size=batch_size , shuffle= True , num_workers = 1)\n",
        "test_dl = DataLoader(test_ds , batch_size=batch_size , shuffle= False , num_workers = 1)\n",
        "visualize_result(net, test_dl, min_max_scaler, 'test')\n",
        "visualize_result(net, train_dl, min_max_scaler, 'train')"
      ],
      "execution_count": 0,
      "outputs": [
        {
          "output_type": "display_data",
          "data": {
            "application/vnd.jupyter.widget-view+json": {
              "model_id": "3571b1fbb2d2488fa1becafd92c26f58",
              "version_minor": 0,
              "version_major": 2
            },
            "text/plain": [
              "HBox(children=(IntProgress(value=0, description='Validation', max=1000, style=ProgressStyle(description_width=…"
            ]
          },
          "metadata": {
            "tags": []
          }
        },
        {
          "output_type": "stream",
          "text": [
            "\n"
          ],
          "name": "stdout"
        },
        {
          "output_type": "display_data",
          "data": {
            "image/png": "[encoded data removed]",
            "text/plain": [
              "<Figure size 432x288 with 1 Axes>"
            ]
          },
          "metadata": {
            "tags": []
          }
        },
        {
          "output_type": "display_data",
          "data": {
            "application/vnd.jupyter.widget-view+json": {
              "model_id": "810b87e753e64b81893a005d2c63f332",
              "version_minor": 0,
              "version_major": 2
            },
            "text/plain": [
              "HBox(children=(IntProgress(value=0, description='Validation', max=4000, style=ProgressStyle(description_width=…"
            ]
          },
          "metadata": {
            "tags": []
          }
        },
        {
          "output_type": "stream",
          "text": [
            "\n"
          ],
          "name": "stdout"
        },
        {
          "output_type": "display_data",
          "data": {
            "image/png": "[encoded data removed]",
            "text/plain": [
              "<Figure size 432x288 with 1 Axes>"
            ]
          },
          "metadata": {
            "tags": []
          }
        }
      ]
    },
    {
      "cell_type": "code",
      "metadata": {
        "id": "HLJJmSS31zIR",
        "colab_type": "code",
        "colab": {}
      },
      "source": [
        ""
      ],
      "execution_count": 0,
      "outputs": []
    }
  ]
}