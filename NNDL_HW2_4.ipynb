{
  "nbformat": 4,
  "nbformat_minor": 0,
  "metadata": {
    "colab": {
      "name": "NNDL_HW2_4.ipynb",
      "provenance": [],
      "collapsed_sections": []
    },
    "kernelspec": {
      "name": "python3",
      "display_name": "Python 3"
    },
    "accelerator": "GPU",
    "widgets": {
      "application/vnd.jupyter.widget-state+json": {
        "4b279a520583457cbeef27b91a6bbd5b": {
          "model_module": "@jupyter-widgets/controls",
          "model_name": "HBoxModel",
          "state": {
            "_view_name": "HBoxView",
            "_dom_classes": [],
            "_model_name": "HBoxModel",
            "_view_module": "@jupyter-widgets/controls",
            "_model_module_version": "1.5.0",
            "_view_count": null,
            "_view_module_version": "1.5.0",
            "box_style": "",
            "layout": "IPY_MODEL_ba85aeed7f0e4e0da89c92caaf5fb05f",
            "_model_module": "@jupyter-widgets/controls",
            "children": [
              "IPY_MODEL_816f45cd7fd8462cae7492588276301b",
              "IPY_MODEL_3c4329c16dad4429bf015d387c309ed5"
            ]
          }
        },
        "ba85aeed7f0e4e0da89c92caaf5fb05f": {
          "model_module": "@jupyter-widgets/base",
          "model_name": "LayoutModel",
          "state": {
            "_view_name": "LayoutView",
            "grid_template_rows": null,
            "right": null,
            "justify_content": null,
            "_view_module": "@jupyter-widgets/base",
            "overflow": null,
            "_model_module_version": "1.2.0",
            "_view_count": null,
            "flex_flow": null,
            "width": null,
            "min_width": null,
            "border": null,
            "align_items": null,
            "bottom": null,
            "_model_module": "@jupyter-widgets/base",
            "top": null,
            "grid_column": null,
            "overflow_y": null,
            "overflow_x": null,
            "grid_auto_flow": null,
            "grid_area": null,
            "grid_template_columns": null,
            "flex": null,
            "_model_name": "LayoutModel",
            "justify_items": null,
            "grid_row": null,
            "max_height": null,
            "align_content": null,
            "visibility": null,
            "align_self": null,
            "height": null,
            "min_height": null,
            "padding": null,
            "grid_auto_rows": null,
            "grid_gap": null,
            "max_width": null,
            "order": null,
            "_view_module_version": "1.2.0",
            "grid_template_areas": null,
            "object_position": null,
            "object_fit": null,
            "grid_auto_columns": null,
            "margin": null,
            "display": null,
            "left": null
          }
        },
        "816f45cd7fd8462cae7492588276301b": {
          "model_module": "@jupyter-widgets/controls",
          "model_name": "IntProgressModel",
          "state": {
            "_view_name": "ProgressView",
            "style": "IPY_MODEL_4100cb7df72c4b8fa9d7af46154742cd",
            "_dom_classes": [],
            "description": "",
            "_model_name": "IntProgressModel",
            "bar_style": "info",
            "max": 1,
            "_view_module": "@jupyter-widgets/controls",
            "_model_module_version": "1.5.0",
            "value": 1,
            "_view_count": null,
            "_view_module_version": "1.5.0",
            "orientation": "horizontal",
            "min": 0,
            "description_tooltip": null,
            "_model_module": "@jupyter-widgets/controls",
            "layout": "IPY_MODEL_4ab80d37f18b432fb038e528f3006515"
          }
        },
        "3c4329c16dad4429bf015d387c309ed5": {
          "model_module": "@jupyter-widgets/controls",
          "model_name": "HTMLModel",
          "state": {
            "_view_name": "HTMLView",
            "style": "IPY_MODEL_11abdeb752ef4d5f91981adccc84c1eb",
            "_dom_classes": [],
            "description": "",
            "_model_name": "HTMLModel",
            "placeholder": "​",
            "_view_module": "@jupyter-widgets/controls",
            "_model_module_version": "1.5.0",
            "value": " 26427392/? [00:20&lt;00:00, 7092835.28it/s]",
            "_view_count": null,
            "_view_module_version": "1.5.0",
            "description_tooltip": null,
            "_model_module": "@jupyter-widgets/controls",
            "layout": "IPY_MODEL_60a9ea39c6324178af7348481411fd85"
          }
        },
        "4100cb7df72c4b8fa9d7af46154742cd": {
          "model_module": "@jupyter-widgets/controls",
          "model_name": "ProgressStyleModel",
          "state": {
            "_view_name": "StyleView",
            "_model_name": "ProgressStyleModel",
            "description_width": "initial",
            "_view_module": "@jupyter-widgets/base",
            "_model_module_version": "1.5.0",
            "_view_count": null,
            "_view_module_version": "1.2.0",
            "bar_color": null,
            "_model_module": "@jupyter-widgets/controls"
          }
        },
        "4ab80d37f18b432fb038e528f3006515": {
          "model_module": "@jupyter-widgets/base",
          "model_name": "LayoutModel",
          "state": {
            "_view_name": "LayoutView",
            "grid_template_rows": null,
            "right": null,
            "justify_content": null,
            "_view_module": "@jupyter-widgets/base",
            "overflow": null,
            "_model_module_version": "1.2.0",
            "_view_count": null,
            "flex_flow": null,
            "width": null,
            "min_width": null,
            "border": null,
            "align_items": null,
            "bottom": null,
            "_model_module": "@jupyter-widgets/base",
            "top": null,
            "grid_column": null,
            "overflow_y": null,
            "overflow_x": null,
            "grid_auto_flow": null,
            "grid_area": null,
            "grid_template_columns": null,
            "flex": null,
            "_model_name": "LayoutModel",
            "justify_items": null,
            "grid_row": null,
            "max_height": null,
            "align_content": null,
            "visibility": null,
            "align_self": null,
            "height": null,
            "min_height": null,
            "padding": null,
            "grid_auto_rows": null,
            "grid_gap": null,
            "max_width": null,
            "order": null,
            "_view_module_version": "1.2.0",
            "grid_template_areas": null,
            "object_position": null,
            "object_fit": null,
            "grid_auto_columns": null,
            "margin": null,
            "display": null,
            "left": null
          }
        },
        "11abdeb752ef4d5f91981adccc84c1eb": {
          "model_module": "@jupyter-widgets/controls",
          "model_name": "DescriptionStyleModel",
          "state": {
            "_view_name": "StyleView",
            "_model_name": "DescriptionStyleModel",
            "description_width": "",
            "_view_module": "@jupyter-widgets/base",
            "_model_module_version": "1.5.0",
            "_view_count": null,
            "_view_module_version": "1.2.0",
            "_model_module": "@jupyter-widgets/controls"
          }
        },
        "60a9ea39c6324178af7348481411fd85": {
          "model_module": "@jupyter-widgets/base",
          "model_name": "LayoutModel",
          "state": {
            "_view_name": "LayoutView",
            "grid_template_rows": null,
            "right": null,
            "justify_content": null,
            "_view_module": "@jupyter-widgets/base",
            "overflow": null,
            "_model_module_version": "1.2.0",
            "_view_count": null,
            "flex_flow": null,
            "width": null,
            "min_width": null,
            "border": null,
            "align_items": null,
            "bottom": null,
            "_model_module": "@jupyter-widgets/base",
            "top": null,
            "grid_column": null,
            "overflow_y": null,
            "overflow_x": null,
            "grid_auto_flow": null,
            "grid_area": null,
            "grid_template_columns": null,
            "flex": null,
            "_model_name": "LayoutModel",
            "justify_items": null,
            "grid_row": null,
            "max_height": null,
            "align_content": null,
            "visibility": null,
            "align_self": null,
            "height": null,
            "min_height": null,
            "padding": null,
            "grid_auto_rows": null,
            "grid_gap": null,
            "max_width": null,
            "order": null,
            "_view_module_version": "1.2.0",
            "grid_template_areas": null,
            "object_position": null,
            "object_fit": null,
            "grid_auto_columns": null,
            "margin": null,
            "display": null,
            "left": null
          }
        },
        "707459466bb8478582d6df187a9e4cb6": {
          "model_module": "@jupyter-widgets/controls",
          "model_name": "HBoxModel",
          "state": {
            "_view_name": "HBoxView",
            "_dom_classes": [],
            "_model_name": "HBoxModel",
            "_view_module": "@jupyter-widgets/controls",
            "_model_module_version": "1.5.0",
            "_view_count": null,
            "_view_module_version": "1.5.0",
            "box_style": "",
            "layout": "IPY_MODEL_8715fd6a69f24c0c9b225a6a6471d41c",
            "_model_module": "@jupyter-widgets/controls",
            "children": [
              "IPY_MODEL_158e0b3b1fd54dd6ae40ebbe02d19291",
              "IPY_MODEL_5113f326260f40eeaf5140a10e57fe6c"
            ]
          }
        },
        "8715fd6a69f24c0c9b225a6a6471d41c": {
          "model_module": "@jupyter-widgets/base",
          "model_name": "LayoutModel",
          "state": {
            "_view_name": "LayoutView",
            "grid_template_rows": null,
            "right": null,
            "justify_content": null,
            "_view_module": "@jupyter-widgets/base",
            "overflow": null,
            "_model_module_version": "1.2.0",
            "_view_count": null,
            "flex_flow": null,
            "width": null,
            "min_width": null,
            "border": null,
            "align_items": null,
            "bottom": null,
            "_model_module": "@jupyter-widgets/base",
            "top": null,
            "grid_column": null,
            "overflow_y": null,
            "overflow_x": null,
            "grid_auto_flow": null,
            "grid_area": null,
            "grid_template_columns": null,
            "flex": null,
            "_model_name": "LayoutModel",
            "justify_items": null,
            "grid_row": null,
            "max_height": null,
            "align_content": null,
            "visibility": null,
            "align_self": null,
            "height": null,
            "min_height": null,
            "padding": null,
            "grid_auto_rows": null,
            "grid_gap": null,
            "max_width": null,
            "order": null,
            "_view_module_version": "1.2.0",
            "grid_template_areas": null,
            "object_position": null,
            "object_fit": null,
            "grid_auto_columns": null,
            "margin": null,
            "display": null,
            "left": null
          }
        },
        "158e0b3b1fd54dd6ae40ebbe02d19291": {
          "model_module": "@jupyter-widgets/controls",
          "model_name": "IntProgressModel",
          "state": {
            "_view_name": "ProgressView",
            "style": "IPY_MODEL_15907a3c2c2744cd8b9e3f0f1159968e",
            "_dom_classes": [],
            "description": "",
            "_model_name": "IntProgressModel",
            "bar_style": "success",
            "max": 1,
            "_view_module": "@jupyter-widgets/controls",
            "_model_module_version": "1.5.0",
            "value": 1,
            "_view_count": null,
            "_view_module_version": "1.5.0",
            "orientation": "horizontal",
            "min": 0,
            "description_tooltip": null,
            "_model_module": "@jupyter-widgets/controls",
            "layout": "IPY_MODEL_03f46903f6f04e52a9bf23ae11fe5ffe"
          }
        },
        "5113f326260f40eeaf5140a10e57fe6c": {
          "model_module": "@jupyter-widgets/controls",
          "model_name": "HTMLModel",
          "state": {
            "_view_name": "HTMLView",
            "style": "IPY_MODEL_4cff3990b67045ed96f2be98665f8d3b",
            "_dom_classes": [],
            "description": "",
            "_model_name": "HTMLModel",
            "placeholder": "​",
            "_view_module": "@jupyter-widgets/controls",
            "_model_module_version": "1.5.0",
            "value": " 32768/? [00:00&lt;00:00, 66252.18it/s]",
            "_view_count": null,
            "_view_module_version": "1.5.0",
            "description_tooltip": null,
            "_model_module": "@jupyter-widgets/controls",
            "layout": "IPY_MODEL_59d1bb8daf824707802dc1af4e19a7ae"
          }
        },
        "15907a3c2c2744cd8b9e3f0f1159968e": {
          "model_module": "@jupyter-widgets/controls",
          "model_name": "ProgressStyleModel",
          "state": {
            "_view_name": "StyleView",
            "_model_name": "ProgressStyleModel",
            "description_width": "initial",
            "_view_module": "@jupyter-widgets/base",
            "_model_module_version": "1.5.0",
            "_view_count": null,
            "_view_module_version": "1.2.0",
            "bar_color": null,
            "_model_module": "@jupyter-widgets/controls"
          }
        },
        "03f46903f6f04e52a9bf23ae11fe5ffe": {
          "model_module": "@jupyter-widgets/base",
          "model_name": "LayoutModel",
          "state": {
            "_view_name": "LayoutView",
            "grid_template_rows": null,
            "right": null,
            "justify_content": null,
            "_view_module": "@jupyter-widgets/base",
            "overflow": null,
            "_model_module_version": "1.2.0",
            "_view_count": null,
            "flex_flow": null,
            "width": null,
            "min_width": null,
            "border": null,
            "align_items": null,
            "bottom": null,
            "_model_module": "@jupyter-widgets/base",
            "top": null,
            "grid_column": null,
            "overflow_y": null,
            "overflow_x": null,
            "grid_auto_flow": null,
            "grid_area": null,
            "grid_template_columns": null,
            "flex": null,
            "_model_name": "LayoutModel",
            "justify_items": null,
            "grid_row": null,
            "max_height": null,
            "align_content": null,
            "visibility": null,
            "align_self": null,
            "height": null,
            "min_height": null,
            "padding": null,
            "grid_auto_rows": null,
            "grid_gap": null,
            "max_width": null,
            "order": null,
            "_view_module_version": "1.2.0",
            "grid_template_areas": null,
            "object_position": null,
            "object_fit": null,
            "grid_auto_columns": null,
            "margin": null,
            "display": null,
            "left": null
          }
        },
        "4cff3990b67045ed96f2be98665f8d3b": {
          "model_module": "@jupyter-widgets/controls",
          "model_name": "DescriptionStyleModel",
          "state": {
            "_view_name": "StyleView",
            "_model_name": "DescriptionStyleModel",
            "description_width": "",
            "_view_module": "@jupyter-widgets/base",
            "_model_module_version": "1.5.0",
            "_view_count": null,
            "_view_module_version": "1.2.0",
            "_model_module": "@jupyter-widgets/controls"
          }
        },
        "59d1bb8daf824707802dc1af4e19a7ae": {
          "model_module": "@jupyter-widgets/base",
          "model_name": "LayoutModel",
          "state": {
            "_view_name": "LayoutView",
            "grid_template_rows": null,
            "right": null,
            "justify_content": null,
            "_view_module": "@jupyter-widgets/base",
            "overflow": null,
            "_model_module_version": "1.2.0",
            "_view_count": null,
            "flex_flow": null,
            "width": null,
            "min_width": null,
            "border": null,
            "align_items": null,
            "bottom": null,
            "_model_module": "@jupyter-widgets/base",
            "top": null,
            "grid_column": null,
            "overflow_y": null,
            "overflow_x": null,
            "grid_auto_flow": null,
            "grid_area": null,
            "grid_template_columns": null,
            "flex": null,
            "_model_name": "LayoutModel",
            "justify_items": null,
            "grid_row": null,
            "max_height": null,
            "align_content": null,
            "visibility": null,
            "align_self": null,
            "height": null,
            "min_height": null,
            "padding": null,
            "grid_auto_rows": null,
            "grid_gap": null,
            "max_width": null,
            "order": null,
            "_view_module_version": "1.2.0",
            "grid_template_areas": null,
            "object_position": null,
            "object_fit": null,
            "grid_auto_columns": null,
            "margin": null,
            "display": null,
            "left": null
          }
        },
        "18a9614adc474c14a640bc70be3f6240": {
          "model_module": "@jupyter-widgets/controls",
          "model_name": "HBoxModel",
          "state": {
            "_view_name": "HBoxView",
            "_dom_classes": [],
            "_model_name": "HBoxModel",
            "_view_module": "@jupyter-widgets/controls",
            "_model_module_version": "1.5.0",
            "_view_count": null,
            "_view_module_version": "1.5.0",
            "box_style": "",
            "layout": "IPY_MODEL_1f184243e0da4b1ca4463804479e5479",
            "_model_module": "@jupyter-widgets/controls",
            "children": [
              "IPY_MODEL_fd52cc4ff78d4cd68376f70b1b408a5e",
              "IPY_MODEL_bb114bcba7014961a0455a3fa45102c5"
            ]
          }
        },
        "1f184243e0da4b1ca4463804479e5479": {
          "model_module": "@jupyter-widgets/base",
          "model_name": "LayoutModel",
          "state": {
            "_view_name": "LayoutView",
            "grid_template_rows": null,
            "right": null,
            "justify_content": null,
            "_view_module": "@jupyter-widgets/base",
            "overflow": null,
            "_model_module_version": "1.2.0",
            "_view_count": null,
            "flex_flow": null,
            "width": null,
            "min_width": null,
            "border": null,
            "align_items": null,
            "bottom": null,
            "_model_module": "@jupyter-widgets/base",
            "top": null,
            "grid_column": null,
            "overflow_y": null,
            "overflow_x": null,
            "grid_auto_flow": null,
            "grid_area": null,
            "grid_template_columns": null,
            "flex": null,
            "_model_name": "LayoutModel",
            "justify_items": null,
            "grid_row": null,
            "max_height": null,
            "align_content": null,
            "visibility": null,
            "align_self": null,
            "height": null,
            "min_height": null,
            "padding": null,
            "grid_auto_rows": null,
            "grid_gap": null,
            "max_width": null,
            "order": null,
            "_view_module_version": "1.2.0",
            "grid_template_areas": null,
            "object_position": null,
            "object_fit": null,
            "grid_auto_columns": null,
            "margin": null,
            "display": null,
            "left": null
          }
        },
        "fd52cc4ff78d4cd68376f70b1b408a5e": {
          "model_module": "@jupyter-widgets/controls",
          "model_name": "IntProgressModel",
          "state": {
            "_view_name": "ProgressView",
            "style": "IPY_MODEL_21802ce922234de094247c92be8480a3",
            "_dom_classes": [],
            "description": "",
            "_model_name": "IntProgressModel",
            "bar_style": "info",
            "max": 1,
            "_view_module": "@jupyter-widgets/controls",
            "_model_module_version": "1.5.0",
            "value": 1,
            "_view_count": null,
            "_view_module_version": "1.5.0",
            "orientation": "horizontal",
            "min": 0,
            "description_tooltip": null,
            "_model_module": "@jupyter-widgets/controls",
            "layout": "IPY_MODEL_e1cd3bd41a674336b750ee59394a645e"
          }
        },
        "bb114bcba7014961a0455a3fa45102c5": {
          "model_module": "@jupyter-widgets/controls",
          "model_name": "HTMLModel",
          "state": {
            "_view_name": "HTMLView",
            "style": "IPY_MODEL_11d3aafb19ae420cb5cb5ad44540eb63",
            "_dom_classes": [],
            "description": "",
            "_model_name": "HTMLModel",
            "placeholder": "​",
            "_view_module": "@jupyter-widgets/controls",
            "_model_module_version": "1.5.0",
            "value": " 4423680/? [00:16&lt;00:00, 804317.58it/s]",
            "_view_count": null,
            "_view_module_version": "1.5.0",
            "description_tooltip": null,
            "_model_module": "@jupyter-widgets/controls",
            "layout": "IPY_MODEL_4d545461bba341108b35e06becddb6ca"
          }
        },
        "21802ce922234de094247c92be8480a3": {
          "model_module": "@jupyter-widgets/controls",
          "model_name": "ProgressStyleModel",
          "state": {
            "_view_name": "StyleView",
            "_model_name": "ProgressStyleModel",
            "description_width": "initial",
            "_view_module": "@jupyter-widgets/base",
            "_model_module_version": "1.5.0",
            "_view_count": null,
            "_view_module_version": "1.2.0",
            "bar_color": null,
            "_model_module": "@jupyter-widgets/controls"
          }
        },
        "e1cd3bd41a674336b750ee59394a645e": {
          "model_module": "@jupyter-widgets/base",
          "model_name": "LayoutModel",
          "state": {
            "_view_name": "LayoutView",
            "grid_template_rows": null,
            "right": null,
            "justify_content": null,
            "_view_module": "@jupyter-widgets/base",
            "overflow": null,
            "_model_module_version": "1.2.0",
            "_view_count": null,
            "flex_flow": null,
            "width": null,
            "min_width": null,
            "border": null,
            "align_items": null,
            "bottom": null,
            "_model_module": "@jupyter-widgets/base",
            "top": null,
            "grid_column": null,
            "overflow_y": null,
            "overflow_x": null,
            "grid_auto_flow": null,
            "grid_area": null,
            "grid_template_columns": null,
            "flex": null,
            "_model_name": "LayoutModel",
            "justify_items": null,
            "grid_row": null,
            "max_height": null,
            "align_content": null,
            "visibility": null,
            "align_self": null,
            "height": null,
            "min_height": null,
            "padding": null,
            "grid_auto_rows": null,
            "grid_gap": null,
            "max_width": null,
            "order": null,
            "_view_module_version": "1.2.0",
            "grid_template_areas": null,
            "object_position": null,
            "object_fit": null,
            "grid_auto_columns": null,
            "margin": null,
            "display": null,
            "left": null
          }
        },
        "11d3aafb19ae420cb5cb5ad44540eb63": {
          "model_module": "@jupyter-widgets/controls",
          "model_name": "DescriptionStyleModel",
          "state": {
            "_view_name": "StyleView",
            "_model_name": "DescriptionStyleModel",
            "description_width": "",
            "_view_module": "@jupyter-widgets/base",
            "_model_module_version": "1.5.0",
            "_view_count": null,
            "_view_module_version": "1.2.0",
            "_model_module": "@jupyter-widgets/controls"
          }
        },
        "4d545461bba341108b35e06becddb6ca": {
          "model_module": "@jupyter-widgets/base",
          "model_name": "LayoutModel",
          "state": {
            "_view_name": "LayoutView",
            "grid_template_rows": null,
            "right": null,
            "justify_content": null,
            "_view_module": "@jupyter-widgets/base",
            "overflow": null,
            "_model_module_version": "1.2.0",
            "_view_count": null,
            "flex_flow": null,
            "width": null,
            "min_width": null,
            "border": null,
            "align_items": null,
            "bottom": null,
            "_model_module": "@jupyter-widgets/base",
            "top": null,
            "grid_column": null,
            "overflow_y": null,
            "overflow_x": null,
            "grid_auto_flow": null,
            "grid_area": null,
            "grid_template_columns": null,
            "flex": null,
            "_model_name": "LayoutModel",
            "justify_items": null,
            "grid_row": null,
            "max_height": null,
            "align_content": null,
            "visibility": null,
            "align_self": null,
            "height": null,
            "min_height": null,
            "padding": null,
            "grid_auto_rows": null,
            "grid_gap": null,
            "max_width": null,
            "order": null,
            "_view_module_version": "1.2.0",
            "grid_template_areas": null,
            "object_position": null,
            "object_fit": null,
            "grid_auto_columns": null,
            "margin": null,
            "display": null,
            "left": null
          }
        },
        "2408602319fe4cc9a703cfa6797955c2": {
          "model_module": "@jupyter-widgets/controls",
          "model_name": "HBoxModel",
          "state": {
            "_view_name": "HBoxView",
            "_dom_classes": [],
            "_model_name": "HBoxModel",
            "_view_module": "@jupyter-widgets/controls",
            "_model_module_version": "1.5.0",
            "_view_count": null,
            "_view_module_version": "1.5.0",
            "box_style": "",
            "layout": "IPY_MODEL_f02cd04680f841be9e3a2ed3c7f858f0",
            "_model_module": "@jupyter-widgets/controls",
            "children": [
              "IPY_MODEL_0c03c658e4984a828b87b80228a26bec",
              "IPY_MODEL_053a2d310b804a28ae1796e674372d0e"
            ]
          }
        },
        "f02cd04680f841be9e3a2ed3c7f858f0": {
          "model_module": "@jupyter-widgets/base",
          "model_name": "LayoutModel",
          "state": {
            "_view_name": "LayoutView",
            "grid_template_rows": null,
            "right": null,
            "justify_content": null,
            "_view_module": "@jupyter-widgets/base",
            "overflow": null,
            "_model_module_version": "1.2.0",
            "_view_count": null,
            "flex_flow": null,
            "width": null,
            "min_width": null,
            "border": null,
            "align_items": null,
            "bottom": null,
            "_model_module": "@jupyter-widgets/base",
            "top": null,
            "grid_column": null,
            "overflow_y": null,
            "overflow_x": null,
            "grid_auto_flow": null,
            "grid_area": null,
            "grid_template_columns": null,
            "flex": null,
            "_model_name": "LayoutModel",
            "justify_items": null,
            "grid_row": null,
            "max_height": null,
            "align_content": null,
            "visibility": null,
            "align_self": null,
            "height": null,
            "min_height": null,
            "padding": null,
            "grid_auto_rows": null,
            "grid_gap": null,
            "max_width": null,
            "order": null,
            "_view_module_version": "1.2.0",
            "grid_template_areas": null,
            "object_position": null,
            "object_fit": null,
            "grid_auto_columns": null,
            "margin": null,
            "display": null,
            "left": null
          }
        },
        "0c03c658e4984a828b87b80228a26bec": {
          "model_module": "@jupyter-widgets/controls",
          "model_name": "IntProgressModel",
          "state": {
            "_view_name": "ProgressView",
            "style": "IPY_MODEL_401d410e12ca4cf5b86fdba4dc2a27da",
            "_dom_classes": [],
            "description": "  0%",
            "_model_name": "IntProgressModel",
            "bar_style": "info",
            "max": 1,
            "_view_module": "@jupyter-widgets/controls",
            "_model_module_version": "1.5.0",
            "value": 0,
            "_view_count": null,
            "_view_module_version": "1.5.0",
            "orientation": "horizontal",
            "min": 0,
            "description_tooltip": null,
            "_model_module": "@jupyter-widgets/controls",
            "layout": "IPY_MODEL_6ce52995c9144359b65d6bc42a97fa6e"
          }
        },
        "053a2d310b804a28ae1796e674372d0e": {
          "model_module": "@jupyter-widgets/controls",
          "model_name": "HTMLModel",
          "state": {
            "_view_name": "HTMLView",
            "style": "IPY_MODEL_6c3756d3657f4aea833f7c0074d8d09d",
            "_dom_classes": [],
            "description": "",
            "_model_name": "HTMLModel",
            "placeholder": "​",
            "_view_module": "@jupyter-widgets/controls",
            "_model_module_version": "1.5.0",
            "value": " 0/5148 [00:00&lt;?, ?it/s]",
            "_view_count": null,
            "_view_module_version": "1.5.0",
            "description_tooltip": null,
            "_model_module": "@jupyter-widgets/controls",
            "layout": "IPY_MODEL_76414c85e09e48458f3320cc78df417b"
          }
        },
        "401d410e12ca4cf5b86fdba4dc2a27da": {
          "model_module": "@jupyter-widgets/controls",
          "model_name": "ProgressStyleModel",
          "state": {
            "_view_name": "StyleView",
            "_model_name": "ProgressStyleModel",
            "description_width": "initial",
            "_view_module": "@jupyter-widgets/base",
            "_model_module_version": "1.5.0",
            "_view_count": null,
            "_view_module_version": "1.2.0",
            "bar_color": null,
            "_model_module": "@jupyter-widgets/controls"
          }
        },
        "6ce52995c9144359b65d6bc42a97fa6e": {
          "model_module": "@jupyter-widgets/base",
          "model_name": "LayoutModel",
          "state": {
            "_view_name": "LayoutView",
            "grid_template_rows": null,
            "right": null,
            "justify_content": null,
            "_view_module": "@jupyter-widgets/base",
            "overflow": null,
            "_model_module_version": "1.2.0",
            "_view_count": null,
            "flex_flow": null,
            "width": null,
            "min_width": null,
            "border": null,
            "align_items": null,
            "bottom": null,
            "_model_module": "@jupyter-widgets/base",
            "top": null,
            "grid_column": null,
            "overflow_y": null,
            "overflow_x": null,
            "grid_auto_flow": null,
            "grid_area": null,
            "grid_template_columns": null,
            "flex": null,
            "_model_name": "LayoutModel",
            "justify_items": null,
            "grid_row": null,
            "max_height": null,
            "align_content": null,
            "visibility": null,
            "align_self": null,
            "height": null,
            "min_height": null,
            "padding": null,
            "grid_auto_rows": null,
            "grid_gap": null,
            "max_width": null,
            "order": null,
            "_view_module_version": "1.2.0",
            "grid_template_areas": null,
            "object_position": null,
            "object_fit": null,
            "grid_auto_columns": null,
            "margin": null,
            "display": null,
            "left": null
          }
        },
        "6c3756d3657f4aea833f7c0074d8d09d": {
          "model_module": "@jupyter-widgets/controls",
          "model_name": "DescriptionStyleModel",
          "state": {
            "_view_name": "StyleView",
            "_model_name": "DescriptionStyleModel",
            "description_width": "",
            "_view_module": "@jupyter-widgets/base",
            "_model_module_version": "1.5.0",
            "_view_count": null,
            "_view_module_version": "1.2.0",
            "_model_module": "@jupyter-widgets/controls"
          }
        },
        "76414c85e09e48458f3320cc78df417b": {
          "model_module": "@jupyter-widgets/base",
          "model_name": "LayoutModel",
          "state": {
            "_view_name": "LayoutView",
            "grid_template_rows": null,
            "right": null,
            "justify_content": null,
            "_view_module": "@jupyter-widgets/base",
            "overflow": null,
            "_model_module_version": "1.2.0",
            "_view_count": null,
            "flex_flow": null,
            "width": null,
            "min_width": null,
            "border": null,
            "align_items": null,
            "bottom": null,
            "_model_module": "@jupyter-widgets/base",
            "top": null,
            "grid_column": null,
            "overflow_y": null,
            "overflow_x": null,
            "grid_auto_flow": null,
            "grid_area": null,
            "grid_template_columns": null,
            "flex": null,
            "_model_name": "LayoutModel",
            "justify_items": null,
            "grid_row": null,
            "max_height": null,
            "align_content": null,
            "visibility": null,
            "align_self": null,
            "height": null,
            "min_height": null,
            "padding": null,
            "grid_auto_rows": null,
            "grid_gap": null,
            "max_width": null,
            "order": null,
            "_view_module_version": "1.2.0",
            "grid_template_areas": null,
            "object_position": null,
            "object_fit": null,
            "grid_auto_columns": null,
            "margin": null,
            "display": null,
            "left": null
          }
        }
      }
    }
  },
  "cells": [
    {
      "cell_type": "markdown",
      "metadata": {
        "id": "qwFdxnaKtLsW",
        "colab_type": "text"
      },
      "source": [
        "# Auto Encoder"
      ]
    },
    {
      "cell_type": "code",
      "metadata": {
        "id": "iKiJdKlc5po3",
        "colab_type": "code",
        "colab": {}
      },
      "source": [
        "import torch\n",
        "import torch.nn as nn\n",
        "import torch.optim as optim\n",
        "import torch.nn.functional as F\n",
        "from torch.utils.data import DataLoader, Dataset\n",
        "from tqdm.notebook import tqdm_notebook\n",
        "import  matplotlib.pyplot as plt\n",
        "import numpy as np\n",
        "import pandas as pd\n",
        "from sklearn.metrics import confusion_matrix , accuracy_score, plot_confusion_matrix, ConfusionMatrixDisplay\n",
        "\n",
        "np.random.seed(1234)"
      ],
      "execution_count": 0,
      "outputs": []
    },
    {
      "cell_type": "code",
      "metadata": {
        "id": "zJ99yyH8YDcY",
        "colab_type": "code",
        "outputId": "e79b8140-b9db-483a-c713-3c7813532e06",
        "colab": {
          "base_uri": "https://localhost:8080/",
          "height": 35
        }
      },
      "source": [
        "# choose GPU/CPU\n",
        "if torch.cuda.is_available():\n",
        "    device = torch.device(\"cuda:0\") \n",
        "    print(\"Running on the GPU\")\n",
        "else:\n",
        "    device = torch.device(\"cpu\")\n",
        "    print(\"Running on the CPU\")"
      ],
      "execution_count": 0,
      "outputs": [
        {
          "output_type": "stream",
          "text": [
            "Running on the GPU\n"
          ],
          "name": "stdout"
        }
      ]
    },
    {
      "cell_type": "code",
      "metadata": {
        "id": "3in2qv_47IxV",
        "colab_type": "code",
        "outputId": "3486a18b-cade-4e82-f0d0-cfc3c4652327",
        "colab": {
          "base_uri": "https://localhost:8080/",
          "height": 363,
          "referenced_widgets": [
            "4b279a520583457cbeef27b91a6bbd5b",
            "ba85aeed7f0e4e0da89c92caaf5fb05f",
            "816f45cd7fd8462cae7492588276301b",
            "3c4329c16dad4429bf015d387c309ed5",
            "4100cb7df72c4b8fa9d7af46154742cd",
            "4ab80d37f18b432fb038e528f3006515",
            "11abdeb752ef4d5f91981adccc84c1eb",
            "60a9ea39c6324178af7348481411fd85",
            "707459466bb8478582d6df187a9e4cb6",
            "8715fd6a69f24c0c9b225a6a6471d41c",
            "158e0b3b1fd54dd6ae40ebbe02d19291",
            "5113f326260f40eeaf5140a10e57fe6c",
            "15907a3c2c2744cd8b9e3f0f1159968e",
            "03f46903f6f04e52a9bf23ae11fe5ffe",
            "4cff3990b67045ed96f2be98665f8d3b",
            "59d1bb8daf824707802dc1af4e19a7ae",
            "18a9614adc474c14a640bc70be3f6240",
            "1f184243e0da4b1ca4463804479e5479",
            "fd52cc4ff78d4cd68376f70b1b408a5e",
            "bb114bcba7014961a0455a3fa45102c5",
            "21802ce922234de094247c92be8480a3",
            "e1cd3bd41a674336b750ee59394a645e",
            "11d3aafb19ae420cb5cb5ad44540eb63",
            "4d545461bba341108b35e06becddb6ca",
            "2408602319fe4cc9a703cfa6797955c2",
            "f02cd04680f841be9e3a2ed3c7f858f0",
            "0c03c658e4984a828b87b80228a26bec",
            "053a2d310b804a28ae1796e674372d0e",
            "401d410e12ca4cf5b86fdba4dc2a27da",
            "6ce52995c9144359b65d6bc42a97fa6e",
            "6c3756d3657f4aea833f7c0074d8d09d",
            "76414c85e09e48458f3320cc78df417b"
          ]
        }
      },
      "source": [
        "import torchvision\n",
        "fmnist_train = torchvision.datasets.FashionMNIST('/content/', download=True)\n",
        "fmnist_test  = torchvision.datasets.FashionMNIST('/content/', download=True, train=False)"
      ],
      "execution_count": 0,
      "outputs": [
        {
          "output_type": "stream",
          "text": [
            "Downloading http://fashion-mnist.s3-website.eu-central-1.amazonaws.com/train-images-idx3-ubyte.gz to /content/FashionMNIST/raw/train-images-idx3-ubyte.gz\n"
          ],
          "name": "stdout"
        },
        {
          "output_type": "display_data",
          "data": {
            "application/vnd.jupyter.widget-view+json": {
              "model_id": "4b279a520583457cbeef27b91a6bbd5b",
              "version_minor": 0,
              "version_major": 2
            },
            "text/plain": [
              "HBox(children=(IntProgress(value=1, bar_style='info', max=1), HTML(value='')))"
            ]
          },
          "metadata": {
            "tags": []
          }
        },
        {
          "output_type": "stream",
          "text": [
            "Extracting /content/FashionMNIST/raw/train-images-idx3-ubyte.gz to /content/FashionMNIST/raw\n",
            "Downloading http://fashion-mnist.s3-website.eu-central-1.amazonaws.com/train-labels-idx1-ubyte.gz to /content/FashionMNIST/raw/train-labels-idx1-ubyte.gz\n"
          ],
          "name": "stdout"
        },
        {
          "output_type": "display_data",
          "data": {
            "application/vnd.jupyter.widget-view+json": {
              "model_id": "707459466bb8478582d6df187a9e4cb6",
              "version_minor": 0,
              "version_major": 2
            },
            "text/plain": [
              "HBox(children=(IntProgress(value=1, bar_style='info', max=1), HTML(value='')))"
            ]
          },
          "metadata": {
            "tags": []
          }
        },
        {
          "output_type": "stream",
          "text": [
            "Extracting /content/FashionMNIST/raw/train-labels-idx1-ubyte.gz to /content/FashionMNIST/raw\n",
            "Downloading http://fashion-mnist.s3-website.eu-central-1.amazonaws.com/t10k-images-idx3-ubyte.gz to /content/FashionMNIST/raw/t10k-images-idx3-ubyte.gz\n",
            "\n"
          ],
          "name": "stdout"
        },
        {
          "output_type": "display_data",
          "data": {
            "application/vnd.jupyter.widget-view+json": {
              "model_id": "18a9614adc474c14a640bc70be3f6240",
              "version_minor": 0,
              "version_major": 2
            },
            "text/plain": [
              "HBox(children=(IntProgress(value=1, bar_style='info', max=1), HTML(value='')))"
            ]
          },
          "metadata": {
            "tags": []
          }
        },
        {
          "output_type": "stream",
          "text": [
            "Extracting /content/FashionMNIST/raw/t10k-images-idx3-ubyte.gz to /content/FashionMNIST/raw\n",
            "Downloading http://fashion-mnist.s3-website.eu-central-1.amazonaws.com/t10k-labels-idx1-ubyte.gz to /content/FashionMNIST/raw/t10k-labels-idx1-ubyte.gz\n"
          ],
          "name": "stdout"
        },
        {
          "output_type": "display_data",
          "data": {
            "application/vnd.jupyter.widget-view+json": {
              "model_id": "2408602319fe4cc9a703cfa6797955c2",
              "version_minor": 0,
              "version_major": 2
            },
            "text/plain": [
              "HBox(children=(IntProgress(value=1, bar_style='info', max=1), HTML(value='')))"
            ]
          },
          "metadata": {
            "tags": []
          }
        },
        {
          "output_type": "stream",
          "text": [
            "Extracting /content/FashionMNIST/raw/t10k-labels-idx1-ubyte.gz to /content/FashionMNIST/raw\n",
            "Processing...\n",
            "Done!\n"
          ],
          "name": "stdout"
        }
      ]
    },
    {
      "cell_type": "code",
      "metadata": {
        "id": "8QrZ6StG5vjq",
        "colab_type": "code",
        "outputId": "0b9730cc-a34a-48e0-e63b-46ebf36ea4a0",
        "colab": {
          "base_uri": "https://localhost:8080/",
          "height": 281
        }
      },
      "source": [
        "for i in range(16):\n",
        "    f, t = fmnist_train[i]\n",
        "    plt.subplot(4, 4, i+1)\n",
        "    plt.imshow(f, cmap='gray')\n",
        "    plt.title(fmnist_train.classes[t])"
      ],
      "execution_count": 0,
      "outputs": [
        {
          "output_type": "display_data",
          "data": {
            "image/png": "[encoded data removed]",
            "text/plain": [
              "<Figure size 432x288 with 16 Axes>"
            ]
          },
          "metadata": {
            "tags": []
          }
        }
      ]
    },
    {
      "cell_type": "code",
      "metadata": {
        "id": "h6U1otTt72g_",
        "colab_type": "code",
        "colab": {}
      },
      "source": [
        "class FMNIST_DS(Dataset):\n",
        "    def __init__(self, ds):\n",
        "        super().__init__()\n",
        "        self.ds = ds\n",
        "        self.len = len(ds)\n",
        "\n",
        "    def __getitem__(self, index):\n",
        "        image , target = self.ds[index] \n",
        "\n",
        "        feature = np.array(image).flatten()/256.0\n",
        "        feature = torch.tensor(feature , dtype=torch.float)\n",
        "\n",
        "        target  = torch.tensor(target)\n",
        "        \n",
        "        return  feature, target\n",
        "       \n",
        "    def __len__(self):\n",
        "        return self.len\n",
        "\n",
        "class ENCODE_DS(Dataset):\n",
        "    def __init__(self, ds):\n",
        "        super().__init__()\n",
        "        self.ds = ds\n",
        "        self.len = len(ds)\n",
        "\n",
        "    def __getitem__(self, index):\n",
        "        image , target = self.ds[index] \n",
        "\n",
        "        feature = np.array(image).flatten()/256.0\n",
        "        feature = torch.tensor(feature , dtype=torch.float)\n",
        "        \n",
        "        return  feature, feature\n",
        "       \n",
        "    def __len__(self):\n",
        "        return self.len\n"
      ],
      "execution_count": 0,
      "outputs": []
    },
    {
      "cell_type": "code",
      "metadata": {
        "id": "xfU_9Aq8AHYN",
        "colab_type": "code",
        "colab": {}
      },
      "source": [
        "train_ds = ENCODE_DS(fmnist_train)\n",
        "test_ds  = ENCODE_DS(fmnist_test)"
      ],
      "execution_count": 0,
      "outputs": []
    },
    {
      "cell_type": "code",
      "metadata": {
        "id": "rsiECfcWCAui",
        "colab_type": "code",
        "outputId": "62a16d18-d972-4acb-cadf-7ea0c5029fa5",
        "colab": {
          "base_uri": "https://localhost:8080/",
          "height": 35
        }
      },
      "source": [
        "f , t = next(iter(train_ds))\n",
        "f.shape , t.shape"
      ],
      "execution_count": 0,
      "outputs": [
        {
          "output_type": "execute_result",
          "data": {
            "text/plain": [
              "(torch.Size([784]), torch.Size([784]))"
            ]
          },
          "metadata": {
            "tags": []
          },
          "execution_count": 7
        }
      ]
    },
    {
      "cell_type": "code",
      "metadata": {
        "id": "CboG6-sJCDpp",
        "colab_type": "code",
        "colab": {}
      },
      "source": [
        "batch_size = 256\n",
        "train_dl = DataLoader(train_ds , batch_size=batch_size , shuffle= True , num_workers = 1)\n",
        "test_dl = DataLoader(test_ds , batch_size=batch_size , shuffle= False , num_workers = 1)"
      ],
      "execution_count": 0,
      "outputs": []
    },
    {
      "cell_type": "code",
      "metadata": {
        "id": "mS5BtSGWCbL5",
        "colab_type": "code",
        "outputId": "b9bbec1a-2242-4a1e-b321-8b1b2cda6a7d",
        "colab": {
          "base_uri": "https://localhost:8080/",
          "height": 35
        }
      },
      "source": [
        "fs , ts = next(iter(train_dl))\n",
        "fs.shape , ts.shape"
      ],
      "execution_count": 0,
      "outputs": [
        {
          "output_type": "execute_result",
          "data": {
            "text/plain": [
              "(torch.Size([100, 784]), torch.Size([100, 784]))"
            ]
          },
          "metadata": {
            "tags": []
          },
          "execution_count": 9
        }
      ]
    },
    {
      "cell_type": "code",
      "metadata": {
        "id": "L1nzbVlNCdJc",
        "colab_type": "code",
        "colab": {}
      },
      "source": [
        "class MLP0(nn.Module):\n",
        "    def __init__(self, input_dim = 200 , output_dim = 10):\n",
        "        super().__init__()\n",
        "        self.n = input_dim\n",
        "        self.o = output_dim\n",
        "\n",
        "        self.fc1  = nn.Linear(self.n, self.o)\n",
        "        self.act1 = nn.Tanh()\n",
        "\n",
        "    def forward(self, x):\n",
        "        out = self.fc1(x)\n",
        "        out = self.act1(out)\n",
        "\n",
        "        return out\n",
        "\n",
        "class ENCODER(nn.Module):\n",
        "    def __init__(self, input_dim = 784, hidden1 = 500, hidden2 = 300, output_dim = 200):\n",
        "        super().__init__()\n",
        "        self.n = input_dim\n",
        "        self.hidden1 = hidden1\n",
        "        self.hidden2 = hidden2\n",
        "        self.o = output_dim\n",
        "\n",
        "        # encode\n",
        "        self.fc1  = nn.Linear(self.n, self.hidden1)\n",
        "        self.act1 = nn.Tanh()\n",
        "        self.fc2  = nn.Linear(self.hidden1, self.hidden2)\n",
        "        self.act2 = nn.Tanh()\n",
        "        self.fc3  = nn.Linear(self.hidden2, self.o)\n",
        "        self.act3 = nn.Tanh()\n",
        "\n",
        "        #decode\n",
        "        self.fc4  = nn.Linear(self.o, self.hidden2)\n",
        "        self.act4 = nn.Tanh()\n",
        "        self.fc5  = nn.Linear(self.hidden2, self.hidden1)\n",
        "        self.act5 = nn.Tanh()\n",
        "        self.fc6  = nn.Linear(self.hidden1, self.n)\n",
        "        self.act6 = nn.Tanh()\n",
        "\n",
        "    def encode(self, x):\n",
        "        out = self.fc1(x)\n",
        "        out = self.act1(out)\n",
        "        out = self.fc2(out)\n",
        "        out = self.act2(out)\n",
        "        out = self.fc3(out)\n",
        "        out = self.act3(out)\n",
        "        return out\n",
        "\n",
        "    def decode(self, x):\n",
        "        out = self.fc4(x)\n",
        "        out = self.act4(out)\n",
        "        out = self.fc5(out)\n",
        "        out = self.act5(out)\n",
        "        out = self.fc6(out)\n",
        "        out = self.act6(out)\n",
        "        return out\n",
        "\n",
        "\n",
        "    def forward(self, x):\n",
        "        #encode\n",
        "        out = self.encode(x)\n",
        "        #decode\n",
        "        out = self.decode(out)\n",
        "        return out\n",
        "    "
      ],
      "execution_count": 0,
      "outputs": []
    },
    {
      "cell_type": "code",
      "metadata": {
        "id": "vdEW559VD8x6",
        "colab_type": "code",
        "colab": {}
      },
      "source": [
        "encoder = ENCODER().to(device)"
      ],
      "execution_count": 0,
      "outputs": []
    },
    {
      "cell_type": "code",
      "metadata": {
        "id": "RYK1rfvCEG9G",
        "colab_type": "code",
        "colab": {}
      },
      "source": [
        "criterion = nn.MSELoss().to(device)\n",
        "optimizer = optim.SGD(net.parameters(),lr=0.5)\n",
        "scheduler = optim.lr_scheduler.StepLR(optimizer, step_size=1, gamma=0.999)"
      ],
      "execution_count": 0,
      "outputs": []
    },
    {
      "cell_type": "code",
      "metadata": {
        "id": "_3KyXdE665hK",
        "colab_type": "code",
        "colab": {}
      },
      "source": [
        "def plt_conf_mat(y_true , y_pred, labels, normalize = 'true'  , include_values = True, \n",
        "                 xticks_rotation='horizontal',\n",
        "                 values_format=None,\n",
        "                 cmap='winter'):\n",
        "    plt.figure(figsize=[9, 9])\n",
        "    ax = plt.subplot(1, 1, 1)\n",
        "    cm = confusion_matrix(y_true, y_pred, normalize=normalize)\n",
        "    disp = ConfusionMatrixDisplay(confusion_matrix=cm, display_labels=labels)\n",
        "    return disp.plot(include_values=include_values,\n",
        "                     cmap=cmap, ax=ax, xticks_rotation=xticks_rotation,\n",
        "                     values_format=values_format)"
      ],
      "execution_count": 0,
      "outputs": []
    },
    {
      "cell_type": "code",
      "metadata": {
        "id": "2t-dKAI2ELW0",
        "colab_type": "code",
        "colab": {}
      },
      "source": [
        "def train_step(model, train_dl, criterion, optimizer):\n",
        "    total_loss = 0.0\n",
        "    total_correct = 0\n",
        "    \n",
        "    # for i, (train_inputs, train_labels) in tqdm_notebook(enumerate(train_dl), \n",
        "    #                                                      desc='Training', \n",
        "    #                                                      total=len(train_dl)):\n",
        "    for i, (train_inputs, train_labels) in enumerate(train_dl):\n",
        "        # move to device\n",
        "        train_inputs , train_labels = train_inputs.to(device) , train_labels.to(device)\n",
        "\n",
        "        optimizer.zero_grad()\n",
        "        output = model(train_inputs)\n",
        "        loss = criterion(output, train_labels)\n",
        "        loss.backward()     \n",
        "        optimizer.step()\n",
        "        total_loss += loss.item()\n",
        "        # with torch.no_grad():\n",
        "        #     mx , argmx = torch.max(output, dim=1)\n",
        "        #     total_correct += torch.sum(argmx == train_labels).item()/len(argmx)\n",
        "\n",
        "    return total_loss/len(train_dl), total_correct/len(train_dl)\n",
        "\n",
        "\n",
        "def validate_step(model, valid_dl, criterion):\n",
        "    total_loss = 0.0\n",
        "    total_correct = 0\n",
        "    with torch.no_grad():\n",
        "        # for i, (test_inputs, test_labels) in tqdm_notebook(enumerate(valid_dl), \n",
        "        #                                                 desc='Validation', \n",
        "        #                                                 total=len(valid_dl)):\n",
        "        for i, (test_inputs, test_labels) in enumerate(valid_dl):\n",
        "            # move to device\n",
        "            test_inputs , test_labels = test_inputs.to(device) , test_labels.to(device)\n",
        "\n",
        "            output = model(test_inputs)\n",
        "            loss = criterion(output, test_labels)\n",
        "            total_loss += loss.item()\n",
        "\n",
        "            # mx , argmx = torch.max(output, dim=1)\n",
        "            # total_correct += torch.sum(argmx == test_labels).item()/len(argmx)\n",
        "\n",
        "    return total_loss/len(test_dl), total_correct/len(test_dl)\n",
        "\n",
        "\n",
        "def train(model, train_dl, valid_dl, criterion, optimizer, scheduler, num_epochs, train_loss, test_loss, train_acc, test_acc):\n",
        "    \n",
        "    best_wts = None\n",
        "    best_loss = float('inf')\n",
        "\n",
        "    for epoch in range(num_epochs):\n",
        "\n",
        "        ## perform one epoch of training and validation\n",
        "        trn_loss, trn_acc = train_step(model, train_dl, criterion, optimizer)\n",
        "        val_loss, val_acc = validate_step(model, valid_dl, criterion)\n",
        "        scheduler.step()\n",
        "\n",
        "        train_loss += [trn_loss]\n",
        "        test_loss  += [val_loss]\n",
        "        train_acc  += [trn_acc ]\n",
        "        test_acc   += [val_acc ]\n",
        "\n",
        "        # save weights\n",
        "        if val_loss < best_loss:\n",
        "            best_loss = val_loss\n",
        "            best_wts = model.state_dict().copy()\n",
        "            \n",
        "# #             torch.save(best_wts, 'models/lstm-{}-{}-{}-{}-{}-{}-{:.5f}.pth'.format(\n",
        "# #                 epoch, max_len, min_count, model.embed_size, model.hidden_size, model.num_layers, best_acc))\n",
        "\n",
        "        print(f'[Epoch:{epoch+1}/{num_epochs}] Training Loss: %.4f| Testing Loss: %.4f| Training ACC: %.4f| Testing ACC: %.4f|'\n",
        "              % (trn_loss* 10000, val_loss* 10000 , trn_acc*100, val_acc*100))\n",
        "\n",
        "    model.load_state_dict(best_wts)\n",
        "    return train_loss, test_loss, train_acc, test_acc"
      ],
      "execution_count": 0,
      "outputs": []
    },
    {
      "cell_type": "code",
      "metadata": {
        "id": "IeukQhoCTJTL",
        "colab_type": "code",
        "colab": {}
      },
      "source": [
        "train_loss , test_loss, train_acc, test_acc = [], [], [], []"
      ],
      "execution_count": 0,
      "outputs": []
    },
    {
      "cell_type": "code",
      "metadata": {
        "id": "yNe4NtxGV1sz",
        "colab_type": "code",
        "outputId": "2b530ca5-5d73-439d-955f-3b0eca360021",
        "colab": {
          "base_uri": "https://localhost:8080/",
          "height": 1000
        }
      },
      "source": [
        "train_loss, test_loss, train_acc, test_acc = train(encoder, train_dl, test_dl, criterion, optimizer, scheduler, 100, train_loss, test_loss, train_acc, test_acc)"
      ],
      "execution_count": 0,
      "outputs": [
        {
          "output_type": "stream",
          "text": [
            "[Epoch:1/100] Training Loss: 137.1034| Testing Loss: 138.8043| Training ACC: 0.0000| Testing ACC: 0.0000|\n",
            "[Epoch:2/100] Training Loss: 137.0878| Testing Loss: 138.7752| Training ACC: 0.0000| Testing ACC: 0.0000|\n",
            "[Epoch:3/100] Training Loss: 137.0934| Testing Loss: 138.7568| Training ACC: 0.0000| Testing ACC: 0.0000|\n",
            "[Epoch:4/100] Training Loss: 137.0262| Testing Loss: 138.7177| Training ACC: 0.0000| Testing ACC: 0.0000|\n",
            "[Epoch:5/100] Training Loss: 137.0143| Testing Loss: 138.6927| Training ACC: 0.0000| Testing ACC: 0.0000|\n",
            "[Epoch:6/100] Training Loss: 136.9866| Testing Loss: 138.6593| Training ACC: 0.0000| Testing ACC: 0.0000|\n",
            "[Epoch:7/100] Training Loss: 136.9575| Testing Loss: 138.6276| Training ACC: 0.0000| Testing ACC: 0.0000|\n",
            "[Epoch:8/100] Training Loss: 136.9021| Testing Loss: 138.5962| Training ACC: 0.0000| Testing ACC: 0.0000|\n",
            "[Epoch:9/100] Training Loss: 136.8780| Testing Loss: 138.5753| Training ACC: 0.0000| Testing ACC: 0.0000|\n",
            "[Epoch:10/100] Training Loss: 136.8675| Testing Loss: 138.5407| Training ACC: 0.0000| Testing ACC: 0.0000|\n",
            "[Epoch:11/100] Training Loss: 136.8436| Testing Loss: 138.5120| Training ACC: 0.0000| Testing ACC: 0.0000|\n",
            "[Epoch:12/100] Training Loss: 136.8174| Testing Loss: 138.4796| Training ACC: 0.0000| Testing ACC: 0.0000|\n",
            "[Epoch:13/100] Training Loss: 136.7766| Testing Loss: 138.4510| Training ACC: 0.0000| Testing ACC: 0.0000|\n",
            "[Epoch:14/100] Training Loss: 136.7648| Testing Loss: 138.4270| Training ACC: 0.0000| Testing ACC: 0.0000|\n",
            "[Epoch:15/100] Training Loss: 136.7051| Testing Loss: 138.3920| Training ACC: 0.0000| Testing ACC: 0.0000|\n",
            "[Epoch:16/100] Training Loss: 136.7000| Testing Loss: 138.3643| Training ACC: 0.0000| Testing ACC: 0.0000|\n",
            "[Epoch:17/100] Training Loss: 136.6515| Testing Loss: 138.3322| Training ACC: 0.0000| Testing ACC: 0.0000|\n",
            "[Epoch:18/100] Training Loss: 136.6398| Testing Loss: 138.3120| Training ACC: 0.0000| Testing ACC: 0.0000|\n",
            "[Epoch:19/100] Training Loss: 136.6133| Testing Loss: 138.2750| Training ACC: 0.0000| Testing ACC: 0.0000|\n",
            "[Epoch:20/100] Training Loss: 136.6013| Testing Loss: 138.2482| Training ACC: 0.0000| Testing ACC: 0.0000|\n",
            "[Epoch:21/100] Training Loss: 136.5185| Testing Loss: 138.2187| Training ACC: 0.0000| Testing ACC: 0.0000|\n",
            "[Epoch:22/100] Training Loss: 136.5211| Testing Loss: 138.1872| Training ACC: 0.0000| Testing ACC: 0.0000|\n",
            "[Epoch:23/100] Training Loss: 136.4758| Testing Loss: 138.1714| Training ACC: 0.0000| Testing ACC: 0.0000|\n",
            "[Epoch:24/100] Training Loss: 136.4570| Testing Loss: 138.1300| Training ACC: 0.0000| Testing ACC: 0.0000|\n",
            "[Epoch:25/100] Training Loss: 136.4514| Testing Loss: 138.1024| Training ACC: 0.0000| Testing ACC: 0.0000|\n",
            "[Epoch:26/100] Training Loss: 136.4296| Testing Loss: 138.0793| Training ACC: 0.0000| Testing ACC: 0.0000|\n",
            "[Epoch:27/100] Training Loss: 136.3558| Testing Loss: 138.0461| Training ACC: 0.0000| Testing ACC: 0.0000|\n",
            "[Epoch:28/100] Training Loss: 136.3368| Testing Loss: 138.0239| Training ACC: 0.0000| Testing ACC: 0.0000|\n",
            "[Epoch:29/100] Training Loss: 136.3458| Testing Loss: 137.9946| Training ACC: 0.0000| Testing ACC: 0.0000|\n",
            "[Epoch:30/100] Training Loss: 136.2891| Testing Loss: 137.9557| Training ACC: 0.0000| Testing ACC: 0.0000|\n",
            "[Epoch:31/100] Training Loss: 136.2467| Testing Loss: 137.9260| Training ACC: 0.0000| Testing ACC: 0.0000|\n",
            "[Epoch:32/100] Training Loss: 136.2425| Testing Loss: 137.9048| Training ACC: 0.0000| Testing ACC: 0.0000|\n",
            "[Epoch:33/100] Training Loss: 136.2043| Testing Loss: 137.8668| Training ACC: 0.0000| Testing ACC: 0.0000|\n",
            "[Epoch:34/100] Training Loss: 136.2068| Testing Loss: 137.8406| Training ACC: 0.0000| Testing ACC: 0.0000|\n",
            "[Epoch:35/100] Training Loss: 136.1412| Testing Loss: 137.8164| Training ACC: 0.0000| Testing ACC: 0.0000|\n",
            "[Epoch:36/100] Training Loss: 136.0896| Testing Loss: 137.7835| Training ACC: 0.0000| Testing ACC: 0.0000|\n",
            "[Epoch:37/100] Training Loss: 136.0600| Testing Loss: 137.7545| Training ACC: 0.0000| Testing ACC: 0.0000|\n",
            "[Epoch:38/100] Training Loss: 136.0203| Testing Loss: 137.7276| Training ACC: 0.0000| Testing ACC: 0.0000|\n",
            "[Epoch:39/100] Training Loss: 136.0403| Testing Loss: 137.6960| Training ACC: 0.0000| Testing ACC: 0.0000|\n",
            "[Epoch:40/100] Training Loss: 135.9887| Testing Loss: 137.6727| Training ACC: 0.0000| Testing ACC: 0.0000|\n",
            "[Epoch:41/100] Training Loss: 135.9563| Testing Loss: 137.6394| Training ACC: 0.0000| Testing ACC: 0.0000|\n",
            "[Epoch:42/100] Training Loss: 135.9123| Testing Loss: 137.6094| Training ACC: 0.0000| Testing ACC: 0.0000|\n",
            "[Epoch:43/100] Training Loss: 135.9078| Testing Loss: 137.5854| Training ACC: 0.0000| Testing ACC: 0.0000|\n",
            "[Epoch:44/100] Training Loss: 135.9078| Testing Loss: 137.5525| Training ACC: 0.0000| Testing ACC: 0.0000|\n",
            "[Epoch:45/100] Training Loss: 135.8269| Testing Loss: 137.5232| Training ACC: 0.0000| Testing ACC: 0.0000|\n",
            "[Epoch:46/100] Training Loss: 135.8103| Testing Loss: 137.4951| Training ACC: 0.0000| Testing ACC: 0.0000|\n",
            "[Epoch:47/100] Training Loss: 135.7887| Testing Loss: 137.4648| Training ACC: 0.0000| Testing ACC: 0.0000|\n",
            "[Epoch:48/100] Training Loss: 135.7312| Testing Loss: 137.4369| Training ACC: 0.0000| Testing ACC: 0.0000|\n",
            "[Epoch:49/100] Training Loss: 135.6884| Testing Loss: 137.4085| Training ACC: 0.0000| Testing ACC: 0.0000|\n",
            "[Epoch:50/100] Training Loss: 135.7112| Testing Loss: 137.3792| Training ACC: 0.0000| Testing ACC: 0.0000|\n",
            "[Epoch:51/100] Training Loss: 135.6860| Testing Loss: 137.3742| Training ACC: 0.0000| Testing ACC: 0.0000|\n",
            "[Epoch:52/100] Training Loss: 135.6356| Testing Loss: 137.3257| Training ACC: 0.0000| Testing ACC: 0.0000|\n",
            "[Epoch:53/100] Training Loss: 135.6534| Testing Loss: 137.2924| Training ACC: 0.0000| Testing ACC: 0.0000|\n",
            "[Epoch:54/100] Training Loss: 135.6248| Testing Loss: 137.2651| Training ACC: 0.0000| Testing ACC: 0.0000|\n",
            "[Epoch:55/100] Training Loss: 135.5536| Testing Loss: 137.2357| Training ACC: 0.0000| Testing ACC: 0.0000|\n",
            "[Epoch:56/100] Training Loss: 135.5007| Testing Loss: 137.2114| Training ACC: 0.0000| Testing ACC: 0.0000|\n",
            "[Epoch:57/100] Training Loss: 135.4942| Testing Loss: 137.1798| Training ACC: 0.0000| Testing ACC: 0.0000|\n",
            "[Epoch:58/100] Training Loss: 135.4588| Testing Loss: 137.1508| Training ACC: 0.0000| Testing ACC: 0.0000|\n",
            "[Epoch:59/100] Training Loss: 135.4552| Testing Loss: 137.1286| Training ACC: 0.0000| Testing ACC: 0.0000|\n",
            "[Epoch:60/100] Training Loss: 135.4066| Testing Loss: 137.0973| Training ACC: 0.0000| Testing ACC: 0.0000|\n",
            "[Epoch:61/100] Training Loss: 135.3607| Testing Loss: 137.0813| Training ACC: 0.0000| Testing ACC: 0.0000|\n",
            "[Epoch:62/100] Training Loss: 135.3804| Testing Loss: 137.0407| Training ACC: 0.0000| Testing ACC: 0.0000|\n",
            "[Epoch:63/100] Training Loss: 135.3643| Testing Loss: 137.0117| Training ACC: 0.0000| Testing ACC: 0.0000|\n",
            "[Epoch:64/100] Training Loss: 135.3482| Testing Loss: 136.9833| Training ACC: 0.0000| Testing ACC: 0.0000|\n",
            "[Epoch:65/100] Training Loss: 135.3021| Testing Loss: 136.9530| Training ACC: 0.0000| Testing ACC: 0.0000|\n",
            "[Epoch:66/100] Training Loss: 135.2635| Testing Loss: 136.9247| Training ACC: 0.0000| Testing ACC: 0.0000|\n",
            "[Epoch:67/100] Training Loss: 135.2620| Testing Loss: 136.8992| Training ACC: 0.0000| Testing ACC: 0.0000|\n",
            "[Epoch:68/100] Training Loss: 135.1921| Testing Loss: 136.8714| Training ACC: 0.0000| Testing ACC: 0.0000|\n",
            "[Epoch:69/100] Training Loss: 135.1665| Testing Loss: 136.8423| Training ACC: 0.0000| Testing ACC: 0.0000|\n",
            "[Epoch:70/100] Training Loss: 135.0996| Testing Loss: 136.8127| Training ACC: 0.0000| Testing ACC: 0.0000|\n",
            "[Epoch:71/100] Training Loss: 135.1199| Testing Loss: 136.7831| Training ACC: 0.0000| Testing ACC: 0.0000|\n",
            "[Epoch:72/100] Training Loss: 135.0721| Testing Loss: 136.7576| Training ACC: 0.0000| Testing ACC: 0.0000|\n",
            "[Epoch:73/100] Training Loss: 135.0537| Testing Loss: 136.7288| Training ACC: 0.0000| Testing ACC: 0.0000|\n",
            "[Epoch:74/100] Training Loss: 135.0299| Testing Loss: 136.7052| Training ACC: 0.0000| Testing ACC: 0.0000|\n",
            "[Epoch:75/100] Training Loss: 134.9815| Testing Loss: 136.6740| Training ACC: 0.0000| Testing ACC: 0.0000|\n",
            "[Epoch:76/100] Training Loss: 134.9869| Testing Loss: 136.6435| Training ACC: 0.0000| Testing ACC: 0.0000|\n",
            "[Epoch:77/100] Training Loss: 134.9209| Testing Loss: 136.6212| Training ACC: 0.0000| Testing ACC: 0.0000|\n",
            "[Epoch:78/100] Training Loss: 134.9344| Testing Loss: 136.5918| Training ACC: 0.0000| Testing ACC: 0.0000|\n",
            "[Epoch:79/100] Training Loss: 134.8610| Testing Loss: 136.5614| Training ACC: 0.0000| Testing ACC: 0.0000|\n",
            "[Epoch:80/100] Training Loss: 134.8343| Testing Loss: 136.5356| Training ACC: 0.0000| Testing ACC: 0.0000|\n",
            "[Epoch:81/100] Training Loss: 134.7867| Testing Loss: 136.5020| Training ACC: 0.0000| Testing ACC: 0.0000|\n",
            "[Epoch:82/100] Training Loss: 134.7999| Testing Loss: 136.4788| Training ACC: 0.0000| Testing ACC: 0.0000|\n",
            "[Epoch:83/100] Training Loss: 134.7929| Testing Loss: 136.4505| Training ACC: 0.0000| Testing ACC: 0.0000|\n",
            "[Epoch:84/100] Training Loss: 134.7267| Testing Loss: 136.4229| Training ACC: 0.0000| Testing ACC: 0.0000|\n",
            "[Epoch:85/100] Training Loss: 134.6953| Testing Loss: 136.3913| Training ACC: 0.0000| Testing ACC: 0.0000|\n",
            "[Epoch:86/100] Training Loss: 134.6730| Testing Loss: 136.3644| Training ACC: 0.0000| Testing ACC: 0.0000|\n",
            "[Epoch:87/100] Training Loss: 134.6257| Testing Loss: 136.3364| Training ACC: 0.0000| Testing ACC: 0.0000|\n",
            "[Epoch:88/100] Training Loss: 134.6076| Testing Loss: 136.3123| Training ACC: 0.0000| Testing ACC: 0.0000|\n",
            "[Epoch:89/100] Training Loss: 134.5954| Testing Loss: 136.2794| Training ACC: 0.0000| Testing ACC: 0.0000|\n",
            "[Epoch:90/100] Training Loss: 134.5691| Testing Loss: 136.2576| Training ACC: 0.0000| Testing ACC: 0.0000|\n",
            "[Epoch:91/100] Training Loss: 134.5295| Testing Loss: 136.2282| Training ACC: 0.0000| Testing ACC: 0.0000|\n",
            "[Epoch:92/100] Training Loss: 134.5229| Testing Loss: 136.1968| Training ACC: 0.0000| Testing ACC: 0.0000|\n",
            "[Epoch:93/100] Training Loss: 134.4921| Testing Loss: 136.1710| Training ACC: 0.0000| Testing ACC: 0.0000|\n",
            "[Epoch:94/100] Training Loss: 134.4755| Testing Loss: 136.1498| Training ACC: 0.0000| Testing ACC: 0.0000|\n",
            "[Epoch:95/100] Training Loss: 134.4246| Testing Loss: 136.1133| Training ACC: 0.0000| Testing ACC: 0.0000|\n",
            "[Epoch:96/100] Training Loss: 134.3901| Testing Loss: 136.0902| Training ACC: 0.0000| Testing ACC: 0.0000|\n",
            "[Epoch:97/100] Training Loss: 134.4025| Testing Loss: 136.0598| Training ACC: 0.0000| Testing ACC: 0.0000|\n",
            "[Epoch:98/100] Training Loss: 134.3301| Testing Loss: 136.0406| Training ACC: 0.0000| Testing ACC: 0.0000|\n",
            "[Epoch:99/100] Training Loss: 134.3332| Testing Loss: 136.0023| Training ACC: 0.0000| Testing ACC: 0.0000|\n",
            "[Epoch:100/100] Training Loss: 134.3297| Testing Loss: 135.9831| Training ACC: 0.0000| Testing ACC: 0.0000|\n"
          ],
          "name": "stdout"
        }
      ]
    },
    {
      "cell_type": "code",
      "metadata": {
        "id": "vV-3DPYHWGqu",
        "colab_type": "code",
        "outputId": "78d8109c-5acd-4936-c267-8d4dfd2058af",
        "colab": {
          "base_uri": "https://localhost:8080/",
          "height": 299
        }
      },
      "source": [
        "plt.plot([i for i in train_loss] , label='train')\n",
        "plt.plot([i for i in test_loss ] , label ='test')\n",
        "plt.legend()\n",
        "plt.title('trianing loss: 1000, 100')"
      ],
      "execution_count": 0,
      "outputs": [
        {
          "output_type": "execute_result",
          "data": {
            "text/plain": [
              "Text(0.5, 1.0, 'trianing loss: 1000, 100')"
            ]
          },
          "metadata": {
            "tags": []
          },
          "execution_count": 56
        },
        {
          "output_type": "display_data",
          "data": {
            "image/png": "[encoded data removed]",
            "text/plain": [
              "<Figure size 432x288 with 1 Axes>"
            ]
          },
          "metadata": {
            "tags": []
          }
        }
      ]
    },
    {
      "cell_type": "code",
      "metadata": {
        "id": "2xaulnRR5CAT",
        "colab_type": "code",
        "outputId": "84610e5c-ce65-4016-b284-9eb9ec370312",
        "colab": {
          "base_uri": "https://localhost:8080/",
          "height": 35
        }
      },
      "source": [
        "# load saved encoder\n",
        "encoder.load_state_dict(torch.load('/content/drive/My Drive/ut/NNDL/encoder.pth'))"
      ],
      "execution_count": 0,
      "outputs": [
        {
          "output_type": "execute_result",
          "data": {
            "text/plain": [
              "<All keys matched successfully>"
            ]
          },
          "metadata": {
            "tags": []
          },
          "execution_count": 8
        }
      ]
    },
    {
      "cell_type": "code",
      "metadata": {
        "id": "I7OGAtuC6304",
        "colab_type": "code",
        "colab": {}
      },
      "source": [
        "net2 = MLP0().to(device)"
      ],
      "execution_count": 0,
      "outputs": []
    },
    {
      "cell_type": "code",
      "metadata": {
        "id": "KWLG1dd37xjH",
        "colab_type": "code",
        "colab": {}
      },
      "source": [
        "train_ds = FMNIST_DS(fmnist_train)\n",
        "test_ds  = FMNIST_DS(fmnist_test)\n",
        "batch_size = 256\n",
        "train_dl = DataLoader(train_ds , batch_size=batch_size , shuffle= True , num_workers = 10)\n",
        "test_dl = DataLoader(test_ds , batch_size=batch_size , shuffle= False , num_workers = 10)"
      ],
      "execution_count": 0,
      "outputs": []
    },
    {
      "cell_type": "code",
      "metadata": {
        "id": "DdYmLWr7-Hua",
        "colab_type": "code",
        "colab": {}
      },
      "source": [
        "criterion = nn.CrossEntropyLoss().to(device)\n",
        "optimizer = optim.SGD(net2.parameters(),lr=0.5)\n",
        "scheduler = optim.lr_scheduler.StepLR(optimizer, step_size=1, gamma=0.99)"
      ],
      "execution_count": 0,
      "outputs": []
    },
    {
      "cell_type": "code",
      "metadata": {
        "id": "Cv6VF5Kv-PmI",
        "colab_type": "code",
        "colab": {}
      },
      "source": [
        "def train_step(model, train_dl, criterion, optimizer, encoder):\n",
        "    total_loss = 0.0\n",
        "    total_correct = 0\n",
        "    \n",
        "    # for i, (train_inputs, train_labels) in tqdm_notebook(enumerate(train_dl), \n",
        "    #                                                      desc='Training', \n",
        "    #                                                      total=len(train_dl)):\n",
        "    for i, (train_inputs, train_labels) in enumerate(train_dl):\n",
        "        # move to device\n",
        "        train_inputs , train_labels = train_inputs.to(device) , train_labels.to(device)\n",
        "\n",
        "        optimizer.zero_grad()\n",
        "        train_inputs = encoder.encode(train_inputs)\n",
        "        output = model(train_inputs)\n",
        "        loss = criterion(output, train_labels)\n",
        "        loss.backward()     \n",
        "        optimizer.step()\n",
        "        total_loss += loss.item()\n",
        "        with torch.no_grad():\n",
        "            mx , argmx = torch.max(output, dim=1)\n",
        "            total_correct += torch.sum(argmx == train_labels).item()/len(argmx)\n",
        "\n",
        "    return total_loss/len(train_dl), total_correct/len(train_dl)\n",
        "\n",
        "\n",
        "def validate_step(model, valid_dl, criterion, encoder):\n",
        "    total_loss = 0.0\n",
        "    total_correct = 0\n",
        "    with torch.no_grad():\n",
        "        # for i, (test_inputs, test_labels) in tqdm_notebook(enumerate(valid_dl), \n",
        "        #                                                 desc='Validation', \n",
        "        #                                                 total=len(valid_dl)):\n",
        "        for i, (test_inputs, test_labels) in enumerate(valid_dl):\n",
        "            # move to device\n",
        "            test_inputs , test_labels = test_inputs.to(device) , test_labels.to(device)\n",
        "            test_inputs = encoder.encode(test_inputs)\n",
        "            output = model(test_inputs)\n",
        "            loss = criterion(output, test_labels)\n",
        "            total_loss += loss.item()\n",
        "\n",
        "            mx , argmx = torch.max(output, dim=1)\n",
        "            total_correct += torch.sum(argmx == test_labels).item()/len(argmx)\n",
        "\n",
        "    return total_loss/len(test_dl), total_correct/len(test_dl)\n",
        "\n",
        "\n",
        "def train(model, train_dl, valid_dl, criterion, optimizer, scheduler, encoder, num_epochs, train_loss, test_loss, train_acc, test_acc):\n",
        "    \n",
        "    best_wts = None\n",
        "    best_loss = float('inf')\n",
        "\n",
        "    for epoch in range(num_epochs):\n",
        "\n",
        "        ## perform one epoch of training and validation\n",
        "        trn_loss, trn_acc = train_step(model, train_dl, criterion, optimizer, encoder)\n",
        "        val_loss, val_acc = validate_step(model, valid_dl, criterion, encoder)\n",
        "        scheduler.step()\n",
        "\n",
        "        train_loss += [trn_loss]\n",
        "        test_loss  += [val_loss]\n",
        "        train_acc  += [trn_acc ]\n",
        "        test_acc   += [val_acc ]\n",
        "\n",
        "        # save weights\n",
        "        if val_loss < best_loss:\n",
        "            best_loss = val_loss\n",
        "            best_wts = model.state_dict().copy()\n",
        "            \n",
        "# #             torch.save(best_wts, 'models/lstm-{}-{}-{}-{}-{}-{}-{:.5f}.pth'.format(\n",
        "# #                 epoch, max_len, min_count, model.embed_size, model.hidden_size, model.num_layers, best_acc))\n",
        "\n",
        "        print(f'[Epoch:{epoch+1}/{num_epochs}] Training Loss: %.4f| Testing Loss: %.4f| Training ACC: %.4f| Testing ACC: %.4f|'\n",
        "              % (trn_loss* 10000, val_loss* 10000 , trn_acc*100, val_acc*100))\n",
        "\n",
        "    model.load_state_dict(best_wts)\n",
        "    return train_loss, test_loss, train_acc, test_acc"
      ],
      "execution_count": 0,
      "outputs": []
    },
    {
      "cell_type": "code",
      "metadata": {
        "colab_type": "code",
        "id": "z3k2nCKC_Emn",
        "colab": {}
      },
      "source": [
        "train_loss , test_loss, train_acc, test_acc = [], [], [], []"
      ],
      "execution_count": 0,
      "outputs": []
    },
    {
      "cell_type": "code",
      "metadata": {
        "colab_type": "code",
        "outputId": "50c47a07-64a2-416c-ed50-5774683cc54b",
        "id": "twj3RM_0_Ems",
        "colab": {
          "base_uri": "https://localhost:8080/",
          "height": 1000
        }
      },
      "source": [
        "train_loss, test_loss, train_acc, test_acc = train(net2, train_dl, test_dl, criterion, optimizer, scheduler, encoder, 100, train_loss, test_loss, train_acc, test_acc)"
      ],
      "execution_count": 0,
      "outputs": [
        {
          "output_type": "stream",
          "text": [
            "[Epoch:1/100] Training Loss: 13745.4736| Testing Loss: 12322.1743| Training ACC: 77.6546| Testing ACC: 78.9648|\n",
            "[Epoch:2/100] Training Loss: 11942.4892| Testing Loss: 11820.7537| Training ACC: 80.0704| Testing ACC: 79.4043|\n",
            "[Epoch:3/100] Training Loss: 11607.4508| Testing Loss: 11606.5584| Training ACC: 80.4250| Testing ACC: 79.8145|\n",
            "[Epoch:4/100] Training Loss: 11438.2992| Testing Loss: 11481.5323| Training ACC: 80.6305| Testing ACC: 79.9609|\n",
            "[Epoch:5/100] Training Loss: 11330.6338| Testing Loss: 11395.1001| Training ACC: 80.8317| Testing ACC: 80.0781|\n",
            "[Epoch:6/100] Training Loss: 11252.7577| Testing Loss: 11332.3115| Training ACC: 80.9680| Testing ACC: 80.2637|\n",
            "[Epoch:7/100] Training Loss: 11195.2411| Testing Loss: 11286.3999| Training ACC: 81.0976| Testing ACC: 80.2441|\n",
            "[Epoch:8/100] Training Loss: 11148.7177| Testing Loss: 11246.8485| Training ACC: 81.2057| Testing ACC: 80.2539|\n",
            "[Epoch:9/100] Training Loss: 11113.1499| Testing Loss: 11218.9467| Training ACC: 81.3098| Testing ACC: 80.4980|\n",
            "[Epoch:10/100] Training Loss: 11080.4152| Testing Loss: 11188.4095| Training ACC: 81.3785| Testing ACC: 80.5273|\n",
            "[Epoch:11/100] Training Loss: 11053.0250| Testing Loss: 11162.9875| Training ACC: 81.4295| Testing ACC: 80.6250|\n",
            "[Epoch:12/100] Training Loss: 11028.2970| Testing Loss: 11145.0886| Training ACC: 81.5143| Testing ACC: 80.7227|\n",
            "[Epoch:13/100] Training Loss: 11010.5603| Testing Loss: 11128.0454| Training ACC: 81.5354| Testing ACC: 80.6836|\n",
            "[Epoch:14/100] Training Loss: 10991.8374| Testing Loss: 11113.1862| Training ACC: 81.5680| Testing ACC: 80.8691|\n",
            "[Epoch:15/100] Training Loss: 10975.9775| Testing Loss: 11097.1266| Training ACC: 81.5941| Testing ACC: 80.8398|\n",
            "[Epoch:16/100] Training Loss: 10959.0250| Testing Loss: 11086.6292| Training ACC: 81.6545| Testing ACC: 80.9277|\n",
            "[Epoch:17/100] Training Loss: 10946.9233| Testing Loss: 11073.5514| Training ACC: 81.6766| Testing ACC: 80.9766|\n",
            "[Epoch:18/100] Training Loss: 10933.8454| Testing Loss: 11064.2848| Training ACC: 81.7138| Testing ACC: 81.1133|\n",
            "[Epoch:19/100] Training Loss: 10924.0052| Testing Loss: 11055.6100| Training ACC: 81.7658| Testing ACC: 80.9375|\n",
            "[Epoch:20/100] Training Loss: 10912.9660| Testing Loss: 11045.5518| Training ACC: 81.7559| Testing ACC: 81.0742|\n",
            "[Epoch:21/100] Training Loss: 10902.6703| Testing Loss: 11037.6004| Training ACC: 81.8113| Testing ACC: 81.1230|\n",
            "[Epoch:22/100] Training Loss: 10893.0100| Testing Loss: 11030.5196| Training ACC: 81.7747| Testing ACC: 81.0547|\n",
            "[Epoch:23/100] Training Loss: 10885.7843| Testing Loss: 11024.1345| Training ACC: 81.8312| Testing ACC: 81.1230|\n",
            "[Epoch:24/100] Training Loss: 10875.8221| Testing Loss: 11017.1642| Training ACC: 81.8368| Testing ACC: 81.1230|\n",
            "[Epoch:25/100] Training Loss: 10870.5003| Testing Loss: 11010.5941| Training ACC: 81.8617| Testing ACC: 81.0938|\n",
            "[Epoch:26/100] Training Loss: 10862.7834| Testing Loss: 11003.7835| Training ACC: 81.9077| Testing ACC: 81.1133|\n",
            "[Epoch:27/100] Training Loss: 10856.4967| Testing Loss: 10999.3687| Training ACC: 81.8999| Testing ACC: 81.1426|\n",
            "[Epoch:28/100] Training Loss: 10850.1909| Testing Loss: 10994.2018| Training ACC: 81.9282| Testing ACC: 81.1426|\n",
            "[Epoch:29/100] Training Loss: 10845.8530| Testing Loss: 10990.1326| Training ACC: 81.9232| Testing ACC: 81.0645|\n",
            "[Epoch:30/100] Training Loss: 10839.8442| Testing Loss: 10986.5564| Training ACC: 81.9238| Testing ACC: 81.2012|\n",
            "[Epoch:31/100] Training Loss: 10839.0897| Testing Loss: 10980.5103| Training ACC: 81.9564| Testing ACC: 81.1816|\n",
            "[Epoch:32/100] Training Loss: 10829.8524| Testing Loss: 10974.9863| Training ACC: 82.0290| Testing ACC: 81.1328|\n",
            "[Epoch:33/100] Training Loss: 10822.8224| Testing Loss: 10973.2630| Training ACC: 81.9836| Testing ACC: 81.1523|\n",
            "[Epoch:34/100] Training Loss: 10817.3571| Testing Loss: 10968.7532| Training ACC: 82.0290| Testing ACC: 81.2207|\n",
            "[Epoch:35/100] Training Loss: 10815.2248| Testing Loss: 10964.0397| Training ACC: 81.9941| Testing ACC: 81.1816|\n",
            "[Epoch:36/100] Training Loss: 10812.4032| Testing Loss: 10960.6144| Training ACC: 82.0628| Testing ACC: 81.2207|\n",
            "[Epoch:37/100] Training Loss: 10809.0958| Testing Loss: 10958.4139| Training ACC: 82.0157| Testing ACC: 81.1621|\n",
            "[Epoch:38/100] Training Loss: 10803.2679| Testing Loss: 10955.3112| Training ACC: 82.1232| Testing ACC: 81.2891|\n",
            "[Epoch:39/100] Training Loss: 10801.0928| Testing Loss: 10953.6999| Training ACC: 82.0878| Testing ACC: 81.2695|\n",
            "[Epoch:40/100] Training Loss: 10797.4500| Testing Loss: 10949.8614| Training ACC: 82.1188| Testing ACC: 81.2891|\n",
            "[Epoch:41/100] Training Loss: 10794.3769| Testing Loss: 10946.7560| Training ACC: 82.0756| Testing ACC: 81.2305|\n",
            "[Epoch:42/100] Training Loss: 10786.9168| Testing Loss: 10943.3090| Training ACC: 82.1171| Testing ACC: 81.1914|\n",
            "[Epoch:43/100] Training Loss: 10785.9188| Testing Loss: 10941.8069| Training ACC: 82.1404| Testing ACC: 81.2402|\n",
            "[Epoch:44/100] Training Loss: 10783.8823| Testing Loss: 10937.2292| Training ACC: 82.1482| Testing ACC: 81.2793|\n",
            "[Epoch:45/100] Training Loss: 10782.4332| Testing Loss: 10936.4218| Training ACC: 82.1072| Testing ACC: 81.1816|\n",
            "[Epoch:46/100] Training Loss: 10775.9083| Testing Loss: 10934.1188| Training ACC: 82.1520| Testing ACC: 81.2891|\n",
            "[Epoch:47/100] Training Loss: 10774.1685| Testing Loss: 10931.7409| Training ACC: 82.1459| Testing ACC: 81.2695|\n",
            "[Epoch:48/100] Training Loss: 10771.1826| Testing Loss: 10928.9550| Training ACC: 82.1736| Testing ACC: 81.2598|\n",
            "[Epoch:49/100] Training Loss: 10769.8436| Testing Loss: 10926.7936| Training ACC: 82.1520| Testing ACC: 81.3086|\n",
            "[Epoch:50/100] Training Loss: 10764.4416| Testing Loss: 10926.6018| Training ACC: 82.1892| Testing ACC: 81.2891|\n",
            "[Epoch:51/100] Training Loss: 10764.3632| Testing Loss: 10924.1842| Training ACC: 82.2014| Testing ACC: 81.3770|\n",
            "[Epoch:52/100] Training Loss: 10762.1002| Testing Loss: 10921.6321| Training ACC: 82.2002| Testing ACC: 81.3379|\n",
            "[Epoch:53/100] Training Loss: 10758.9658| Testing Loss: 10920.5839| Training ACC: 82.1864| Testing ACC: 81.3086|\n",
            "[Epoch:54/100] Training Loss: 10756.3628| Testing Loss: 10916.7996| Training ACC: 82.1975| Testing ACC: 81.3477|\n",
            "[Epoch:55/100] Training Loss: 10755.7325| Testing Loss: 10917.0087| Training ACC: 82.2152| Testing ACC: 81.2500|\n",
            "[Epoch:56/100] Training Loss: 10752.8343| Testing Loss: 10914.7579| Training ACC: 82.2246| Testing ACC: 81.3672|\n",
            "[Epoch:57/100] Training Loss: 10750.9665| Testing Loss: 10914.0724| Training ACC: 82.2135| Testing ACC: 81.3281|\n",
            "[Epoch:58/100] Training Loss: 10747.7018| Testing Loss: 10911.7790| Training ACC: 82.2490| Testing ACC: 81.3770|\n",
            "[Epoch:59/100] Training Loss: 10743.8922| Testing Loss: 10909.5341| Training ACC: 82.2252| Testing ACC: 81.4062|\n",
            "[Epoch:60/100] Training Loss: 10744.4321| Testing Loss: 10909.2321| Training ACC: 82.2357| Testing ACC: 81.3770|\n",
            "[Epoch:61/100] Training Loss: 10741.9317| Testing Loss: 10906.4950| Training ACC: 82.2745| Testing ACC: 81.4062|\n",
            "[Epoch:62/100] Training Loss: 10739.8234| Testing Loss: 10905.2029| Training ACC: 82.2678| Testing ACC: 81.3770|\n",
            "[Epoch:63/100] Training Loss: 10739.7737| Testing Loss: 10903.6287| Training ACC: 82.2446| Testing ACC: 81.4258|\n",
            "[Epoch:64/100] Training Loss: 10737.7729| Testing Loss: 10902.2685| Training ACC: 82.2446| Testing ACC: 81.4258|\n",
            "[Epoch:65/100] Training Loss: 10734.2841| Testing Loss: 10901.2662| Training ACC: 82.2479| Testing ACC: 81.4062|\n",
            "[Epoch:66/100] Training Loss: 10735.8011| Testing Loss: 10900.1460| Training ACC: 82.2728| Testing ACC: 81.3867|\n",
            "[Epoch:67/100] Training Loss: 10731.8611| Testing Loss: 10899.6362| Training ACC: 82.2850| Testing ACC: 81.4648|\n",
            "[Epoch:68/100] Training Loss: 10730.5898| Testing Loss: 10897.9637| Training ACC: 82.2806| Testing ACC: 81.4062|\n",
            "[Epoch:69/100] Training Loss: 10730.8306| Testing Loss: 10895.6872| Training ACC: 82.2978| Testing ACC: 81.4355|\n",
            "[Epoch:70/100] Training Loss: 10728.1320| Testing Loss: 10894.8609| Training ACC: 82.3077| Testing ACC: 81.3965|\n",
            "[Epoch:71/100] Training Loss: 10727.3945| Testing Loss: 10894.2886| Training ACC: 82.2490| Testing ACC: 81.4160|\n",
            "[Epoch:72/100] Training Loss: 10723.9934| Testing Loss: 10892.2756| Training ACC: 82.2878| Testing ACC: 81.4844|\n",
            "[Epoch:73/100] Training Loss: 10721.9608| Testing Loss: 10891.7191| Training ACC: 82.2906| Testing ACC: 81.4160|\n",
            "[Epoch:74/100] Training Loss: 10721.6232| Testing Loss: 10890.7161| Training ACC: 82.2967| Testing ACC: 81.4258|\n",
            "[Epoch:75/100] Training Loss: 10720.0684| Testing Loss: 10889.5938| Training ACC: 82.3033| Testing ACC: 81.4062|\n",
            "[Epoch:76/100] Training Loss: 10717.2977| Testing Loss: 10889.2137| Training ACC: 82.3061| Testing ACC: 81.4160|\n",
            "[Epoch:77/100] Training Loss: 10715.8272| Testing Loss: 10888.5684| Training ACC: 82.3404| Testing ACC: 81.4844|\n",
            "[Epoch:78/100] Training Loss: 10717.4201| Testing Loss: 10886.9499| Training ACC: 82.3000| Testing ACC: 81.4062|\n",
            "[Epoch:79/100] Training Loss: 10716.0240| Testing Loss: 10886.1249| Training ACC: 82.3022| Testing ACC: 81.4258|\n",
            "[Epoch:80/100] Training Loss: 10714.7590| Testing Loss: 10885.4096| Training ACC: 82.2900| Testing ACC: 81.4453|\n",
            "[Epoch:81/100] Training Loss: 10711.1656| Testing Loss: 10884.6416| Training ACC: 82.3360| Testing ACC: 81.4355|\n",
            "[Epoch:82/100] Training Loss: 10711.5088| Testing Loss: 10883.5811| Training ACC: 82.3393| Testing ACC: 81.4551|\n",
            "[Epoch:83/100] Training Loss: 10713.1468| Testing Loss: 10882.4046| Training ACC: 82.2961| Testing ACC: 81.4062|\n",
            "[Epoch:84/100] Training Loss: 10710.7491| Testing Loss: 10882.6879| Training ACC: 82.3238| Testing ACC: 81.4062|\n",
            "[Epoch:85/100] Training Loss: 10710.5790| Testing Loss: 10880.7780| Training ACC: 82.3227| Testing ACC: 81.3770|\n",
            "[Epoch:86/100] Training Loss: 10708.6681| Testing Loss: 10880.4039| Training ACC: 82.3493| Testing ACC: 81.4844|\n",
            "[Epoch:87/100] Training Loss: 10706.8400| Testing Loss: 10879.6416| Training ACC: 82.3282| Testing ACC: 81.4941|\n",
            "[Epoch:88/100] Training Loss: 10704.5994| Testing Loss: 10878.4913| Training ACC: 82.3221| Testing ACC: 81.4355|\n",
            "[Epoch:89/100] Training Loss: 10705.3686| Testing Loss: 10877.6348| Training ACC: 82.3365| Testing ACC: 81.4746|\n",
            "[Epoch:90/100] Training Loss: 10703.9746| Testing Loss: 10876.7974| Training ACC: 82.3454| Testing ACC: 81.4551|\n",
            "[Epoch:91/100] Training Loss: 10700.4920| Testing Loss: 10875.9540| Training ACC: 82.3631| Testing ACC: 81.4941|\n",
            "[Epoch:92/100] Training Loss: 10700.8016| Testing Loss: 10875.5123| Training ACC: 82.3820| Testing ACC: 81.4648|\n",
            "[Epoch:93/100] Training Loss: 10700.5494| Testing Loss: 10875.5138| Training ACC: 82.3266| Testing ACC: 81.4648|\n",
            "[Epoch:94/100] Training Loss: 10699.8406| Testing Loss: 10874.2804| Training ACC: 82.3238| Testing ACC: 81.4746|\n",
            "[Epoch:95/100] Training Loss: 10699.1737| Testing Loss: 10873.3788| Training ACC: 82.3598| Testing ACC: 81.4746|\n",
            "[Epoch:96/100] Training Loss: 10696.8293| Testing Loss: 10872.9247| Training ACC: 82.3537| Testing ACC: 81.5039|\n",
            "[Epoch:97/100] Training Loss: 10696.1637| Testing Loss: 10871.9052| Training ACC: 82.3487| Testing ACC: 81.4160|\n",
            "[Epoch:98/100] Training Loss: 10696.2983| Testing Loss: 10871.3651| Training ACC: 82.3449| Testing ACC: 81.4941|\n",
            "[Epoch:99/100] Training Loss: 10694.8702| Testing Loss: 10870.7813| Training ACC: 82.3454| Testing ACC: 81.4453|\n",
            "[Epoch:100/100] Training Loss: 10695.6797| Testing Loss: 10870.1085| Training ACC: 82.3382| Testing ACC: 81.4844|\n"
          ],
          "name": "stdout"
        }
      ]
    },
    {
      "cell_type": "code",
      "metadata": {
        "colab_type": "code",
        "outputId": "488d93bd-99a1-438f-cac1-9952f0d3541d",
        "id": "9NUxaERP_kZG",
        "colab": {
          "base_uri": "https://localhost:8080/",
          "height": 299
        }
      },
      "source": [
        "plt.plot([i for i in train_loss] , label='train')\n",
        "plt.plot([i for i in test_loss ] , label ='test')\n",
        "plt.legend()\n",
        "plt.title('trianing loss: 1000, 100')"
      ],
      "execution_count": 0,
      "outputs": [
        {
          "output_type": "execute_result",
          "data": {
            "text/plain": [
              "Text(0.5, 1.0, 'trianing loss: 1000, 100')"
            ]
          },
          "metadata": {
            "tags": []
          },
          "execution_count": 15
        },
        {
          "output_type": "display_data",
          "data": {
            "image/png": "[encoded data removed]",
            "text/plain": [
              "<Figure size 432x288 with 1 Axes>"
            ]
          },
          "metadata": {
            "tags": []
          }
        }
      ]
    },
    {
      "cell_type": "code",
      "metadata": {
        "id": "q-lfX9ulnLq_",
        "colab_type": "code",
        "outputId": "41535054-14bd-4dde-bd1e-9c69667e82cd",
        "colab": {
          "base_uri": "https://localhost:8080/",
          "height": 299
        }
      },
      "source": [
        "plt.plot([i for i in train_acc] , label='train')\n",
        "plt.plot([i for i in test_acc ] , label ='test')\n",
        "plt.legend()\n",
        "plt.title('trianing acc: auto encoder')"
      ],
      "execution_count": 0,
      "outputs": [
        {
          "output_type": "execute_result",
          "data": {
            "text/plain": [
              "Text(0.5, 1.0, 'trianing acc: auto encoder')"
            ]
          },
          "metadata": {
            "tags": []
          },
          "execution_count": 16
        },
        {
          "output_type": "display_data",
          "data": {
            "image/png": "[encoded data removed]",
            "text/plain": [
              "<Figure size 432x288 with 1 Axes>"
            ]
          },
          "metadata": {
            "tags": []
          }
        }
      ]
    },
    {
      "cell_type": "code",
      "metadata": {
        "id": "5FBkI9dsfOPN",
        "colab_type": "code",
        "colab": {}
      },
      "source": [
        "test_dl = DataLoader(test_ds , batch_size=len(test_ds) , shuffle= False , num_workers = 1)"
      ],
      "execution_count": 0,
      "outputs": []
    },
    {
      "cell_type": "code",
      "metadata": {
        "id": "SYofoChRlikF",
        "colab_type": "code",
        "colab": {}
      },
      "source": [
        "fs , ts = next(iter(test_dl))\n",
        "fs , ts = fs.to(device) , ts.to(device)\n",
        "\n",
        "output = net2(encoder.encode(fs))\n",
        "mx , argmx = torch.max(output, dim=1)\n"
      ],
      "execution_count": 0,
      "outputs": []
    },
    {
      "cell_type": "code",
      "metadata": {
        "id": "SD9Kf69itOt7",
        "colab_type": "code",
        "outputId": "7d474af9-6095-442a-abc2-f9e704ee702a",
        "colab": {
          "base_uri": "https://localhost:8080/",
          "height": 544
        }
      },
      "source": [
        "plt_conf_mat(ts.to('cpu'), argmx.to('cpu'), fmnist_test.classes)"
      ],
      "execution_count": 0,
      "outputs": [
        {
          "output_type": "execute_result",
          "data": {
            "text/plain": [
              "<sklearn.metrics._plot.confusion_matrix.ConfusionMatrixDisplay at 0x7f6fb29c5588>"
            ]
          },
          "metadata": {
            "tags": []
          },
          "execution_count": 22
        },
        {
          "output_type": "display_data",
          "data": {
            "image/png": "[encoded data removed]",
            "text/plain": [
              "<Figure size 648x648 with 2 Axes>"
            ]
          },
          "metadata": {
            "tags": []
          }
        }
      ]
    },
    {
      "cell_type": "code",
      "metadata": {
        "id": "qzFh0i5i2vH7",
        "colab_type": "code",
        "outputId": "f640d7f2-2103-4e86-d75c-47f7c1eed95d",
        "colab": {
          "base_uri": "https://localhost:8080/",
          "height": 35
        }
      },
      "source": [
        "accuracy_score(ts.to('cpu'), argmx.to('cpu'))"
      ],
      "execution_count": 0,
      "outputs": [
        {
          "output_type": "execute_result",
          "data": {
            "text/plain": [
              "0.8134"
            ]
          },
          "metadata": {
            "tags": []
          },
          "execution_count": 23
        }
      ]
    },
    {
      "cell_type": "markdown",
      "metadata": {
        "id": "ZibI98OjzDnk",
        "colab_type": "text"
      },
      "source": [
        "# PCA"
      ]
    },
    {
      "cell_type": "code",
      "metadata": {
        "id": "ccy6LW-vEDnX",
        "colab_type": "code",
        "colab": {}
      },
      "source": [
        "from sklearn.decomposition import PCA"
      ],
      "execution_count": 0,
      "outputs": []
    },
    {
      "cell_type": "code",
      "metadata": {
        "id": "FfrPEuwizIEp",
        "colab_type": "code",
        "colab": {}
      },
      "source": [
        "pca = PCA(n_components=200 , whiten=True)\n",
        "train_dl = DataLoader(train_ds , batch_size=len(train_ds) , shuffle= False , num_workers = 1)\n",
        "fs , ts = next(iter(train_dl))\n",
        "pca.fit(fs)\n",
        "pca"
      ],
      "execution_count": 0,
      "outputs": []
    },
    {
      "cell_type": "code",
      "metadata": {
        "colab_type": "code",
        "id": "M6tqvfZa1OXR",
        "colab": {}
      },
      "source": [
        "net3 = MLP0().to(device)"
      ],
      "execution_count": 0,
      "outputs": []
    },
    {
      "cell_type": "code",
      "metadata": {
        "colab_type": "code",
        "id": "D_5Ig1IA1OXY",
        "colab": {}
      },
      "source": [
        "train_ds = FMNIST_DS(fmnist_train)\n",
        "test_ds  = FMNIST_DS(fmnist_test)\n",
        "batch_size = 256\n",
        "train_dl = DataLoader(train_ds , batch_size=batch_size , shuffle= True , num_workers = 10)\n",
        "test_dl = DataLoader(test_ds , batch_size=batch_size , shuffle= False , num_workers = 10)"
      ],
      "execution_count": 0,
      "outputs": []
    },
    {
      "cell_type": "code",
      "metadata": {
        "colab_type": "code",
        "id": "QBcEDem21OXc",
        "colab": {}
      },
      "source": [
        "criterion = nn.CrossEntropyLoss().to(device)\n",
        "optimizer = optim.SGD(net3.parameters(),lr=0.5)\n",
        "scheduler = optim.lr_scheduler.StepLR(optimizer, step_size=1, gamma=0.99)"
      ],
      "execution_count": 0,
      "outputs": []
    },
    {
      "cell_type": "code",
      "metadata": {
        "colab_type": "code",
        "id": "f4WXj6ls1OXh",
        "colab": {}
      },
      "source": [
        "def train_step(model, train_dl, criterion, optimizer, encoder):\n",
        "    total_loss = 0.0\n",
        "    total_correct = 0\n",
        "    \n",
        "    # for i, (train_inputs, train_labels) in tqdm_notebook(enumerate(train_dl), \n",
        "    #                                                      desc='Training', \n",
        "    #                                                      total=len(train_dl)):\n",
        "    for i, (train_inputs, train_labels) in enumerate(train_dl):\n",
        "        # move to device\n",
        "        train_inputs = encoder.transform(train_inputs)\n",
        "        train_inputs = torch.tensor(train_inputs, dtype=torch.float)\n",
        "        train_inputs , train_labels = train_inputs.to(device) , train_labels.to(device)\n",
        "\n",
        "        optimizer.zero_grad()\n",
        "        output = model(train_inputs)\n",
        "        loss = criterion(output, train_labels)\n",
        "        loss.backward()     \n",
        "        optimizer.step()\n",
        "        total_loss += loss.item()\n",
        "        with torch.no_grad():\n",
        "            mx , argmx = torch.max(output, dim=1)\n",
        "            total_correct += torch.sum(argmx == train_labels).item()/len(argmx)\n",
        "\n",
        "    return total_loss/len(train_dl), total_correct/len(train_dl)\n",
        "\n",
        "\n",
        "def validate_step(model, valid_dl, criterion, encoder):\n",
        "    total_loss = 0.0\n",
        "    total_correct = 0\n",
        "    with torch.no_grad():\n",
        "        # for i, (test_inputs, test_labels) in tqdm_notebook(enumerate(valid_dl), \n",
        "        #                                                 desc='Validation', \n",
        "        #                                                 total=len(valid_dl)):\n",
        "        for i, (test_inputs, test_labels) in enumerate(valid_dl):\n",
        "            # move to device\n",
        "            test_inputs = encoder.transform(test_inputs)\n",
        "            test_inputs = torch.tensor(test_inputs , dtype=torch.float)\n",
        "            test_inputs , test_labels = test_inputs.to(device) , test_labels.to(device)\n",
        "            output = model(test_inputs)\n",
        "            loss = criterion(output, test_labels)\n",
        "            total_loss += loss.item()\n",
        "\n",
        "            mx , argmx = torch.max(output, dim=1)\n",
        "            total_correct += torch.sum(argmx == test_labels).item()/len(argmx)\n",
        "\n",
        "    return total_loss/len(test_dl), total_correct/len(test_dl)\n",
        "\n",
        "\n",
        "def train(model, train_dl, valid_dl, criterion, optimizer, scheduler, encoder, num_epochs, train_loss, test_loss, train_acc, test_acc):\n",
        "    \n",
        "    best_wts = None\n",
        "    best_loss = float('inf')\n",
        "\n",
        "    for epoch in range(num_epochs):\n",
        "\n",
        "        ## perform one epoch of training and validation\n",
        "        trn_loss, trn_acc = train_step(model, train_dl, criterion, optimizer, encoder)\n",
        "        val_loss, val_acc = validate_step(model, valid_dl, criterion, encoder)\n",
        "        scheduler.step()\n",
        "\n",
        "        train_loss += [trn_loss]\n",
        "        test_loss  += [val_loss]\n",
        "        train_acc  += [trn_acc ]\n",
        "        test_acc   += [val_acc ]\n",
        "\n",
        "        # save weights\n",
        "        if val_loss < best_loss:\n",
        "            best_loss = val_loss\n",
        "            best_wts = model.state_dict().copy()\n",
        "            \n",
        "# #             torch.save(best_wts, 'models/lstm-{}-{}-{}-{}-{}-{}-{:.5f}.pth'.format(\n",
        "# #                 epoch, max_len, min_count, model.embed_size, model.hidden_size, model.num_layers, best_acc))\n",
        "\n",
        "        print(f'[Epoch:{epoch+1}/{num_epochs}] Training Loss: %.4f| Testing Loss: %.4f| Training ACC: %.4f| Testing ACC: %.4f|'\n",
        "              % (trn_loss* 10000, val_loss* 10000 , trn_acc*100, val_acc*100))\n",
        "\n",
        "    model.load_state_dict(best_wts)\n",
        "    return train_loss, test_loss, train_acc, test_acc"
      ],
      "execution_count": 0,
      "outputs": []
    },
    {
      "cell_type": "code",
      "metadata": {
        "colab_type": "code",
        "id": "nodCcSjT1OXl",
        "colab": {}
      },
      "source": [
        "train_loss , test_loss, train_acc, test_acc = [], [], [], []"
      ],
      "execution_count": 0,
      "outputs": []
    },
    {
      "cell_type": "code",
      "metadata": {
        "colab_type": "code",
        "outputId": "e8a55b97-79dc-486e-a2fe-502cc39ce23a",
        "id": "44EK-v9P1OXq",
        "colab": {
          "base_uri": "https://localhost:8080/",
          "height": 557
        }
      },
      "source": [
        "train_loss, test_loss, train_acc, test_acc = train(net3, train_dl, test_dl, criterion, optimizer, scheduler, pca, 30, train_loss, test_loss, train_acc, test_acc)"
      ],
      "execution_count": 0,
      "outputs": [
        {
          "output_type": "stream",
          "text": [
            "[Epoch:1/30] Training Loss: 10215.1528| Testing Loss: 10551.8138| Training ACC: 84.8659| Testing ACC: 83.4100|\n",
            "[Epoch:2/30] Training Loss: 10210.9589| Testing Loss: 10550.1485| Training ACC: 84.8864| Testing ACC: 83.4400|\n",
            "[Epoch:3/30] Training Loss: 10205.7810| Testing Loss: 10550.1449| Training ACC: 84.9030| Testing ACC: 83.4700|\n",
            "[Epoch:4/30] Training Loss: 10203.3111| Testing Loss: 10549.5727| Training ACC: 84.9197| Testing ACC: 83.5200|\n",
            "[Epoch:5/30] Training Loss: 10201.9908| Testing Loss: 10548.6858| Training ACC: 84.9379| Testing ACC: 83.4600|\n",
            "[Epoch:6/30] Training Loss: 10200.6868| Testing Loss: 10549.2282| Training ACC: 84.9490| Testing ACC: 83.4200|\n",
            "[Epoch:7/30] Training Loss: 10198.7619| Testing Loss: 10548.6286| Training ACC: 84.9169| Testing ACC: 83.4300|\n",
            "[Epoch:8/30] Training Loss: 10197.3061| Testing Loss: 10548.4915| Training ACC: 84.9396| Testing ACC: 83.3900|\n",
            "[Epoch:9/30] Training Loss: 10195.9494| Testing Loss: 10548.4891| Training ACC: 84.9501| Testing ACC: 83.3800|\n",
            "[Epoch:10/30] Training Loss: 10194.3046| Testing Loss: 10548.2316| Training ACC: 84.9357| Testing ACC: 83.4200|\n",
            "[Epoch:11/30] Training Loss: 10192.1235| Testing Loss: 10547.9169| Training ACC: 84.9523| Testing ACC: 83.4200|\n",
            "[Epoch:12/30] Training Loss: 10194.6263| Testing Loss: 10548.1565| Training ACC: 84.9274| Testing ACC: 83.4400|\n",
            "[Epoch:13/30] Training Loss: 10192.0650| Testing Loss: 10548.0754| Training ACC: 84.9551| Testing ACC: 83.4200|\n",
            "[Epoch:14/30] Training Loss: 10189.6998| Testing Loss: 10547.7285| Training ACC: 84.9656| Testing ACC: 83.4300|\n",
            "[Epoch:15/30] Training Loss: 10191.5810| Testing Loss: 10547.9407| Training ACC: 84.9723| Testing ACC: 83.4200|\n",
            "[Epoch:16/30] Training Loss: 10189.8307| Testing Loss: 10547.7607| Training ACC: 84.9557| Testing ACC: 83.4200|\n",
            "[Epoch:17/30] Training Loss: 10186.5553| Testing Loss: 10547.7405| Training ACC: 84.9778| Testing ACC: 83.4000|\n",
            "[Epoch:18/30] Training Loss: 10188.1322| Testing Loss: 10547.6665| Training ACC: 84.9557| Testing ACC: 83.3900|\n",
            "[Epoch:19/30] Training Loss: 10188.9539| Testing Loss: 10547.5962| Training ACC: 84.9523| Testing ACC: 83.4000|\n",
            "[Epoch:20/30] Training Loss: 10186.1198| Testing Loss: 10547.5497| Training ACC: 84.9640| Testing ACC: 83.4000|\n",
            "[Epoch:21/30] Training Loss: 10188.0754| Testing Loss: 10547.5855| Training ACC: 84.9823| Testing ACC: 83.4100|\n",
            "[Epoch:22/30] Training Loss: 10186.0415| Testing Loss: 10547.5068| Training ACC: 84.9773| Testing ACC: 83.4100|\n",
            "[Epoch:23/30] Training Loss: 10186.8907| Testing Loss: 10547.5211| Training ACC: 84.9601| Testing ACC: 83.4000|\n",
            "[Epoch:24/30] Training Loss: 10184.3159| Testing Loss: 10547.4985| Training ACC: 84.9789| Testing ACC: 83.4100|\n",
            "[Epoch:25/30] Training Loss: 10186.2608| Testing Loss: 10547.5259| Training ACC: 84.9806| Testing ACC: 83.4200|\n",
            "[Epoch:26/30] Training Loss: 10183.2175| Testing Loss: 10547.4877| Training ACC: 84.9845| Testing ACC: 83.4200|\n",
            "[Epoch:27/30] Training Loss: 10183.3308| Testing Loss: 10547.5056| Training ACC: 84.9734| Testing ACC: 83.4200|\n",
            "[Epoch:28/30] Training Loss: 10184.7250| Testing Loss: 10547.5092| Training ACC: 84.9795| Testing ACC: 83.4200|\n",
            "[Epoch:29/30] Training Loss: 10184.4210| Testing Loss: 10547.5152| Training ACC: 84.9740| Testing ACC: 83.4100|\n",
            "[Epoch:30/30] Training Loss: 10183.0631| Testing Loss: 10547.5247| Training ACC: 84.9806| Testing ACC: 83.4100|\n"
          ],
          "name": "stdout"
        }
      ]
    },
    {
      "cell_type": "code",
      "metadata": {
        "colab_type": "code",
        "outputId": "0bdec445-a3bf-4a31-e522-6fb8b1e6a30b",
        "id": "erg_S0z21OX1",
        "colab": {
          "base_uri": "https://localhost:8080/",
          "height": 299
        }
      },
      "source": [
        "plt.plot([i for i in train_loss] , label='train')\n",
        "plt.plot([i for i in test_loss ] , label ='test')\n",
        "plt.legend()\n",
        "plt.title('trianing loss: PCA')"
      ],
      "execution_count": 0,
      "outputs": [
        {
          "output_type": "execute_result",
          "data": {
            "text/plain": [
              "Text(0.5, 1.0, 'trianing loss: PCA')"
            ]
          },
          "metadata": {
            "tags": []
          },
          "execution_count": 63
        },
        {
          "output_type": "display_data",
          "data": {
            "image/png": "[encoded data removed]",
            "text/plain": [
              "<Figure size 432x288 with 1 Axes>"
            ]
          },
          "metadata": {
            "tags": []
          }
        }
      ]
    },
    {
      "cell_type": "code",
      "metadata": {
        "colab_type": "code",
        "outputId": "5fc03a93-6f0e-4f3a-bf80-c979c4afa115",
        "id": "3jW0fHDC1OX5",
        "colab": {
          "base_uri": "https://localhost:8080/",
          "height": 299
        }
      },
      "source": [
        "plt.plot([i for i in train_acc] , label='train')\n",
        "plt.plot([i for i in test_acc ] , label ='test')\n",
        "plt.legend()\n",
        "plt.title('trianing acc: PCA')"
      ],
      "execution_count": 0,
      "outputs": [
        {
          "output_type": "execute_result",
          "data": {
            "text/plain": [
              "Text(0.5, 1.0, 'trianing acc: PCA')"
            ]
          },
          "metadata": {
            "tags": []
          },
          "execution_count": 62
        },
        {
          "output_type": "display_data",
          "data": {
            "image/png": "[encoded data removed]",
            "text/plain": [
              "<Figure size 432x288 with 1 Axes>"
            ]
          },
          "metadata": {
            "tags": []
          }
        }
      ]
    },
    {
      "cell_type": "code",
      "metadata": {
        "colab_type": "code",
        "id": "om9D4UX_1OX9",
        "colab": {}
      },
      "source": [
        "test_dl = DataLoader(test_ds , batch_size=len(test_ds) , shuffle= False , num_workers = 1)"
      ],
      "execution_count": 0,
      "outputs": []
    },
    {
      "cell_type": "code",
      "metadata": {
        "colab_type": "code",
        "id": "AhPUGdm-1OYC",
        "outputId": "8a64f827-dd5a-4272-face-e09029fb3eb9",
        "colab": {
          "base_uri": "https://localhost:8080/",
          "height": 199
        }
      },
      "source": [
        "fs , ts = next(iter(test_dl))\n",
        "fs = pca.transform(fs)\n",
        "fs = torch.tensor(fs, dtype=torch.float)\n",
        "fs , ts = fs.to(device) , ts.to(device)\n",
        "\n",
        "output = net3(fs)\n",
        "mx , argmx = torch.max(output, dim=1)\n"
      ],
      "execution_count": 0,
      "outputs": [
        {
          "output_type": "stream",
          "text": [
            "Exception ignored in: <bound method _MultiProcessingDataLoaderIter.__del__ of <torch.utils.data.dataloader._MultiProcessingDataLoaderIter object at 0x7f6f6b06f2e8>>\n",
            "Traceback (most recent call last):\n",
            "  File \"/usr/local/lib/python3.6/dist-packages/torch/utils/data/dataloader.py\", line 961, in __del__\n",
            "    self._shutdown_workers()\n",
            "  File \"/usr/local/lib/python3.6/dist-packages/torch/utils/data/dataloader.py\", line 941, in _shutdown_workers\n",
            "    w.join()\n",
            "  File \"/usr/lib/python3.6/multiprocessing/process.py\", line 122, in join\n",
            "    assert self._parent_pid == os.getpid(), 'can only join a child process'\n",
            "AssertionError: can only join a child process\n"
          ],
          "name": "stderr"
        }
      ]
    },
    {
      "cell_type": "code",
      "metadata": {
        "colab_type": "code",
        "outputId": "343d4f3f-4ceb-43cf-99c7-6340d81bb117",
        "id": "aYvX5UyJ1OYG",
        "colab": {
          "base_uri": "https://localhost:8080/",
          "height": 544
        }
      },
      "source": [
        "plt_conf_mat(ts.to('cpu'), argmx.to('cpu'), fmnist_test.classes)"
      ],
      "execution_count": 0,
      "outputs": [
        {
          "output_type": "execute_result",
          "data": {
            "text/plain": [
              "<sklearn.metrics._plot.confusion_matrix.ConfusionMatrixDisplay at 0x7f6fb1b692e8>"
            ]
          },
          "metadata": {
            "tags": []
          },
          "execution_count": 70
        },
        {
          "output_type": "display_data",
          "data": {
            "image/png": "[encoded data removed]",
            "text/plain": [
              "<Figure size 648x648 with 2 Axes>"
            ]
          },
          "metadata": {
            "tags": []
          }
        }
      ]
    },
    {
      "cell_type": "code",
      "metadata": {
        "colab_type": "code",
        "outputId": "68b3b2e8-d7c4-45d6-abd6-918e42d96264",
        "id": "r-xJ291J1OYJ",
        "colab": {
          "base_uri": "https://localhost:8080/",
          "height": 35
        }
      },
      "source": [
        "accuracy_score(ts.to('cpu'), argmx.to('cpu'))"
      ],
      "execution_count": 0,
      "outputs": [
        {
          "output_type": "execute_result",
          "data": {
            "text/plain": [
              "0.8341"
            ]
          },
          "metadata": {
            "tags": []
          },
          "execution_count": 71
        }
      ]
    },
    {
      "cell_type": "markdown",
      "metadata": {
        "id": "udBtEQHWM0hM",
        "colab_type": "text"
      },
      "source": [
        "# RBM"
      ]
    },
    {
      "cell_type": "code",
      "metadata": {
        "id": "3VabTJLM_Gyb",
        "colab_type": "code",
        "colab": {}
      },
      "source": [
        "train_ds = ENCODE_DS(fmnist_train)\n",
        "test_ds  = ENCODE_DS(fmnist_test)"
      ],
      "execution_count": 0,
      "outputs": []
    },
    {
      "cell_type": "code",
      "metadata": {
        "id": "p4ewTTji_Ht_",
        "colab_type": "code",
        "colab": {}
      },
      "source": [
        "class RBM(nn.Module):\n",
        "    def __init__(self, input_dim = 784, hidden = 500):\n",
        "        super().__init__()\n",
        "        self.n = input_dim\n",
        "        self.hidden = hidden\n",
        "\n",
        "        # encode\n",
        "        self.fc1  = nn.Linear(self.n, self.hidden)\n",
        "        self.act1 = nn.Tanh()\n",
        "\n",
        "        #decode\n",
        "        self.fc2  = nn.Linear(self.hidden, self.n)\n",
        "        self.act2 = nn.Tanh()\n",
        "\n",
        "    def encode(self, x):\n",
        "        out = self.fc1(x)\n",
        "        out = self.act1(out)\n",
        "        return out\n",
        "\n",
        "    def decode(self, x):\n",
        "        out = self.fc2(x)\n",
        "        out = self.act2(out)\n",
        "        return out\n",
        "\n",
        "\n",
        "    def forward(self, x):\n",
        "        #encode\n",
        "        out = self.encode(x)\n",
        "        #decode\n",
        "        out = self.decode(out)\n",
        "        return out"
      ],
      "execution_count": 0,
      "outputs": []
    },
    {
      "cell_type": "code",
      "metadata": {
        "id": "XxScvhbEC-2F",
        "colab_type": "code",
        "colab": {}
      },
      "source": [
        "train_dl = DataLoader(train_ds, batch_size=256, shuffle=True,   num_workers = 8) \n",
        "test_dl  = DataLoader(test_ds , batch_size=256, shuffle= False, num_workers = 8)"
      ],
      "execution_count": 0,
      "outputs": []
    },
    {
      "cell_type": "code",
      "metadata": {
        "id": "4f1gpIKQEyw_",
        "colab_type": "code",
        "colab": {}
      },
      "source": [
        "RBM1 = RBM(784, 500).to(device)"
      ],
      "execution_count": 0,
      "outputs": []
    },
    {
      "cell_type": "code",
      "metadata": {
        "colab_type": "code",
        "id": "H-4SZvpCowWK",
        "colab": {}
      },
      "source": [
        "criterion = nn.MSELoss().to(device)\n",
        "optimizer = optim.SGD(RBM1.parameters(),lr=0.5)\n",
        "scheduler = optim.lr_scheduler.StepLR(optimizer, step_size=1, gamma=0.99)"
      ],
      "execution_count": 0,
      "outputs": []
    },
    {
      "cell_type": "code",
      "metadata": {
        "colab_type": "code",
        "id": "_QCqPea0owWO",
        "colab": {}
      },
      "source": [
        "def plt_conf_mat(y_true , y_pred, labels, normalize = 'true'  , include_values = True, \n",
        "                 xticks_rotation='horizontal',\n",
        "                 values_format=None,\n",
        "                 cmap='winter'):\n",
        "    plt.figure(figsize=[9, 9])\n",
        "    ax = plt.subplot(1, 1, 1)\n",
        "    cm = confusion_matrix(y_true, y_pred, normalize=normalize)\n",
        "    disp = ConfusionMatrixDisplay(confusion_matrix=cm, display_labels=labels)\n",
        "    return disp.plot(include_values=include_values,\n",
        "                     cmap=cmap, ax=ax, xticks_rotation=xticks_rotation,\n",
        "                     values_format=values_format)"
      ],
      "execution_count": 0,
      "outputs": []
    },
    {
      "cell_type": "code",
      "metadata": {
        "colab_type": "code",
        "id": "-EIgzPV6owWR",
        "colab": {}
      },
      "source": [
        "def train_step(model, train_dl, criterion, optimizer):\n",
        "    total_loss = 0.0\n",
        "    total_correct = 0\n",
        "    \n",
        "    # for i, (train_inputs, train_labels) in tqdm_notebook(enumerate(train_dl), \n",
        "    #                                                      desc='Training', \n",
        "    #                                                      total=len(train_dl)):\n",
        "    for i, (train_inputs, train_labels) in enumerate(train_dl):\n",
        "        # move to device\n",
        "        train_inputs , train_labels = train_inputs.to(device) , train_labels.to(device)\n",
        "\n",
        "        optimizer.zero_grad()\n",
        "        output = model(train_inputs)\n",
        "        loss = criterion(output, train_labels)\n",
        "        loss.backward()     \n",
        "        optimizer.step()\n",
        "        total_loss += loss.item()\n",
        "        # with torch.no_grad():\n",
        "        #     mx , argmx = torch.max(output, dim=1)\n",
        "        #     total_correct += torch.sum(argmx == train_labels).item()/len(argmx)\n",
        "\n",
        "    return total_loss/len(train_dl), total_correct/len(train_dl)\n",
        "\n",
        "\n",
        "def validate_step(model, valid_dl, criterion):\n",
        "    total_loss = 0.0\n",
        "    total_correct = 0\n",
        "    with torch.no_grad():\n",
        "        # for i, (test_inputs, test_labels) in tqdm_notebook(enumerate(valid_dl), \n",
        "        #                                                 desc='Validation', \n",
        "        #                                                 total=len(valid_dl)):\n",
        "        for i, (test_inputs, test_labels) in enumerate(valid_dl):\n",
        "            # move to device\n",
        "            test_inputs , test_labels = test_inputs.to(device) , test_labels.to(device)\n",
        "\n",
        "            output = model(test_inputs)\n",
        "            loss = criterion(output, test_labels)\n",
        "            total_loss += loss.item()\n",
        "\n",
        "            # mx , argmx = torch.max(output, dim=1)\n",
        "            # total_correct += torch.sum(argmx == test_labels).item()/len(argmx)\n",
        "\n",
        "    return total_loss/len(test_dl), total_correct/len(test_dl)\n",
        "\n",
        "\n",
        "def train(model, train_dl, valid_dl, criterion, optimizer, scheduler, num_epochs, train_loss, test_loss, train_acc, test_acc):\n",
        "    \n",
        "    best_wts = None\n",
        "    best_loss = float('inf')\n",
        "\n",
        "    for epoch in range(num_epochs):\n",
        "\n",
        "        ## perform one epoch of training and validation\n",
        "        trn_loss, trn_acc = train_step(model, train_dl, criterion, optimizer)\n",
        "        val_loss, val_acc = validate_step(model, valid_dl, criterion)\n",
        "        scheduler.step()\n",
        "\n",
        "        train_loss += [trn_loss]\n",
        "        test_loss  += [val_loss]\n",
        "        train_acc  += [trn_acc ]\n",
        "        test_acc   += [val_acc ]\n",
        "\n",
        "        # save weights\n",
        "        if val_loss < best_loss:\n",
        "            best_loss = val_loss\n",
        "            best_wts = model.state_dict().copy()\n",
        "            \n",
        "# #             torch.save(best_wts, 'models/lstm-{}-{}-{}-{}-{}-{}-{:.5f}.pth'.format(\n",
        "# #                 epoch, max_len, min_count, model.embed_size, model.hidden_size, model.num_layers, best_acc))\n",
        "\n",
        "        print(f'[Epoch:{epoch+1}/{num_epochs}] Training Loss: %.4f| Testing Loss: %.4f| Training ACC: %.4f| Testing ACC: %.4f|'\n",
        "              % (trn_loss* 10000, val_loss* 10000 , trn_acc*100, val_acc*100))\n",
        "\n",
        "    model.load_state_dict(best_wts)\n",
        "    return train_loss, test_loss, train_acc, test_acc"
      ],
      "execution_count": 0,
      "outputs": []
    },
    {
      "cell_type": "code",
      "metadata": {
        "colab_type": "code",
        "id": "XKfripKkowWV",
        "colab": {}
      },
      "source": [
        "train_loss , test_loss, train_acc, test_acc = [], [], [], []"
      ],
      "execution_count": 0,
      "outputs": []
    },
    {
      "cell_type": "code",
      "metadata": {
        "colab_type": "code",
        "outputId": "89cbb018-501c-4b26-d7eb-03ab781ce00f",
        "id": "c_m-HPzGowWZ",
        "colab": {
          "base_uri": "https://localhost:8080/",
          "height": 917
        }
      },
      "source": [
        "train_loss, test_loss, train_acc, test_acc = train(RBM1, train_dl, test_dl, criterion, optimizer, scheduler, 50, train_loss, test_loss, train_acc, test_acc)"
      ],
      "execution_count": 0,
      "outputs": [
        {
          "output_type": "stream",
          "text": [
            "[Epoch:1/50] Training Loss: 132.5824| Testing Loss: 133.4821| Training ACC: 0.0000| Testing ACC: 0.0000|\n",
            "[Epoch:2/50] Training Loss: 131.7721| Testing Loss: 132.6987| Training ACC: 0.0000| Testing ACC: 0.0000|\n",
            "[Epoch:3/50] Training Loss: 130.9768| Testing Loss: 131.9229| Training ACC: 0.0000| Testing ACC: 0.0000|\n",
            "[Epoch:4/50] Training Loss: 130.2654| Testing Loss: 131.1832| Training ACC: 0.0000| Testing ACC: 0.0000|\n",
            "[Epoch:5/50] Training Loss: 129.4928| Testing Loss: 130.4636| Training ACC: 0.0000| Testing ACC: 0.0000|\n",
            "[Epoch:6/50] Training Loss: 128.7513| Testing Loss: 129.7600| Training ACC: 0.0000| Testing ACC: 0.0000|\n",
            "[Epoch:7/50] Training Loss: 128.0375| Testing Loss: 129.0665| Training ACC: 0.0000| Testing ACC: 0.0000|\n",
            "[Epoch:8/50] Training Loss: 127.4121| Testing Loss: 128.4030| Training ACC: 0.0000| Testing ACC: 0.0000|\n",
            "[Epoch:9/50] Training Loss: 126.7352| Testing Loss: 127.7705| Training ACC: 0.0000| Testing ACC: 0.0000|\n",
            "[Epoch:10/50] Training Loss: 126.0985| Testing Loss: 127.1270| Training ACC: 0.0000| Testing ACC: 0.0000|\n",
            "[Epoch:11/50] Training Loss: 125.4670| Testing Loss: 126.5153| Training ACC: 0.0000| Testing ACC: 0.0000|\n",
            "[Epoch:12/50] Training Loss: 124.8669| Testing Loss: 125.9154| Training ACC: 0.0000| Testing ACC: 0.0000|\n",
            "[Epoch:13/50] Training Loss: 124.2946| Testing Loss: 125.3315| Training ACC: 0.0000| Testing ACC: 0.0000|\n",
            "[Epoch:14/50] Training Loss: 123.7227| Testing Loss: 124.7627| Training ACC: 0.0000| Testing ACC: 0.0000|\n",
            "[Epoch:15/50] Training Loss: 123.1535| Testing Loss: 124.2234| Training ACC: 0.0000| Testing ACC: 0.0000|\n",
            "[Epoch:16/50] Training Loss: 122.6150| Testing Loss: 123.6791| Training ACC: 0.0000| Testing ACC: 0.0000|\n",
            "[Epoch:17/50] Training Loss: 122.0862| Testing Loss: 123.1380| Training ACC: 0.0000| Testing ACC: 0.0000|\n",
            "[Epoch:18/50] Training Loss: 121.5524| Testing Loss: 122.6215| Training ACC: 0.0000| Testing ACC: 0.0000|\n",
            "[Epoch:19/50] Training Loss: 121.0571| Testing Loss: 122.1211| Training ACC: 0.0000| Testing ACC: 0.0000|\n",
            "[Epoch:20/50] Training Loss: 120.5431| Testing Loss: 121.6349| Training ACC: 0.0000| Testing ACC: 0.0000|\n",
            "[Epoch:21/50] Training Loss: 120.0769| Testing Loss: 121.1458| Training ACC: 0.0000| Testing ACC: 0.0000|\n",
            "[Epoch:22/50] Training Loss: 119.6150| Testing Loss: 120.6870| Training ACC: 0.0000| Testing ACC: 0.0000|\n",
            "[Epoch:23/50] Training Loss: 119.0850| Testing Loss: 120.2165| Training ACC: 0.0000| Testing ACC: 0.0000|\n",
            "[Epoch:24/50] Training Loss: 118.6971| Testing Loss: 119.7677| Training ACC: 0.0000| Testing ACC: 0.0000|\n",
            "[Epoch:25/50] Training Loss: 118.2219| Testing Loss: 119.3373| Training ACC: 0.0000| Testing ACC: 0.0000|\n",
            "[Epoch:26/50] Training Loss: 117.7798| Testing Loss: 118.9011| Training ACC: 0.0000| Testing ACC: 0.0000|\n",
            "[Epoch:27/50] Training Loss: 117.3403| Testing Loss: 118.4786| Training ACC: 0.0000| Testing ACC: 0.0000|\n",
            "[Epoch:28/50] Training Loss: 116.9462| Testing Loss: 118.0736| Training ACC: 0.0000| Testing ACC: 0.0000|\n",
            "[Epoch:29/50] Training Loss: 116.5484| Testing Loss: 117.6728| Training ACC: 0.0000| Testing ACC: 0.0000|\n",
            "[Epoch:30/50] Training Loss: 116.1240| Testing Loss: 117.2806| Training ACC: 0.0000| Testing ACC: 0.0000|\n",
            "[Epoch:31/50] Training Loss: 115.7530| Testing Loss: 116.8837| Training ACC: 0.0000| Testing ACC: 0.0000|\n",
            "[Epoch:32/50] Training Loss: 115.3436| Testing Loss: 116.5135| Training ACC: 0.0000| Testing ACC: 0.0000|\n",
            "[Epoch:33/50] Training Loss: 114.9962| Testing Loss: 116.1382| Training ACC: 0.0000| Testing ACC: 0.0000|\n",
            "[Epoch:34/50] Training Loss: 114.6096| Testing Loss: 115.7754| Training ACC: 0.0000| Testing ACC: 0.0000|\n",
            "[Epoch:35/50] Training Loss: 114.2366| Testing Loss: 115.4186| Training ACC: 0.0000| Testing ACC: 0.0000|\n",
            "[Epoch:36/50] Training Loss: 113.9095| Testing Loss: 115.0723| Training ACC: 0.0000| Testing ACC: 0.0000|\n",
            "[Epoch:37/50] Training Loss: 113.5601| Testing Loss: 114.7315| Training ACC: 0.0000| Testing ACC: 0.0000|\n",
            "[Epoch:38/50] Training Loss: 113.2491| Testing Loss: 114.4017| Training ACC: 0.0000| Testing ACC: 0.0000|\n",
            "[Epoch:39/50] Training Loss: 112.8699| Testing Loss: 114.0647| Training ACC: 0.0000| Testing ACC: 0.0000|\n",
            "[Epoch:40/50] Training Loss: 112.5751| Testing Loss: 113.7432| Training ACC: 0.0000| Testing ACC: 0.0000|\n",
            "[Epoch:41/50] Training Loss: 112.2341| Testing Loss: 113.4323| Training ACC: 0.0000| Testing ACC: 0.0000|\n",
            "[Epoch:42/50] Training Loss: 111.9164| Testing Loss: 113.1160| Training ACC: 0.0000| Testing ACC: 0.0000|\n",
            "[Epoch:43/50] Training Loss: 111.6337| Testing Loss: 112.8143| Training ACC: 0.0000| Testing ACC: 0.0000|\n",
            "[Epoch:44/50] Training Loss: 111.3419| Testing Loss: 112.5189| Training ACC: 0.0000| Testing ACC: 0.0000|\n",
            "[Epoch:45/50] Training Loss: 111.0265| Testing Loss: 112.2179| Training ACC: 0.0000| Testing ACC: 0.0000|\n",
            "[Epoch:46/50] Training Loss: 110.7503| Testing Loss: 111.9312| Training ACC: 0.0000| Testing ACC: 0.0000|\n",
            "[Epoch:47/50] Training Loss: 110.4717| Testing Loss: 111.6526| Training ACC: 0.0000| Testing ACC: 0.0000|\n",
            "[Epoch:48/50] Training Loss: 110.1584| Testing Loss: 111.3772| Training ACC: 0.0000| Testing ACC: 0.0000|\n",
            "[Epoch:49/50] Training Loss: 109.8802| Testing Loss: 111.1084| Training ACC: 0.0000| Testing ACC: 0.0000|\n",
            "[Epoch:50/50] Training Loss: 109.6366| Testing Loss: 110.8316| Training ACC: 0.0000| Testing ACC: 0.0000|\n"
          ],
          "name": "stdout"
        }
      ]
    },
    {
      "cell_type": "code",
      "metadata": {
        "colab_type": "code",
        "id": "_ifnXk6uowWd",
        "outputId": "7e72d08d-f76e-4d07-b0e4-69081da2dc02",
        "colab": {
          "base_uri": "https://localhost:8080/",
          "height": 295
        }
      },
      "source": [
        "plt.plot([i for i in train_loss] , label='train')\n",
        "plt.plot([i for i in test_loss ] , label ='test')\n",
        "plt.legend()\n",
        "plt.title('trianing loss RMB1: 784, 500')\n",
        "plt.xlabel('epoch')\n",
        "plt.ylabel('MSE loss')\n",
        "plt.grid()"
      ],
      "execution_count": 0,
      "outputs": [
        {
          "output_type": "display_data",
          "data": {
            "image/png": "[encoded data removed]",
            "text/plain": [
              "<Figure size 432x288 with 1 Axes>"
            ]
          },
          "metadata": {
            "tags": []
          }
        }
      ]
    },
    {
      "cell_type": "code",
      "metadata": {
        "id": "4fOFdQJ3qVq1",
        "colab_type": "code",
        "colab": {}
      },
      "source": [
        " torch.save(RBM1.state_dict().copy(), '/content/drive/My Drive/ut/NNDL/RBM1.pth')"
      ],
      "execution_count": 0,
      "outputs": []
    },
    {
      "cell_type": "code",
      "metadata": {
        "id": "DlgZm_FnDKzY",
        "colab_type": "code",
        "colab": {}
      },
      "source": [
        "class stackedRBM():\n",
        "    def __init__(self, RBMs):\n",
        "        self.RBMS = RBMs\n",
        "        \n",
        "    def encode(self, x):\n",
        "        out = x\n",
        "        for rbm in self.RBMS:\n",
        "            out = rbm.encode(out)\n",
        "        return out\n",
        "\n",
        "    def decode(self, x):\n",
        "        out = x\n",
        "        for rbm in self.RBMS:\n",
        "            out = rbm.decode(out)\n",
        "        return out\n",
        "\n",
        "    def forward(self, x):\n",
        "        return self.decode(self.encode(x))\n",
        "\n",
        "    def __call__(self, x):\n",
        "        return self.forward(x)"
      ],
      "execution_count": 0,
      "outputs": []
    },
    {
      "cell_type": "code",
      "metadata": {
        "id": "4FtqiPFLEQNH",
        "colab_type": "code",
        "colab": {}
      },
      "source": [
        "def train_step(model, train_dl, criterion, optimizer, encoder):\n",
        "    total_loss = 0.0\n",
        "    total_correct = 0\n",
        "    \n",
        "    # for i, (train_inputs, train_labels) in tqdm_notebook(enumerate(train_dl), \n",
        "    #                                                      desc='Training', \n",
        "    #                                                      total=len(train_dl)):\n",
        "    for i, (train_inputs, train_labels) in enumerate(train_dl):\n",
        "        # move to device\n",
        "        train_inputs , train_labels = train_inputs.to(device) , train_labels.to(device)\n",
        "        train_inputs = encoder.encode(train_inputs)\n",
        "        train_labels = encoder.encode(train_labels)\n",
        "\n",
        "        optimizer.zero_grad()\n",
        "        output = model(train_inputs)\n",
        "        loss = criterion(output, train_labels)\n",
        "        loss.backward()     \n",
        "        optimizer.step()\n",
        "        total_loss += loss.item()\n",
        "        # with torch.no_grad():\n",
        "        #     mx , argmx = torch.max(output, dim=1)\n",
        "        #     total_correct += torch.sum(argmx == train_labels).item()/len(argmx)\n",
        "\n",
        "    return total_loss/len(train_dl), total_correct/len(train_dl)\n",
        "\n",
        "\n",
        "def validate_step(model, valid_dl, criterion, encoder):\n",
        "    total_loss = 0.0\n",
        "    total_correct = 0\n",
        "    with torch.no_grad():\n",
        "        # for i, (test_inputs, test_labels) in tqdm_notebook(enumerate(valid_dl), \n",
        "        #                                                 desc='Validation', \n",
        "        #                                                 total=len(valid_dl)):\n",
        "        for i, (test_inputs, test_labels) in enumerate(valid_dl):\n",
        "            # move to device\n",
        "            test_inputs , test_labels = test_inputs.to(device) , test_labels.to(device)\n",
        "            test_inputs = encoder.encode(test_inputs)\n",
        "            test_labels = encoder.encode(test_labels)\n",
        "\n",
        "            output = model(test_inputs)\n",
        "            loss = criterion(output, test_labels)\n",
        "            total_loss += loss.item()\n",
        "\n",
        "            # mx , argmx = torch.max(output, dim=1)\n",
        "            # total_correct += torch.sum(argmx == test_labels).item()/len(argmx)\n",
        "\n",
        "    return total_loss/len(test_dl), total_correct/len(test_dl)\n",
        "\n",
        "\n",
        "def train(model, encoder, train_dl, valid_dl, criterion, optimizer, scheduler, num_epochs, train_loss, test_loss, train_acc, test_acc):\n",
        "    \n",
        "    best_wts = None\n",
        "    best_loss = float('inf')\n",
        "\n",
        "    for epoch in range(num_epochs):\n",
        "\n",
        "        ## perform one epoch of training and validation\n",
        "        trn_loss, trn_acc = train_step(model, train_dl, criterion, optimizer, encoder)\n",
        "        val_loss, val_acc = validate_step(model, valid_dl, criterion, encoder)\n",
        "        scheduler.step()\n",
        "\n",
        "        train_loss += [trn_loss]\n",
        "        test_loss  += [val_loss]\n",
        "        train_acc  += [trn_acc ]\n",
        "        test_acc   += [val_acc ]\n",
        "\n",
        "        # save weights\n",
        "        if val_loss < best_loss:\n",
        "            best_loss = val_loss\n",
        "            best_wts = model.state_dict().copy()\n",
        "            \n",
        "# #             torch.save(best_wts, 'models/lstm-{}-{}-{}-{}-{}-{}-{:.5f}.pth'.format(\n",
        "# #                 epoch, max_len, min_count, model.embed_size, model.hidden_size, model.num_layers, best_acc))\n",
        "\n",
        "        print(f'[Epoch:{epoch+1}/{num_epochs}] Training Loss: %.4f| Testing Loss: %.4f| Training ACC: %.4f| Testing ACC: %.4f|'\n",
        "              % (trn_loss* 10000, val_loss* 10000 , trn_acc*100, val_acc*100))\n",
        "\n",
        "    model.load_state_dict(best_wts)\n",
        "    return train_loss, test_loss, train_acc, test_acc"
      ],
      "execution_count": 0,
      "outputs": []
    },
    {
      "cell_type": "code",
      "metadata": {
        "colab_type": "code",
        "id": "3y1gEfOHCmvP",
        "colab": {}
      },
      "source": [
        "encoder = stackedRBM([RBM1])\n",
        "RBM2 = RBM(500, 300).to(device)"
      ],
      "execution_count": 0,
      "outputs": []
    },
    {
      "cell_type": "code",
      "metadata": {
        "colab_type": "code",
        "id": "Zw6n9ufvCmvX",
        "colab": {}
      },
      "source": [
        "criterion = nn.MSELoss().to(device)\n",
        "optimizer = optim.SGD(RBM2.parameters(),lr=0.5)\n",
        "scheduler = optim.lr_scheduler.StepLR(optimizer, step_size=1, gamma=0.99)"
      ],
      "execution_count": 0,
      "outputs": []
    },
    {
      "cell_type": "code",
      "metadata": {
        "colab_type": "code",
        "id": "GECHMwaEFOlE",
        "colab": {}
      },
      "source": [
        "train_loss , test_loss, train_acc, test_acc = [], [], [], []"
      ],
      "execution_count": 0,
      "outputs": []
    },
    {
      "cell_type": "code",
      "metadata": {
        "colab_type": "code",
        "outputId": "ab92a14d-2124-486b-f248-f40cbcae890b",
        "id": "TSpFD8QzFOlJ",
        "colab": {
          "base_uri": "https://localhost:8080/",
          "height": 917
        }
      },
      "source": [
        "train_loss, test_loss, train_acc, test_acc = train(RBM2,encoder, train_dl, test_dl, criterion, optimizer, scheduler, 50, train_loss, test_loss, train_acc, test_acc)"
      ],
      "execution_count": 0,
      "outputs": [
        {
          "output_type": "stream",
          "text": [
            "[Epoch:1/50] Training Loss: 33.7430| Testing Loss: 34.0284| Training ACC: 0.0000| Testing ACC: 0.0000|\n",
            "[Epoch:2/50] Training Loss: 33.5929| Testing Loss: 33.8836| Training ACC: 0.0000| Testing ACC: 0.0000|\n",
            "[Epoch:3/50] Training Loss: 33.4536| Testing Loss: 33.7420| Training ACC: 0.0000| Testing ACC: 0.0000|\n",
            "[Epoch:4/50] Training Loss: 33.3123| Testing Loss: 33.6034| Training ACC: 0.0000| Testing ACC: 0.0000|\n",
            "[Epoch:5/50] Training Loss: 33.1731| Testing Loss: 33.4681| Training ACC: 0.0000| Testing ACC: 0.0000|\n",
            "[Epoch:6/50] Training Loss: 33.0422| Testing Loss: 33.3355| Training ACC: 0.0000| Testing ACC: 0.0000|\n",
            "[Epoch:7/50] Training Loss: 32.9048| Testing Loss: 33.2063| Training ACC: 0.0000| Testing ACC: 0.0000|\n",
            "[Epoch:8/50] Training Loss: 32.7840| Testing Loss: 33.0799| Training ACC: 0.0000| Testing ACC: 0.0000|\n",
            "[Epoch:9/50] Training Loss: 32.6456| Testing Loss: 32.9561| Training ACC: 0.0000| Testing ACC: 0.0000|\n",
            "[Epoch:10/50] Training Loss: 32.5192| Testing Loss: 32.8347| Training ACC: 0.0000| Testing ACC: 0.0000|\n",
            "[Epoch:11/50] Training Loss: 32.4157| Testing Loss: 32.7157| Training ACC: 0.0000| Testing ACC: 0.0000|\n",
            "[Epoch:12/50] Training Loss: 32.3003| Testing Loss: 32.5997| Training ACC: 0.0000| Testing ACC: 0.0000|\n",
            "[Epoch:13/50] Training Loss: 32.1761| Testing Loss: 32.4859| Training ACC: 0.0000| Testing ACC: 0.0000|\n",
            "[Epoch:14/50] Training Loss: 32.0570| Testing Loss: 32.3742| Training ACC: 0.0000| Testing ACC: 0.0000|\n",
            "[Epoch:15/50] Training Loss: 31.9420| Testing Loss: 32.2647| Training ACC: 0.0000| Testing ACC: 0.0000|\n",
            "[Epoch:16/50] Training Loss: 31.8305| Testing Loss: 32.1575| Training ACC: 0.0000| Testing ACC: 0.0000|\n",
            "[Epoch:17/50] Training Loss: 31.7411| Testing Loss: 32.0529| Training ACC: 0.0000| Testing ACC: 0.0000|\n",
            "[Epoch:18/50] Training Loss: 31.6317| Testing Loss: 31.9497| Training ACC: 0.0000| Testing ACC: 0.0000|\n",
            "[Epoch:19/50] Training Loss: 31.5331| Testing Loss: 31.8489| Training ACC: 0.0000| Testing ACC: 0.0000|\n",
            "[Epoch:20/50] Training Loss: 31.4311| Testing Loss: 31.7500| Training ACC: 0.0000| Testing ACC: 0.0000|\n",
            "[Epoch:21/50] Training Loss: 31.3390| Testing Loss: 31.6531| Training ACC: 0.0000| Testing ACC: 0.0000|\n",
            "[Epoch:22/50] Training Loss: 31.2584| Testing Loss: 31.5575| Training ACC: 0.0000| Testing ACC: 0.0000|\n",
            "[Epoch:23/50] Training Loss: 31.1502| Testing Loss: 31.4639| Training ACC: 0.0000| Testing ACC: 0.0000|\n",
            "[Epoch:24/50] Training Loss: 31.0422| Testing Loss: 31.3723| Training ACC: 0.0000| Testing ACC: 0.0000|\n",
            "[Epoch:25/50] Training Loss: 30.9649| Testing Loss: 31.2824| Training ACC: 0.0000| Testing ACC: 0.0000|\n",
            "[Epoch:26/50] Training Loss: 30.8746| Testing Loss: 31.1937| Training ACC: 0.0000| Testing ACC: 0.0000|\n",
            "[Epoch:27/50] Training Loss: 30.7857| Testing Loss: 31.1069| Training ACC: 0.0000| Testing ACC: 0.0000|\n",
            "[Epoch:28/50] Training Loss: 30.7005| Testing Loss: 31.0218| Training ACC: 0.0000| Testing ACC: 0.0000|\n",
            "[Epoch:29/50] Training Loss: 30.6140| Testing Loss: 30.9380| Training ACC: 0.0000| Testing ACC: 0.0000|\n",
            "[Epoch:30/50] Training Loss: 30.5276| Testing Loss: 30.8558| Training ACC: 0.0000| Testing ACC: 0.0000|\n",
            "[Epoch:31/50] Training Loss: 30.4466| Testing Loss: 30.7751| Training ACC: 0.0000| Testing ACC: 0.0000|\n",
            "[Epoch:32/50] Training Loss: 30.3701| Testing Loss: 30.6960| Training ACC: 0.0000| Testing ACC: 0.0000|\n",
            "[Epoch:33/50] Training Loss: 30.2897| Testing Loss: 30.6181| Training ACC: 0.0000| Testing ACC: 0.0000|\n",
            "[Epoch:34/50] Training Loss: 30.2125| Testing Loss: 30.5414| Training ACC: 0.0000| Testing ACC: 0.0000|\n",
            "[Epoch:35/50] Training Loss: 30.1440| Testing Loss: 30.4662| Training ACC: 0.0000| Testing ACC: 0.0000|\n",
            "[Epoch:36/50] Training Loss: 30.0607| Testing Loss: 30.3923| Training ACC: 0.0000| Testing ACC: 0.0000|\n",
            "[Epoch:37/50] Training Loss: 29.9911| Testing Loss: 30.3194| Training ACC: 0.0000| Testing ACC: 0.0000|\n",
            "[Epoch:38/50] Training Loss: 29.9228| Testing Loss: 30.2480| Training ACC: 0.0000| Testing ACC: 0.0000|\n",
            "[Epoch:39/50] Training Loss: 29.8535| Testing Loss: 30.1777| Training ACC: 0.0000| Testing ACC: 0.0000|\n",
            "[Epoch:40/50] Training Loss: 29.7776| Testing Loss: 30.1085| Training ACC: 0.0000| Testing ACC: 0.0000|\n",
            "[Epoch:41/50] Training Loss: 29.7053| Testing Loss: 30.0406| Training ACC: 0.0000| Testing ACC: 0.0000|\n",
            "[Epoch:42/50] Training Loss: 29.6361| Testing Loss: 29.9737| Training ACC: 0.0000| Testing ACC: 0.0000|\n",
            "[Epoch:43/50] Training Loss: 29.5801| Testing Loss: 29.9079| Training ACC: 0.0000| Testing ACC: 0.0000|\n",
            "[Epoch:44/50] Training Loss: 29.5173| Testing Loss: 29.8432| Training ACC: 0.0000| Testing ACC: 0.0000|\n",
            "[Epoch:45/50] Training Loss: 29.4476| Testing Loss: 29.7795| Training ACC: 0.0000| Testing ACC: 0.0000|\n",
            "[Epoch:46/50] Training Loss: 29.3834| Testing Loss: 29.7169| Training ACC: 0.0000| Testing ACC: 0.0000|\n",
            "[Epoch:47/50] Training Loss: 29.3210| Testing Loss: 29.6553| Training ACC: 0.0000| Testing ACC: 0.0000|\n",
            "[Epoch:48/50] Training Loss: 29.2562| Testing Loss: 29.5946| Training ACC: 0.0000| Testing ACC: 0.0000|\n",
            "[Epoch:49/50] Training Loss: 29.2044| Testing Loss: 29.5350| Training ACC: 0.0000| Testing ACC: 0.0000|\n",
            "[Epoch:50/50] Training Loss: 29.1492| Testing Loss: 29.4761| Training ACC: 0.0000| Testing ACC: 0.0000|\n"
          ],
          "name": "stdout"
        }
      ]
    },
    {
      "cell_type": "code",
      "metadata": {
        "colab_type": "code",
        "outputId": "f15a19f8-23ea-4651-f83a-13ef61f6defd",
        "id": "NW6JyyA8FOlN",
        "colab": {
          "base_uri": "https://localhost:8080/",
          "height": 295
        }
      },
      "source": [
        "plt.plot([i for i in train_loss][50:] , label='train')\n",
        "plt.plot([i for i in test_loss ][50:] , label ='test')\n",
        "plt.legend()\n",
        "plt.title('trianing loss RMB2: 500, 300')\n",
        "plt.xlabel('epoch')\n",
        "plt.ylabel('MSE loss')\n",
        "plt.grid()"
      ],
      "execution_count": 0,
      "outputs": [
        {
          "output_type": "display_data",
          "data": {
            "image/png": "[encoded data removed]",
            "text/plain": [
              "<Figure size 432x288 with 1 Axes>"
            ]
          },
          "metadata": {
            "tags": []
          }
        }
      ]
    },
    {
      "cell_type": "code",
      "metadata": {
        "colab_type": "code",
        "id": "lliYjBJHFOlT",
        "colab": {}
      },
      "source": [
        "#  torch.save(RBM2.state_dict().copy(), '/content/drive/My Drive/ut/NNDL/RBM2.pth')"
      ],
      "execution_count": 0,
      "outputs": []
    },
    {
      "cell_type": "code",
      "metadata": {
        "id": "-wNxAzT4J3X7",
        "colab_type": "code",
        "colab": {}
      },
      "source": [
        ""
      ],
      "execution_count": 0,
      "outputs": []
    },
    {
      "cell_type": "code",
      "metadata": {
        "colab_type": "code",
        "id": "-yxkx7F_KCrC",
        "colab": {}
      },
      "source": [
        "encoder = stackedRBM([RBM1, RBM2])\n",
        "RBM3 = RBM(300, 200).to(device)"
      ],
      "execution_count": 0,
      "outputs": []
    },
    {
      "cell_type": "code",
      "metadata": {
        "colab_type": "code",
        "id": "kGh0cpxRKCrI",
        "colab": {}
      },
      "source": [
        "criterion = nn.MSELoss().to(device)\n",
        "optimizer = optim.SGD(RBM3.parameters(),lr=0.5)\n",
        "scheduler = optim.lr_scheduler.StepLR(optimizer, step_size=1, gamma=0.99)"
      ],
      "execution_count": 0,
      "outputs": []
    },
    {
      "cell_type": "code",
      "metadata": {
        "colab_type": "code",
        "id": "fM8kVEptKCrL",
        "colab": {}
      },
      "source": [
        "train_loss , test_loss, train_acc, test_acc = [], [], [], []"
      ],
      "execution_count": 0,
      "outputs": []
    },
    {
      "cell_type": "code",
      "metadata": {
        "colab_type": "code",
        "outputId": "926a243c-a321-4744-8e88-7b660b50b803",
        "id": "2gQ_wlLwKCrO",
        "colab": {
          "base_uri": "https://localhost:8080/",
          "height": 1000
        }
      },
      "source": [
        "train_loss, test_loss, train_acc, test_acc = train(RBM3,encoder, train_dl, test_dl, criterion, optimizer, scheduler, 100, train_loss, test_loss, train_acc, test_acc)"
      ],
      "execution_count": 0,
      "outputs": [
        {
          "output_type": "stream",
          "text": [
            "[Epoch:1/100] Training Loss: 534.0623| Testing Loss: 375.0516| Training ACC: 0.0000| Testing ACC: 0.0000|\n",
            "[Epoch:2/100] Training Loss: 307.3522| Testing Loss: 257.4380| Training ACC: 0.0000| Testing ACC: 0.0000|\n",
            "[Epoch:3/100] Training Loss: 226.1966| Testing Loss: 201.0855| Training ACC: 0.0000| Testing ACC: 0.0000|\n",
            "[Epoch:4/100] Training Loss: 182.2878| Testing Loss: 166.7760| Training ACC: 0.0000| Testing ACC: 0.0000|\n",
            "[Epoch:5/100] Training Loss: 153.7702| Testing Loss: 142.9997| Training ACC: 0.0000| Testing ACC: 0.0000|\n",
            "[Epoch:6/100] Training Loss: 133.1547| Testing Loss: 125.0844| Training ACC: 0.0000| Testing ACC: 0.0000|\n",
            "[Epoch:7/100] Training Loss: 117.2549| Testing Loss: 110.8994| Training ACC: 0.0000| Testing ACC: 0.0000|\n",
            "[Epoch:8/100] Training Loss: 104.5281| Testing Loss: 99.3207| Training ACC: 0.0000| Testing ACC: 0.0000|\n",
            "[Epoch:9/100] Training Loss: 94.0237| Testing Loss: 89.7179| Training ACC: 0.0000| Testing ACC: 0.0000|\n",
            "[Epoch:10/100] Training Loss: 85.2527| Testing Loss: 81.6555| Training ACC: 0.0000| Testing ACC: 0.0000|\n",
            "[Epoch:11/100] Training Loss: 77.8828| Testing Loss: 74.8329| Training ACC: 0.0000| Testing ACC: 0.0000|\n",
            "[Epoch:12/100] Training Loss: 71.6260| Testing Loss: 69.0130| Training ACC: 0.0000| Testing ACC: 0.0000|\n",
            "[Epoch:13/100] Training Loss: 66.2589| Testing Loss: 64.0238| Training ACC: 0.0000| Testing ACC: 0.0000|\n",
            "[Epoch:14/100] Training Loss: 61.6430| Testing Loss: 59.7114| Training ACC: 0.0000| Testing ACC: 0.0000|\n",
            "[Epoch:15/100] Training Loss: 57.6513| Testing Loss: 55.9649| Training ACC: 0.0000| Testing ACC: 0.0000|\n",
            "[Epoch:16/100] Training Loss: 54.1582| Testing Loss: 52.6870| Training ACC: 0.0000| Testing ACC: 0.0000|\n",
            "[Epoch:17/100] Training Loss: 51.1030| Testing Loss: 49.8001| Training ACC: 0.0000| Testing ACC: 0.0000|\n",
            "[Epoch:18/100] Training Loss: 48.3920| Testing Loss: 47.2484| Training ACC: 0.0000| Testing ACC: 0.0000|\n",
            "[Epoch:19/100] Training Loss: 45.9916| Testing Loss: 44.9740| Training ACC: 0.0000| Testing ACC: 0.0000|\n",
            "[Epoch:20/100] Training Loss: 43.8421| Testing Loss: 42.9394| Training ACC: 0.0000| Testing ACC: 0.0000|\n",
            "[Epoch:21/100] Training Loss: 41.9129| Testing Loss: 41.1089| Training ACC: 0.0000| Testing ACC: 0.0000|\n",
            "[Epoch:22/100] Training Loss: 40.1906| Testing Loss: 39.4562| Training ACC: 0.0000| Testing ACC: 0.0000|\n",
            "[Epoch:23/100] Training Loss: 38.6164| Testing Loss: 37.9561| Training ACC: 0.0000| Testing ACC: 0.0000|\n",
            "[Epoch:24/100] Training Loss: 37.1864| Testing Loss: 36.5885| Training ACC: 0.0000| Testing ACC: 0.0000|\n",
            "[Epoch:25/100] Training Loss: 35.8925| Testing Loss: 35.3403| Training ACC: 0.0000| Testing ACC: 0.0000|\n",
            "[Epoch:26/100] Training Loss: 34.6895| Testing Loss: 34.1953| Training ACC: 0.0000| Testing ACC: 0.0000|\n",
            "[Epoch:27/100] Training Loss: 33.5989| Testing Loss: 33.1428| Training ACC: 0.0000| Testing ACC: 0.0000|\n",
            "[Epoch:28/100] Training Loss: 32.5847| Testing Loss: 32.1710| Training ACC: 0.0000| Testing ACC: 0.0000|\n",
            "[Epoch:29/100] Training Loss: 31.6570| Testing Loss: 31.2739| Training ACC: 0.0000| Testing ACC: 0.0000|\n",
            "[Epoch:30/100] Training Loss: 30.7888| Testing Loss: 30.4410| Training ACC: 0.0000| Testing ACC: 0.0000|\n",
            "[Epoch:31/100] Training Loss: 29.9848| Testing Loss: 29.6663| Training ACC: 0.0000| Testing ACC: 0.0000|\n",
            "[Epoch:32/100] Training Loss: 29.2454| Testing Loss: 28.9453| Training ACC: 0.0000| Testing ACC: 0.0000|\n",
            "[Epoch:33/100] Training Loss: 28.5428| Testing Loss: 28.2732| Training ACC: 0.0000| Testing ACC: 0.0000|\n",
            "[Epoch:34/100] Training Loss: 27.8942| Testing Loss: 27.6442| Training ACC: 0.0000| Testing ACC: 0.0000|\n",
            "[Epoch:35/100] Training Loss: 27.2833| Testing Loss: 27.0545| Training ACC: 0.0000| Testing ACC: 0.0000|\n",
            "[Epoch:36/100] Training Loss: 26.7122| Testing Loss: 26.5008| Training ACC: 0.0000| Testing ACC: 0.0000|\n",
            "[Epoch:37/100] Training Loss: 26.1776| Testing Loss: 25.9804| Training ACC: 0.0000| Testing ACC: 0.0000|\n",
            "[Epoch:38/100] Training Loss: 25.6680| Testing Loss: 25.4905| Training ACC: 0.0000| Testing ACC: 0.0000|\n",
            "[Epoch:39/100] Training Loss: 25.1930| Testing Loss: 25.0279| Training ACC: 0.0000| Testing ACC: 0.0000|\n",
            "[Epoch:40/100] Training Loss: 24.7419| Testing Loss: 24.5907| Training ACC: 0.0000| Testing ACC: 0.0000|\n",
            "[Epoch:41/100] Training Loss: 24.3159| Testing Loss: 24.1768| Training ACC: 0.0000| Testing ACC: 0.0000|\n",
            "[Epoch:42/100] Training Loss: 23.9102| Testing Loss: 23.7850| Training ACC: 0.0000| Testing ACC: 0.0000|\n",
            "[Epoch:43/100] Training Loss: 23.5283| Testing Loss: 23.4136| Training ACC: 0.0000| Testing ACC: 0.0000|\n",
            "[Epoch:44/100] Training Loss: 23.1675| Testing Loss: 23.0604| Training ACC: 0.0000| Testing ACC: 0.0000|\n",
            "[Epoch:45/100] Training Loss: 22.8226| Testing Loss: 22.7246| Training ACC: 0.0000| Testing ACC: 0.0000|\n",
            "[Epoch:46/100] Training Loss: 22.4906| Testing Loss: 22.4047| Training ACC: 0.0000| Testing ACC: 0.0000|\n",
            "[Epoch:47/100] Training Loss: 22.1781| Testing Loss: 22.0998| Training ACC: 0.0000| Testing ACC: 0.0000|\n",
            "[Epoch:48/100] Training Loss: 21.8785| Testing Loss: 21.8093| Training ACC: 0.0000| Testing ACC: 0.0000|\n",
            "[Epoch:49/100] Training Loss: 21.5920| Testing Loss: 21.5319| Training ACC: 0.0000| Testing ACC: 0.0000|\n",
            "[Epoch:50/100] Training Loss: 21.3235| Testing Loss: 21.2666| Training ACC: 0.0000| Testing ACC: 0.0000|\n",
            "[Epoch:51/100] Training Loss: 21.0583| Testing Loss: 21.0127| Training ACC: 0.0000| Testing ACC: 0.0000|\n",
            "[Epoch:52/100] Training Loss: 20.8137| Testing Loss: 20.7697| Training ACC: 0.0000| Testing ACC: 0.0000|\n",
            "[Epoch:53/100] Training Loss: 20.5732| Testing Loss: 20.5369| Training ACC: 0.0000| Testing ACC: 0.0000|\n",
            "[Epoch:54/100] Training Loss: 20.3456| Testing Loss: 20.3135| Training ACC: 0.0000| Testing ACC: 0.0000|\n",
            "[Epoch:55/100] Training Loss: 20.1206| Testing Loss: 20.0989| Training ACC: 0.0000| Testing ACC: 0.0000|\n",
            "[Epoch:56/100] Training Loss: 19.9114| Testing Loss: 19.8932| Training ACC: 0.0000| Testing ACC: 0.0000|\n",
            "[Epoch:57/100] Training Loss: 19.7108| Testing Loss: 19.6949| Training ACC: 0.0000| Testing ACC: 0.0000|\n",
            "[Epoch:58/100] Training Loss: 19.5149| Testing Loss: 19.5048| Training ACC: 0.0000| Testing ACC: 0.0000|\n",
            "[Epoch:59/100] Training Loss: 19.3328| Testing Loss: 19.3212| Training ACC: 0.0000| Testing ACC: 0.0000|\n",
            "[Epoch:60/100] Training Loss: 19.1466| Testing Loss: 19.1447| Training ACC: 0.0000| Testing ACC: 0.0000|\n",
            "[Epoch:61/100] Training Loss: 18.9729| Testing Loss: 18.9748| Training ACC: 0.0000| Testing ACC: 0.0000|\n",
            "[Epoch:62/100] Training Loss: 18.8108| Testing Loss: 18.8107| Training ACC: 0.0000| Testing ACC: 0.0000|\n",
            "[Epoch:63/100] Training Loss: 18.6443| Testing Loss: 18.6526| Training ACC: 0.0000| Testing ACC: 0.0000|\n",
            "[Epoch:64/100] Training Loss: 18.4918| Testing Loss: 18.5001| Training ACC: 0.0000| Testing ACC: 0.0000|\n",
            "[Epoch:65/100] Training Loss: 18.3373| Testing Loss: 18.3527| Training ACC: 0.0000| Testing ACC: 0.0000|\n",
            "[Epoch:66/100] Training Loss: 18.1935| Testing Loss: 18.2101| Training ACC: 0.0000| Testing ACC: 0.0000|\n",
            "[Epoch:67/100] Training Loss: 18.0544| Testing Loss: 18.0723| Training ACC: 0.0000| Testing ACC: 0.0000|\n",
            "[Epoch:68/100] Training Loss: 17.9161| Testing Loss: 17.9390| Training ACC: 0.0000| Testing ACC: 0.0000|\n",
            "[Epoch:69/100] Training Loss: 17.7865| Testing Loss: 17.8099| Training ACC: 0.0000| Testing ACC: 0.0000|\n",
            "[Epoch:70/100] Training Loss: 17.6556| Testing Loss: 17.6852| Training ACC: 0.0000| Testing ACC: 0.0000|\n",
            "[Epoch:71/100] Training Loss: 17.5343| Testing Loss: 17.5642| Training ACC: 0.0000| Testing ACC: 0.0000|\n",
            "[Epoch:72/100] Training Loss: 17.4138| Testing Loss: 17.4469| Training ACC: 0.0000| Testing ACC: 0.0000|\n",
            "[Epoch:73/100] Training Loss: 17.3029| Testing Loss: 17.3332| Training ACC: 0.0000| Testing ACC: 0.0000|\n",
            "[Epoch:74/100] Training Loss: 17.1909| Testing Loss: 17.2229| Training ACC: 0.0000| Testing ACC: 0.0000|\n",
            "[Epoch:75/100] Training Loss: 17.0759| Testing Loss: 17.1161| Training ACC: 0.0000| Testing ACC: 0.0000|\n",
            "[Epoch:76/100] Training Loss: 16.9707| Testing Loss: 17.0122| Training ACC: 0.0000| Testing ACC: 0.0000|\n",
            "[Epoch:77/100] Training Loss: 16.8739| Testing Loss: 16.9113| Training ACC: 0.0000| Testing ACC: 0.0000|\n",
            "[Epoch:78/100] Training Loss: 16.7679| Testing Loss: 16.8133| Training ACC: 0.0000| Testing ACC: 0.0000|\n",
            "[Epoch:79/100] Training Loss: 16.6736| Testing Loss: 16.7179| Training ACC: 0.0000| Testing ACC: 0.0000|\n",
            "[Epoch:80/100] Training Loss: 16.5802| Testing Loss: 16.6254| Training ACC: 0.0000| Testing ACC: 0.0000|\n",
            "[Epoch:81/100] Training Loss: 16.4867| Testing Loss: 16.5354| Training ACC: 0.0000| Testing ACC: 0.0000|\n",
            "[Epoch:82/100] Training Loss: 16.3984| Testing Loss: 16.4477| Training ACC: 0.0000| Testing ACC: 0.0000|\n",
            "[Epoch:83/100] Training Loss: 16.3096| Testing Loss: 16.3624| Training ACC: 0.0000| Testing ACC: 0.0000|\n",
            "[Epoch:84/100] Training Loss: 16.2294| Testing Loss: 16.2792| Training ACC: 0.0000| Testing ACC: 0.0000|\n",
            "[Epoch:85/100] Training Loss: 16.1491| Testing Loss: 16.1985| Training ACC: 0.0000| Testing ACC: 0.0000|\n",
            "[Epoch:86/100] Training Loss: 16.0662| Testing Loss: 16.1197| Training ACC: 0.0000| Testing ACC: 0.0000|\n",
            "[Epoch:87/100] Training Loss: 15.9839| Testing Loss: 16.0429| Training ACC: 0.0000| Testing ACC: 0.0000|\n",
            "[Epoch:88/100] Training Loss: 15.9112| Testing Loss: 15.9681| Training ACC: 0.0000| Testing ACC: 0.0000|\n",
            "[Epoch:89/100] Training Loss: 15.8339| Testing Loss: 15.8950| Training ACC: 0.0000| Testing ACC: 0.0000|\n",
            "[Epoch:90/100] Training Loss: 15.7649| Testing Loss: 15.8239| Training ACC: 0.0000| Testing ACC: 0.0000|\n",
            "[Epoch:91/100] Training Loss: 15.6950| Testing Loss: 15.7544| Training ACC: 0.0000| Testing ACC: 0.0000|\n",
            "[Epoch:92/100] Training Loss: 15.6276| Testing Loss: 15.6868| Training ACC: 0.0000| Testing ACC: 0.0000|\n",
            "[Epoch:93/100] Training Loss: 15.5598| Testing Loss: 15.6205| Training ACC: 0.0000| Testing ACC: 0.0000|\n",
            "[Epoch:94/100] Training Loss: 15.4951| Testing Loss: 15.5559| Training ACC: 0.0000| Testing ACC: 0.0000|\n",
            "[Epoch:95/100] Training Loss: 15.4309| Testing Loss: 15.4929| Training ACC: 0.0000| Testing ACC: 0.0000|\n",
            "[Epoch:96/100] Training Loss: 15.3711| Testing Loss: 15.4313| Training ACC: 0.0000| Testing ACC: 0.0000|\n",
            "[Epoch:97/100] Training Loss: 15.3026| Testing Loss: 15.3711| Training ACC: 0.0000| Testing ACC: 0.0000|\n",
            "[Epoch:98/100] Training Loss: 15.2450| Testing Loss: 15.3123| Training ACC: 0.0000| Testing ACC: 0.0000|\n",
            "[Epoch:99/100] Training Loss: 15.1912| Testing Loss: 15.2548| Training ACC: 0.0000| Testing ACC: 0.0000|\n",
            "[Epoch:100/100] Training Loss: 15.1328| Testing Loss: 15.1986| Training ACC: 0.0000| Testing ACC: 0.0000|\n"
          ],
          "name": "stdout"
        }
      ]
    },
    {
      "cell_type": "code",
      "metadata": {
        "colab_type": "code",
        "outputId": "1a07718d-138b-446b-f83f-36ffc9b4add4",
        "id": "thcuovOhKCrS",
        "colab": {
          "base_uri": "https://localhost:8080/",
          "height": 295
        }
      },
      "source": [
        "plt.plot([i for i in train_loss] , label='train')\n",
        "plt.plot([i for i in test_loss ] , label ='test')\n",
        "plt.legend()\n",
        "plt.title('trianing loss RMB3: 300, 200')\n",
        "plt.xlabel('epoch')\n",
        "plt.ylabel('MSE loss')\n",
        "plt.grid()"
      ],
      "execution_count": 0,
      "outputs": [
        {
          "output_type": "display_data",
          "data": {
            "image/png": "[encoded data removed]",
            "text/plain": [
              "<Figure size 432x288 with 1 Axes>"
            ]
          },
          "metadata": {
            "tags": []
          }
        }
      ]
    },
    {
      "cell_type": "code",
      "metadata": {
        "colab_type": "code",
        "id": "shx88UAtKCrX",
        "colab": {}
      },
      "source": [
        "#  torch.save(RBM3.state_dict().copy(), '/content/drive/My Drive/ut/NNDL/RBM3.pth')"
      ],
      "execution_count": 0,
      "outputs": []
    },
    {
      "cell_type": "code",
      "metadata": {
        "id": "LrWO82W0Mj7N",
        "colab_type": "code",
        "colab": {}
      },
      "source": [
        "encoder = stackedRBM([RBM1, RBM2, RBM3])"
      ],
      "execution_count": 0,
      "outputs": []
    },
    {
      "cell_type": "code",
      "metadata": {
        "colab_type": "code",
        "id": "59vQXHenM41E",
        "colab": {}
      },
      "source": [
        "net2 = MLP0().to(device)"
      ],
      "execution_count": 0,
      "outputs": []
    },
    {
      "cell_type": "code",
      "metadata": {
        "colab_type": "code",
        "id": "IeEGj_NIM41N",
        "colab": {}
      },
      "source": [
        "train_ds = FMNIST_DS(fmnist_train)\n",
        "test_ds  = FMNIST_DS(fmnist_test)\n",
        "batch_size = 256\n",
        "train_dl = DataLoader(train_ds , batch_size=batch_size , shuffle= True , num_workers = 10)\n",
        "test_dl = DataLoader(test_ds , batch_size=batch_size , shuffle= False , num_workers = 10)"
      ],
      "execution_count": 0,
      "outputs": []
    },
    {
      "cell_type": "code",
      "metadata": {
        "colab_type": "code",
        "id": "WSQaHHMtM41R",
        "colab": {}
      },
      "source": [
        "criterion = nn.CrossEntropyLoss().to(device)\n",
        "optimizer = optim.SGD(net2.parameters(),lr=0.5)\n",
        "scheduler = optim.lr_scheduler.StepLR(optimizer, step_size=1, gamma=0.99)"
      ],
      "execution_count": 0,
      "outputs": []
    },
    {
      "cell_type": "code",
      "metadata": {
        "colab_type": "code",
        "id": "fb2X8C-gM41U",
        "colab": {}
      },
      "source": [
        "def train_step(model, train_dl, criterion, optimizer, encoder):\n",
        "    total_loss = 0.0\n",
        "    total_correct = 0\n",
        "    \n",
        "    # for i, (train_inputs, train_labels) in tqdm_notebook(enumerate(train_dl), \n",
        "    #                                                      desc='Training', \n",
        "    #                                                      total=len(train_dl)):\n",
        "    for i, (train_inputs, train_labels) in enumerate(train_dl):\n",
        "        # move to device\n",
        "        train_inputs , train_labels = train_inputs.to(device) , train_labels.to(device)\n",
        "\n",
        "        optimizer.zero_grad()\n",
        "        train_inputs = encoder.encode(train_inputs)\n",
        "        output = model(train_inputs)\n",
        "        loss = criterion(output, train_labels)\n",
        "        loss.backward()     \n",
        "        optimizer.step()\n",
        "        total_loss += loss.item()\n",
        "        with torch.no_grad():\n",
        "            mx , argmx = torch.max(output, dim=1)\n",
        "            total_correct += torch.sum(argmx == train_labels).item()/len(argmx)\n",
        "\n",
        "    return total_loss/len(train_dl), total_correct/len(train_dl)\n",
        "\n",
        "\n",
        "def validate_step(model, valid_dl, criterion, encoder):\n",
        "    total_loss = 0.0\n",
        "    total_correct = 0\n",
        "    with torch.no_grad():\n",
        "        # for i, (test_inputs, test_labels) in tqdm_notebook(enumerate(valid_dl), \n",
        "        #                                                 desc='Validation', \n",
        "        #                                                 total=len(valid_dl)):\n",
        "        for i, (test_inputs, test_labels) in enumerate(valid_dl):\n",
        "            # move to device\n",
        "            test_inputs , test_labels = test_inputs.to(device) , test_labels.to(device)\n",
        "            test_inputs = encoder.encode(test_inputs)\n",
        "            output = model(test_inputs)\n",
        "            loss = criterion(output, test_labels)\n",
        "            total_loss += loss.item()\n",
        "\n",
        "            mx , argmx = torch.max(output, dim=1)\n",
        "            total_correct += torch.sum(argmx == test_labels).item()/len(argmx)\n",
        "\n",
        "    return total_loss/len(test_dl), total_correct/len(test_dl)\n",
        "\n",
        "\n",
        "def train(model, train_dl, valid_dl, criterion, optimizer, scheduler, encoder, num_epochs, train_loss, test_loss, train_acc, test_acc):\n",
        "    \n",
        "    best_wts = None\n",
        "    best_loss = float('inf')\n",
        "\n",
        "    for epoch in range(num_epochs):\n",
        "\n",
        "        ## perform one epoch of training and validation\n",
        "        trn_loss, trn_acc = train_step(model, train_dl, criterion, optimizer, encoder)\n",
        "        val_loss, val_acc = validate_step(model, valid_dl, criterion, encoder)\n",
        "        scheduler.step()\n",
        "\n",
        "        train_loss += [trn_loss]\n",
        "        test_loss  += [val_loss]\n",
        "        train_acc  += [trn_acc ]\n",
        "        test_acc   += [val_acc ]\n",
        "\n",
        "        # save weights\n",
        "        if val_loss < best_loss:\n",
        "            best_loss = val_loss\n",
        "            best_wts = model.state_dict().copy()\n",
        "            \n",
        "# #             torch.save(best_wts, 'models/lstm-{}-{}-{}-{}-{}-{}-{:.5f}.pth'.format(\n",
        "# #                 epoch, max_len, min_count, model.embed_size, model.hidden_size, model.num_layers, best_acc))\n",
        "\n",
        "        print(f'[Epoch:{epoch+1}/{num_epochs}] Training Loss: %.4f| Testing Loss: %.4f| Training ACC: %.4f| Testing ACC: %.4f|'\n",
        "              % (trn_loss* 10000, val_loss* 10000 , trn_acc*100, val_acc*100))\n",
        "\n",
        "    model.load_state_dict(best_wts)\n",
        "    return train_loss, test_loss, train_acc, test_acc"
      ],
      "execution_count": 0,
      "outputs": []
    },
    {
      "cell_type": "code",
      "metadata": {
        "colab_type": "code",
        "id": "vo0Z9FkcM41a",
        "colab": {}
      },
      "source": [
        "train_loss , test_loss, train_acc, test_acc = [], [], [], []"
      ],
      "execution_count": 0,
      "outputs": []
    },
    {
      "cell_type": "code",
      "metadata": {
        "colab_type": "code",
        "outputId": "1df5b7b7-97bc-4705-deb9-11953949d2aa",
        "id": "GfqEVIllM41d",
        "colab": {
          "base_uri": "https://localhost:8080/",
          "height": 1000
        }
      },
      "source": [
        "train_loss, test_loss, train_acc, test_acc = train(net2, train_dl, test_dl, criterion, optimizer, scheduler, encoder, 100, train_loss, test_loss, train_acc, test_acc)"
      ],
      "execution_count": 0,
      "outputs": [
        {
          "output_type": "stream",
          "text": [
            "[Epoch:1/100] Training Loss: 10568.2201| Testing Loss: 10766.7170| Training ACC: 82.6707| Testing ACC: 81.7188|\n",
            "[Epoch:2/100] Training Loss: 10570.0126| Testing Loss: 10766.2668| Training ACC: 82.6357| Testing ACC: 81.7480|\n",
            "[Epoch:3/100] Training Loss: 10566.3621| Testing Loss: 10766.0594| Training ACC: 82.6568| Testing ACC: 81.7578|\n",
            "[Epoch:4/100] Training Loss: 10565.0638| Testing Loss: 10765.8508| Training ACC: 82.6468| Testing ACC: 81.7578|\n",
            "[Epoch:5/100] Training Loss: 10567.6041| Testing Loss: 10765.7301| Training ACC: 82.6463| Testing ACC: 81.7188|\n",
            "[Epoch:6/100] Training Loss: 10565.8253| Testing Loss: 10765.6514| Training ACC: 82.6629| Testing ACC: 81.7285|\n",
            "[Epoch:7/100] Training Loss: 10565.8393| Testing Loss: 10765.5621| Training ACC: 82.6734| Testing ACC: 81.7383|\n",
            "[Epoch:8/100] Training Loss: 10567.9461| Testing Loss: 10765.4991| Training ACC: 82.6502| Testing ACC: 81.7285|\n",
            "[Epoch:9/100] Training Loss: 10563.7192| Testing Loss: 10765.4407| Training ACC: 82.6773| Testing ACC: 81.7383|\n",
            "[Epoch:10/100] Training Loss: 10567.2182| Testing Loss: 10765.3775| Training ACC: 82.6507| Testing ACC: 81.7285|\n",
            "[Epoch:11/100] Training Loss: 10562.8366| Testing Loss: 10765.3253| Training ACC: 82.6740| Testing ACC: 81.7383|\n",
            "[Epoch:12/100] Training Loss: 10566.2176| Testing Loss: 10765.2902| Training ACC: 82.6518| Testing ACC: 81.7285|\n",
            "[Epoch:13/100] Training Loss: 10565.6453| Testing Loss: 10765.2684| Training ACC: 82.6457| Testing ACC: 81.7285|\n",
            "[Epoch:14/100] Training Loss: 10566.7085| Testing Loss: 10765.2508| Training ACC: 82.6590| Testing ACC: 81.7285|\n",
            "[Epoch:15/100] Training Loss: 10566.8468| Testing Loss: 10765.2361| Training ACC: 82.6629| Testing ACC: 81.7285|\n",
            "[Epoch:16/100] Training Loss: 10564.4943| Testing Loss: 10765.2261| Training ACC: 82.6679| Testing ACC: 81.7285|\n",
            "[Epoch:17/100] Training Loss: 10562.8173| Testing Loss: 10765.2169| Training ACC: 82.6723| Testing ACC: 81.7285|\n",
            "[Epoch:18/100] Training Loss: 10567.3498| Testing Loss: 10765.2059| Training ACC: 82.6568| Testing ACC: 81.7285|\n",
            "[Epoch:19/100] Training Loss: 10566.1977| Testing Loss: 10765.1978| Training ACC: 82.6590| Testing ACC: 81.7285|\n",
            "[Epoch:20/100] Training Loss: 10565.4974| Testing Loss: 10765.1924| Training ACC: 82.6618| Testing ACC: 81.7285|\n",
            "[Epoch:21/100] Training Loss: 10567.4734| Testing Loss: 10765.1883| Training ACC: 82.6424| Testing ACC: 81.7285|\n",
            "[Epoch:22/100] Training Loss: 10565.6912| Testing Loss: 10765.1855| Training ACC: 82.6612| Testing ACC: 81.7285|\n",
            "[Epoch:23/100] Training Loss: 10565.7122| Testing Loss: 10765.1833| Training ACC: 82.6612| Testing ACC: 81.7285|\n",
            "[Epoch:24/100] Training Loss: 10565.7947| Testing Loss: 10765.1799| Training ACC: 82.6452| Testing ACC: 81.7285|\n",
            "[Epoch:25/100] Training Loss: 10567.6575| Testing Loss: 10765.1787| Training ACC: 82.6452| Testing ACC: 81.7285|\n",
            "[Epoch:26/100] Training Loss: 10565.0301| Testing Loss: 10765.1763| Training ACC: 82.6562| Testing ACC: 81.7285|\n",
            "[Epoch:27/100] Training Loss: 10566.1089| Testing Loss: 10765.1758| Training ACC: 82.6524| Testing ACC: 81.7285|\n",
            "[Epoch:28/100] Training Loss: 10564.9889| Testing Loss: 10765.1747| Training ACC: 82.6490| Testing ACC: 81.7285|\n",
            "[Epoch:29/100] Training Loss: 10563.8546| Testing Loss: 10765.1740| Training ACC: 82.6745| Testing ACC: 81.7285|\n",
            "[Epoch:30/100] Training Loss: 10565.3298| Testing Loss: 10765.1734| Training ACC: 82.6590| Testing ACC: 81.7285|\n",
            "[Epoch:31/100] Training Loss: 10566.0244| Testing Loss: 10765.1730| Training ACC: 82.6441| Testing ACC: 81.7285|\n",
            "[Epoch:32/100] Training Loss: 10567.1935| Testing Loss: 10765.1725| Training ACC: 82.6424| Testing ACC: 81.7285|\n",
            "[Epoch:33/100] Training Loss: 10565.5420| Testing Loss: 10765.1720| Training ACC: 82.6479| Testing ACC: 81.7285|\n",
            "[Epoch:34/100] Training Loss: 10565.5649| Testing Loss: 10765.1719| Training ACC: 82.6701| Testing ACC: 81.7285|\n",
            "[Epoch:35/100] Training Loss: 10564.9016| Testing Loss: 10765.1714| Training ACC: 82.6646| Testing ACC: 81.7285|\n",
            "[Epoch:36/100] Training Loss: 10565.3854| Testing Loss: 10765.1713| Training ACC: 82.6535| Testing ACC: 81.7285|\n",
            "[Epoch:37/100] Training Loss: 10563.3213| Testing Loss: 10765.1713| Training ACC: 82.6673| Testing ACC: 81.7285|\n",
            "[Epoch:38/100] Training Loss: 10563.7228| Testing Loss: 10765.1713| Training ACC: 82.6618| Testing ACC: 81.7285|\n",
            "[Epoch:39/100] Training Loss: 10564.9411| Testing Loss: 10765.1712| Training ACC: 82.6618| Testing ACC: 81.7285|\n",
            "[Epoch:40/100] Training Loss: 10565.1057| Testing Loss: 10765.1713| Training ACC: 82.6646| Testing ACC: 81.7285|\n",
            "[Epoch:41/100] Training Loss: 10564.2069| Testing Loss: 10765.1710| Training ACC: 82.6729| Testing ACC: 81.7285|\n",
            "[Epoch:42/100] Training Loss: 10566.4081| Testing Loss: 10765.1710| Training ACC: 82.6590| Testing ACC: 81.7285|\n",
            "[Epoch:43/100] Training Loss: 10564.8860| Testing Loss: 10765.1707| Training ACC: 82.6535| Testing ACC: 81.7285|\n",
            "[Epoch:44/100] Training Loss: 10563.9926| Testing Loss: 10765.1706| Training ACC: 82.6590| Testing ACC: 81.7285|\n",
            "[Epoch:45/100] Training Loss: 10564.5702| Testing Loss: 10765.1707| Training ACC: 82.6535| Testing ACC: 81.7285|\n",
            "[Epoch:46/100] Training Loss: 10562.7715| Testing Loss: 10765.1703| Training ACC: 82.6812| Testing ACC: 81.7285|\n",
            "[Epoch:47/100] Training Loss: 10567.0005| Testing Loss: 10765.1705| Training ACC: 82.6424| Testing ACC: 81.7285|\n",
            "[Epoch:48/100] Training Loss: 10564.7937| Testing Loss: 10765.1702| Training ACC: 82.6590| Testing ACC: 81.7285|\n",
            "[Epoch:49/100] Training Loss: 10564.6557| Testing Loss: 10765.1702| Training ACC: 82.6618| Testing ACC: 81.7285|\n",
            "[Epoch:50/100] Training Loss: 10566.0904| Testing Loss: 10765.1702| Training ACC: 82.6341| Testing ACC: 81.7285|\n",
            "[Epoch:51/100] Training Loss: 10563.1316| Testing Loss: 10765.1702| Training ACC: 82.6701| Testing ACC: 81.7285|\n",
            "[Epoch:52/100] Training Loss: 10564.6943| Testing Loss: 10765.1703| Training ACC: 82.6646| Testing ACC: 81.7285|\n",
            "[Epoch:53/100] Training Loss: 10564.3738| Testing Loss: 10765.1703| Training ACC: 82.6535| Testing ACC: 81.7285|\n",
            "[Epoch:54/100] Training Loss: 10564.7996| Testing Loss: 10765.1703| Training ACC: 82.6535| Testing ACC: 81.7285|\n",
            "[Epoch:55/100] Training Loss: 10563.8795| Testing Loss: 10765.1703| Training ACC: 82.6646| Testing ACC: 81.7285|\n",
            "[Epoch:56/100] Training Loss: 10563.1815| Testing Loss: 10765.1704| Training ACC: 82.6701| Testing ACC: 81.7285|\n",
            "[Epoch:57/100] Training Loss: 10564.3971| Testing Loss: 10765.1704| Training ACC: 82.6562| Testing ACC: 81.7285|\n",
            "[Epoch:58/100] Training Loss: 10564.0956| Testing Loss: 10765.1704| Training ACC: 82.6673| Testing ACC: 81.7285|\n",
            "[Epoch:59/100] Training Loss: 10564.7358| Testing Loss: 10765.1704| Training ACC: 82.6729| Testing ACC: 81.7285|\n",
            "[Epoch:60/100] Training Loss: 10563.7997| Testing Loss: 10765.1704| Training ACC: 82.6646| Testing ACC: 81.7285|\n",
            "[Epoch:61/100] Training Loss: 10564.5295| Testing Loss: 10765.1704| Training ACC: 82.6590| Testing ACC: 81.7285|\n",
            "[Epoch:62/100] Training Loss: 10565.6770| Testing Loss: 10765.1704| Training ACC: 82.6562| Testing ACC: 81.7285|\n",
            "[Epoch:63/100] Training Loss: 10564.2365| Testing Loss: 10765.1704| Training ACC: 82.6701| Testing ACC: 81.7285|\n",
            "[Epoch:64/100] Training Loss: 10566.8532| Testing Loss: 10765.1704| Training ACC: 82.6341| Testing ACC: 81.7285|\n",
            "[Epoch:65/100] Training Loss: 10566.3258| Testing Loss: 10765.1704| Training ACC: 82.6507| Testing ACC: 81.7285|\n",
            "[Epoch:66/100] Training Loss: 10565.6894| Testing Loss: 10765.1704| Training ACC: 82.6535| Testing ACC: 81.7285|\n",
            "[Epoch:67/100] Training Loss: 10564.8971| Testing Loss: 10765.1704| Training ACC: 82.6618| Testing ACC: 81.7285|\n",
            "[Epoch:68/100] Training Loss: 10566.3768| Testing Loss: 10765.1704| Training ACC: 82.6535| Testing ACC: 81.7285|\n",
            "[Epoch:69/100] Training Loss: 10565.3802| Testing Loss: 10765.1704| Training ACC: 82.6618| Testing ACC: 81.7285|\n",
            "[Epoch:70/100] Training Loss: 10566.8252| Testing Loss: 10765.1704| Training ACC: 82.6590| Testing ACC: 81.7285|\n",
            "[Epoch:71/100] Training Loss: 10565.0834| Testing Loss: 10765.1704| Training ACC: 82.6562| Testing ACC: 81.7285|\n",
            "[Epoch:72/100] Training Loss: 10563.3575| Testing Loss: 10765.1704| Training ACC: 82.6812| Testing ACC: 81.7285|\n",
            "[Epoch:73/100] Training Loss: 10563.5328| Testing Loss: 10765.1704| Training ACC: 82.6673| Testing ACC: 81.7285|\n",
            "[Epoch:74/100] Training Loss: 10566.6591| Testing Loss: 10765.1704| Training ACC: 82.6562| Testing ACC: 81.7285|\n",
            "[Epoch:75/100] Training Loss: 10564.6939| Testing Loss: 10765.1704| Training ACC: 82.6535| Testing ACC: 81.7285|\n",
            "[Epoch:76/100] Training Loss: 10564.4776| Testing Loss: 10765.1704| Training ACC: 82.6729| Testing ACC: 81.7285|\n",
            "[Epoch:77/100] Training Loss: 10565.1942| Testing Loss: 10765.1704| Training ACC: 82.6590| Testing ACC: 81.7285|\n",
            "[Epoch:78/100] Training Loss: 10564.4813| Testing Loss: 10765.1704| Training ACC: 82.6701| Testing ACC: 81.7285|\n",
            "[Epoch:79/100] Training Loss: 10564.8124| Testing Loss: 10765.1704| Training ACC: 82.6562| Testing ACC: 81.7285|\n",
            "[Epoch:80/100] Training Loss: 10565.5324| Testing Loss: 10765.1704| Training ACC: 82.6479| Testing ACC: 81.7285|\n",
            "[Epoch:81/100] Training Loss: 10563.6815| Testing Loss: 10765.1704| Training ACC: 82.6673| Testing ACC: 81.7285|\n",
            "[Epoch:82/100] Training Loss: 10563.9346| Testing Loss: 10765.1704| Training ACC: 82.6673| Testing ACC: 81.7285|\n",
            "[Epoch:83/100] Training Loss: 10564.4851| Testing Loss: 10765.1704| Training ACC: 82.6535| Testing ACC: 81.7285|\n",
            "[Epoch:84/100] Training Loss: 10564.3109| Testing Loss: 10765.1704| Training ACC: 82.6590| Testing ACC: 81.7285|\n",
            "[Epoch:85/100] Training Loss: 10567.5242| Testing Loss: 10765.1704| Training ACC: 82.6424| Testing ACC: 81.7285|\n",
            "[Epoch:86/100] Training Loss: 10564.4790| Testing Loss: 10765.1704| Training ACC: 82.6618| Testing ACC: 81.7285|\n",
            "[Epoch:87/100] Training Loss: 10564.1987| Testing Loss: 10765.1704| Training ACC: 82.6535| Testing ACC: 81.7285|\n",
            "[Epoch:88/100] Training Loss: 10563.0309| Testing Loss: 10765.1704| Training ACC: 82.6756| Testing ACC: 81.7285|\n",
            "[Epoch:89/100] Training Loss: 10567.5773| Testing Loss: 10765.1704| Training ACC: 82.6341| Testing ACC: 81.7285|\n",
            "[Epoch:90/100] Training Loss: 10563.3085| Testing Loss: 10765.1704| Training ACC: 82.6812| Testing ACC: 81.7285|\n",
            "[Epoch:91/100] Training Loss: 10562.9965| Testing Loss: 10765.1704| Training ACC: 82.6756| Testing ACC: 81.7285|\n",
            "[Epoch:92/100] Training Loss: 10564.5308| Testing Loss: 10765.1704| Training ACC: 82.6562| Testing ACC: 81.7285|\n",
            "[Epoch:93/100] Training Loss: 10562.6309| Testing Loss: 10765.1704| Training ACC: 82.6701| Testing ACC: 81.7285|\n",
            "[Epoch:94/100] Training Loss: 10564.5849| Testing Loss: 10765.1704| Training ACC: 82.6673| Testing ACC: 81.7285|\n",
            "[Epoch:95/100] Training Loss: 10565.0298| Testing Loss: 10765.1704| Training ACC: 82.6618| Testing ACC: 81.7285|\n",
            "[Epoch:96/100] Training Loss: 10564.1653| Testing Loss: 10765.1704| Training ACC: 82.6618| Testing ACC: 81.7285|\n",
            "[Epoch:97/100] Training Loss: 10566.0022| Testing Loss: 10765.1704| Training ACC: 82.6479| Testing ACC: 81.7285|\n",
            "[Epoch:98/100] Training Loss: 10563.7604| Testing Loss: 10765.1704| Training ACC: 82.6646| Testing ACC: 81.7285|\n",
            "[Epoch:99/100] Training Loss: 10567.0333| Testing Loss: 10765.1704| Training ACC: 82.6424| Testing ACC: 81.7285|\n",
            "[Epoch:100/100] Training Loss: 10565.7091| Testing Loss: 10765.1704| Training ACC: 82.6618| Testing ACC: 81.7285|\n"
          ],
          "name": "stdout"
        }
      ]
    },
    {
      "cell_type": "code",
      "metadata": {
        "colab_type": "code",
        "outputId": "d635671c-60d4-4f25-c63c-40bfa0425672",
        "id": "NfVPlr_fM41i",
        "colab": {
          "base_uri": "https://localhost:8080/",
          "height": 299
        }
      },
      "source": [
        "plt.plot([i for i in train_loss] , label='train')\n",
        "plt.plot([i for i in test_loss ] , label ='test')\n",
        "plt.legend()\n",
        "plt.title('trianing loss: 1000, 100')"
      ],
      "execution_count": 0,
      "outputs": [
        {
          "output_type": "execute_result",
          "data": {
            "text/plain": [
              "Text(0.5, 1.0, 'trianing loss: 1000, 100')"
            ]
          },
          "metadata": {
            "tags": []
          },
          "execution_count": 58
        },
        {
          "output_type": "display_data",
          "data": {
            "image/png": "[encoded data removed]",
            "text/plain": [
              "<Figure size 432x288 with 1 Axes>"
            ]
          },
          "metadata": {
            "tags": []
          }
        }
      ]
    },
    {
      "cell_type": "code",
      "metadata": {
        "colab_type": "code",
        "outputId": "a450a50c-42f1-45c2-ad31-b99ba2d31c83",
        "id": "owY7GkbpM41m",
        "colab": {
          "base_uri": "https://localhost:8080/",
          "height": 299
        }
      },
      "source": [
        "plt.plot([i for i in train_acc] , label='train')\n",
        "plt.plot([i for i in test_acc ] , label ='test')\n",
        "plt.legend()\n",
        "plt.title('trianing acc: auto encoder')"
      ],
      "execution_count": 0,
      "outputs": [
        {
          "output_type": "execute_result",
          "data": {
            "text/plain": [
              "Text(0.5, 1.0, 'trianing acc: auto encoder')"
            ]
          },
          "metadata": {
            "tags": []
          },
          "execution_count": 59
        },
        {
          "output_type": "display_data",
          "data": {
            "image/png": "[encoded data removed]",
            "text/plain": [
              "<Figure size 432x288 with 1 Axes>"
            ]
          },
          "metadata": {
            "tags": []
          }
        }
      ]
    },
    {
      "cell_type": "code",
      "metadata": {
        "colab_type": "code",
        "id": "cefK9WkAM41q",
        "colab": {}
      },
      "source": [
        "test_dl = DataLoader(test_ds , batch_size=len(test_ds) , shuffle= False , num_workers = 1)"
      ],
      "execution_count": 0,
      "outputs": []
    },
    {
      "cell_type": "code",
      "metadata": {
        "colab_type": "code",
        "id": "fF7XYAj3M41u",
        "colab": {}
      },
      "source": [
        "fs , ts = next(iter(test_dl))\n",
        "fs , ts = fs.to(device) , ts.to(device)\n",
        "\n",
        "output = net2(encoder.encode(fs))\n",
        "mx , argmx = torch.max(output, dim=1)\n"
      ],
      "execution_count": 0,
      "outputs": []
    },
    {
      "cell_type": "code",
      "metadata": {
        "colab_type": "code",
        "outputId": "94d70ecf-be2f-4241-bc7c-a8feadb9e9b5",
        "id": "56EcpBRHM41y",
        "colab": {
          "base_uri": "https://localhost:8080/",
          "height": 544
        }
      },
      "source": [
        "plt_conf_mat(ts.to('cpu'), argmx.to('cpu'), fmnist_test.classes)"
      ],
      "execution_count": 0,
      "outputs": [
        {
          "output_type": "execute_result",
          "data": {
            "text/plain": [
              "<sklearn.metrics._plot.confusion_matrix.ConfusionMatrixDisplay at 0x7f53b1e3de80>"
            ]
          },
          "metadata": {
            "tags": []
          },
          "execution_count": 62
        },
        {
          "output_type": "display_data",
          "data": {
            "image/png": "[encoded data removed]",
            "text/plain": [
              "<Figure size 648x648 with 2 Axes>"
            ]
          },
          "metadata": {
            "tags": []
          }
        }
      ]
    },
    {
      "cell_type": "code",
      "metadata": {
        "colab_type": "code",
        "outputId": "f1ec5ce9-2944-43fe-cbfd-fe3653106d94",
        "id": "DqyltlwmM412",
        "colab": {
          "base_uri": "https://localhost:8080/",
          "height": 35
        }
      },
      "source": [
        "accuracy_score(ts.to('cpu'), argmx.to('cpu'))"
      ],
      "execution_count": 0,
      "outputs": [
        {
          "output_type": "execute_result",
          "data": {
            "text/plain": [
              "0.8174"
            ]
          },
          "metadata": {
            "tags": []
          },
          "execution_count": 63
        }
      ]
    },
    {
      "cell_type": "code",
      "metadata": {
        "id": "tOLydsIRQN5e",
        "colab_type": "code",
        "colab": {}
      },
      "source": [
        ""
      ],
      "execution_count": 0,
      "outputs": []
    }
  ]
}